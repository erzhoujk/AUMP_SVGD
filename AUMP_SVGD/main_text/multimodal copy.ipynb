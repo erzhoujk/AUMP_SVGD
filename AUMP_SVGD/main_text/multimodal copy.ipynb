{
 "cells": [
  {
   "cell_type": "code",
   "execution_count": 1,
   "metadata": {},
   "outputs": [
    {
     "name": "stderr",
     "output_type": "stream",
     "text": [
      "/home/zhoujk/anaconda3/envs/AG/lib/python3.9/site-packages/tqdm/auto.py:22: TqdmWarning: IProgress not found. Please update jupyter and ipywidgets. See https://ipywidgets.readthedocs.io/en/stable/user_install.html\n",
      "  from .autonotebook import tqdm as notebook_tqdm\n"
     ]
    }
   ],
   "source": [
    "import os\n",
    "import numpy as np\n",
    "import torch\n",
    "import torch.optim as optim\n",
    "import torch.distributions as D\n",
    "from tqdm import tqdm, trange\n",
    "from src.svgd import SVGD\n",
    "from src.gsvgd import FullGSVGDBatch\n",
    "from src.kernel import RBF, BatchRBF\n",
    "from src.utils import plot_particles\n",
    "from src.Tmy_svgd import tmySVGD\n",
    "from src.manifold import Grassmann\n",
    "from src.s_svgd import SlicedSVGD\n",
    "from src.mysvgd import etmySVGD\n",
    "import matplotlib.pyplot as plt\n",
    "from src.rand_mysvgd import min_mySVGD\n",
    "\n",
    "import pickle\n",
    "import argparse\n",
    "import time\n",
    "\n",
    "import torch.autograd as autograd\n",
    "from scipy.stats import energy_distance\n"
   ]
  },
  {
   "cell_type": "code",
   "execution_count": null,
   "metadata": {},
   "outputs": [],
   "source": []
  },
  {
   "cell_type": "code",
   "execution_count": 2,
   "metadata": {},
   "outputs": [
    {
     "data": {
      "text/plain": [
       "_StoreAction(option_strings=['--method'], dest='method', nargs=None, const=None, default='all', type=<class 'str'>, choices=None, required=False, help='which method to use', metavar=None)"
      ]
     },
     "execution_count": 2,
     "metadata": {},
     "output_type": "execute_result"
    }
   ],
   "source": [
    "parser = argparse.ArgumentParser(description='Running xshaped experiment.')\n",
    "parser.add_argument('--dim', type=int,default=5, help='dimension')\n",
    "parser.add_argument('--effdim', type=int, default=-1, help='dimension')\n",
    "parser.add_argument('--lr', type=float,default=0.01, help='learning rate')\n",
    "parser.add_argument('--lr_g', type=float, default=0.1, help='learning rate for g')\n",
    "parser.add_argument('--delta', type=float,default=0.01, help='stepsize for projections')\n",
    "parser.add_argument('--T', type=float, default=1e-4, help='noise multiplier for projections')\n",
    "parser.add_argument('--nparticles', type=int,default=100, help='no. of particles')\n",
    "parser.add_argument('--epochs', type=int, default=50000,help='no. of epochs')\n",
    "parser.add_argument('--nmix', type=int, default=2, help='no. of modes')\n",
    "parser.add_argument('--metric', type=str, default=\"energy\", help='distance metric')\n",
    "parser.add_argument('--noise', type=str, default=\"True\", help='whether to add noise')\n",
    "parser.add_argument('--kernel', type=str, default=\"rbf\", help='kernel')\n",
    "parser.add_argument('--gpu', type=int, default=3, help='gpu')\n",
    "parser.add_argument('--seed', type=int, default=0, help='random seed') \n",
    "parser.add_argument('--suffix', type=str, default=\"\", help='suffix for res folder')\n",
    "parser.add_argument('--m', type=int, help='no. of projections')\n",
    "parser.add_argument('--save_every', type=int, default=200, help='step intervals to save particles')\n",
    "parser.add_argument('--method', type=str, default=\"all\", help='which method to use')\n",
    "\n"
   ]
  },
  {
   "cell_type": "code",
   "execution_count": 3,
   "metadata": {},
   "outputs": [
    {
     "name": "stdout",
     "output_type": "stream",
     "text": [
      "Running for dim: 5, lr: 0.01, nparticles: 100\n"
     ]
    }
   ],
   "source": [
    "args = parser.parse_args([])\n",
    "device = torch.device(f'cuda:{args.gpu}' if args.gpu != -1 else 'cpu')\n",
    "dim = args.dim\n",
    "lr = args.lr\n",
    "delta = args.delta\n",
    "T = args.T\n",
    "nparticles = args.nparticles\n",
    "epochs = args.epochs\n",
    "seed = args.seed\n",
    "eff_dims = [args.effdim] if args.effdim > 0 else [1, 2, 5]\n",
    "nmix = args.nmix\n",
    "add_noise = True if args.noise == \"True\" else False\n",
    "radius = 5\n",
    "save_every = args.save_every\n",
    "print(f\"Running for dim: {dim}, lr: {lr}, nparticles: {nparticles}\")"
   ]
  },
  {
   "cell_type": "code",
   "execution_count": null,
   "metadata": {},
   "outputs": [],
   "source": []
  },
  {
   "cell_type": "code",
   "execution_count": 4,
   "metadata": {},
   "outputs": [],
   "source": [
    "def comm_func_eval(samples, ground_truth):\n",
    "\n",
    "    samples = samples.clone()\n",
    "    ground_truth = ground_truth.clone()\n",
    "\n",
    "    def ex():\n",
    "        f0 = torch.mean(samples, axis=0)\n",
    "        f1 = torch.mean(ground_truth, axis=0)\n",
    "        return torch.mean((f0-f1)**2)\n",
    "\n",
    "    def exsqr():\n",
    "        f0 = torch.var(samples, axis=0)\n",
    "        f1 = torch.var(ground_truth, axis=0)\n",
    "        return torch.mean((f0-f1)**2)\n",
    "\n",
    "\n",
    "    out = {}\n",
    "    out['mean_dis'] = ex()\n",
    "    out['var_dis'] = exsqr()\n",
    "    return out"
   ]
  },
  {
   "cell_type": "code",
   "execution_count": 5,
   "metadata": {},
   "outputs": [],
   "source": [
    "\n",
    "device = torch.device(f'cuda:{args.gpu}' if args.gpu != -1 else 'cpu')\n",
    "\n",
    "metric = args.metric\n",
    "\n",
    "results_folder = f\"./res/multimodal{args.suffix}/{args.kernel}_epoch{epochs}_lr{lr}_delta{delta}_n{nparticles}_dim{dim}\"\n",
    "results_folder = f\"{results_folder}/seed{seed}\""
   ]
  },
  {
   "cell_type": "code",
   "execution_count": 6,
   "metadata": {},
   "outputs": [],
   "source": [
    "def mix_gauss_experiment(mixture_dist, means):\n",
    "    '''Mixture of Multivariate gaussian with cov matrices being the identity.\n",
    "    Args:\n",
    "        probs: Tensor of shape (nmix,) for the mixture_distribution.\n",
    "        means: Tensor of shape (nmix, d), where nmix is the number of components \n",
    "            and d is the dimension of each component.\n",
    "    '''\n",
    "    nmix = means.shape[0]\n",
    "    comp = D.Independent(D.Normal(means.to(device), torch.ones((nmix, means.shape[1]), device=device)), 1)\n",
    "    distribution = D.mixture_same_family.MixtureSameFamily(mixture_dist, comp) \n",
    "    return distribution\n",
    "\n",
    "\n",
    "def points_on_circle(theta, rad):\n",
    "    '''Generate d-dim points whose first two dimensions lies on a circle of \n",
    "    radius rad, with position being specified by the angle from the positive \n",
    "    x-axis theta.\n",
    "    '''\n",
    "    return torch.Tensor([[rad * np.cos(theta + 0.25*np.pi), rad * np.sin(theta + 0.25*np.pi)]])"
   ]
  },
  {
   "cell_type": "code",
   "execution_count": 7,
   "metadata": {},
   "outputs": [],
   "source": [
    "\n",
    "if not os.path.exists(results_folder):\n",
    "    os.makedirs(results_folder)\n",
    "\n",
    "if args.kernel == \"rbf\":\n",
    "    Kernel = RBF\n",
    "    BatchKernel = BatchRBF\n",
    "kernel = Kernel(method=\"med_heuristic\")"
   ]
  },
  {
   "cell_type": "code",
   "execution_count": 8,
   "metadata": {},
   "outputs": [
    {
     "name": "stdout",
     "output_type": "stream",
     "text": [
      "Running for dim: 5, lr: 0.01, nparticles: 100\n"
     ]
    }
   ],
   "source": [
    "args = parser.parse_args([])\n",
    "device = torch.device(f'cuda:{args.gpu}' if args.gpu != -1 else 'cpu')\n",
    "dim = args.dim\n",
    "lr = args.lr\n",
    "delta = args.delta\n",
    "T = args.T\n",
    "nparticles = args.nparticles\n",
    "epochs = args.epochs\n",
    "seed = args.seed\n",
    "eff_dims = [args.effdim] if args.effdim > 0 else [1, 2, 5]\n",
    "nmix = args.nmix\n",
    "add_noise = True if args.noise == \"True\" else False\n",
    "radius = 5\n",
    "save_every = args.save_every\n",
    "print(f\"Running for dim: {dim}, lr: {lr}, nparticles: {nparticles}\")\n",
    "\n",
    "def comm_func_eval(samples, ground_truth):\n",
    "\n",
    "    samples = samples.clone()\n",
    "    ground_truth = ground_truth.clone()\n",
    "\n",
    "    def ex():\n",
    "        f0 = torch.mean(samples, axis=0)\n",
    "        f1 = torch.mean(ground_truth, axis=0)\n",
    "        return torch.mean((f0-f1)**2)\n",
    "\n",
    "    def exsqr():\n",
    "        f0 = torch.var(samples, axis=0)\n",
    "        f1 = torch.var(ground_truth, axis=0)\n",
    "        return torch.mean((f0-f1)**2)\n",
    "\n",
    "\n",
    "    out = {}\n",
    "    out['mean_dis'] = ex()\n",
    "    out['var_dis'] = exsqr()\n",
    "    return out\n",
    "\n",
    "\n",
    "def score(X):\n",
    "        X_cp = X.clone().detach().requires_grad_()\n",
    "        log_prob = distribution.log_prob(X_cp)\n",
    "        score_func = autograd.grad(log_prob.sum(), X_cp)[0]\n",
    "        return score_func\n",
    "\n",
    "def energy_dis(x, x_target, dim):\n",
    "    a = 0\n",
    "    for i in range(x.shape[1]):\n",
    "        x_dim = x[:,i]\n",
    "        x_target_dim = x_target[:,i]\n",
    "        a = a + energy_distance(x_dim.cpu().detach().numpy(), x_target_dim.cpu().detach().numpy())\n",
    "    \n",
    "    a = a / dim\n",
    "    \n",
    "    return a\n",
    "\n",
    "\n",
    "\n",
    "if args.kernel == \"rbf\":\n",
    "    Kernel = RBF\n",
    "    BatchKernel = BatchRBF"
   ]
  },
  {
   "cell_type": "code",
   "execution_count": 9,
   "metadata": {},
   "outputs": [
    {
     "name": "stdout",
     "output_type": "stream",
     "text": [
      "Device: cuda:3\n"
     ]
    }
   ],
   "source": [
    "print(f\"Device: {device}\")\n",
    "torch.manual_seed(seed)\n",
    "list_norm = torch.zeros(20, 4)\n",
    "list_gr_var = torch.zeros(20, 4)\n",
    "list_tr = torch.zeros(20, 4)\n",
    "list_eig = torch.zeros(20, 4)\n",
    "list_energy = torch.zeros(20, 4)\n",
    "\n",
    "s = -1"
   ]
  },
  {
   "cell_type": "code",
   "execution_count": 10,
   "metadata": {},
   "outputs": [
    {
     "name": "stdout",
     "output_type": "stream",
     "text": [
      "Running for dim: 5\n",
      "#####################################################\n",
      "Running SVGD >>>>>>>>>>>>>>>>>>\n"
     ]
    },
    {
     "name": "stderr",
     "output_type": "stream",
     "text": [
      "100%|██████████| 50000/50000 [03:27<00:00, 240.62it/s]\n",
      "/tmp/ipykernel_1857540/1099287974.py:54: UserWarning: Casting complex values to real discards the imaginary part (Triggered internally at /opt/conda/conda-bld/pytorch_1666643016022/work/aten/src/ATen/native/Copy.cpp:250.)\n",
      "  list_eig[s,0] = evals[0]\n"
     ]
    },
    {
     "name": "stdout",
     "output_type": "stream",
     "text": [
      "norm_mse of svgd : 1.870155692100525\n",
      "mmd of svgd : 0.3287099003791809\n",
      "trace of svgd: 0.2635122537612915\n",
      "eig of svgd is : (-1.3219611644744873+0j)\n",
      "energy of svgd is : 0.2934601376914839\n",
      "Running mysvgd >>>>>>>>>>>>>>>>>>>>>>>\n"
     ]
    },
    {
     "name": "stderr",
     "output_type": "stream",
     "text": [
      "100%|██████████| 20000/20000 [06:14<00:00, 53.42it/s]\n"
     ]
    },
    {
     "name": "stdout",
     "output_type": "stream",
     "text": [
      "norm_mse of mysvgd : 2.1231632232666016\n",
      "mmd of mysvgd : 0.4813431203365326\n",
      "trace of mysvgd: -0.9696491360664368\n",
      "eig of mysvgd is : (-1.8180630207061768+0j)\n",
      "energy of mysvgd is : 0.1936267681655142\n",
      "Running GSVGD with eff dim = 1\n",
      "number of projections: 5\n"
     ]
    },
    {
     "name": "stderr",
     "output_type": "stream",
     "text": [
      "  2%|▏         | 997/50000 [00:26<22:04, 37.00it/s]/home/zhoujk/SVGD/SVGD_code/GSVGD-main/src/gsvgd.py:262: UserWarning: torch.qr is deprecated in favor of torch.linalg.qr and will be removed in a future PyTorch release.\n",
      "The boolean parameter 'some' has been replaced with a string parameter 'mode'.\n",
      "Q, R = torch.qr(A, some)\n",
      "should be replaced with\n",
      "Q, R = torch.linalg.qr(A, 'reduced' if some else 'complete') (Triggered internally at /opt/conda/conda-bld/pytorch_1666643016022/work/aten/src/ATen/native/BatchLinearAlgebra.cpp:2349.)\n",
      "  A, _ = torch.qr(A)\n",
      "100%|██████████| 50000/50000 [21:03<00:00, 39.57it/s]\n"
     ]
    },
    {
     "name": "stdout",
     "output_type": "stream",
     "text": [
      "Running GSVGD with eff dim = 2\n",
      "number of projections: 2\n"
     ]
    },
    {
     "name": "stderr",
     "output_type": "stream",
     "text": [
      "100%|██████████| 50000/50000 [21:28<00:00, 38.80it/s]\n"
     ]
    },
    {
     "name": "stdout",
     "output_type": "stream",
     "text": [
      "Running GSVGD with eff dim = 5\n",
      "number of projections: 1\n"
     ]
    },
    {
     "name": "stderr",
     "output_type": "stream",
     "text": [
      "100%|██████████| 50000/50000 [21:11<00:00, 39.33it/s]\n"
     ]
    },
    {
     "name": "stdout",
     "output_type": "stream",
     "text": [
      "norm_mse of mysvgd : 2.038560628890991\n",
      "mmd of mysvgd : 0.3934960961341858\n",
      "trace of mysvgd: 0.9066106081008911\n",
      "eig of mysvgd is : (-1.420514464378357+0j)\n",
      "energy of mysvgd is : 0.2582384562635255\n",
      "Running S-SVGD >>>>>>>>>>>>>>>>>>>>>>>\n"
     ]
    },
    {
     "name": "stderr",
     "output_type": "stream",
     "text": [
      "100%|██████████| 50000/50000 [10:39<00:00, 78.14it/s] \n"
     ]
    },
    {
     "name": "stdout",
     "output_type": "stream",
     "text": [
      "norm_mse of mysvgd : 2.1585428714752197\n",
      "mmd of mysvgd : 0.4376320540904999\n",
      "trace of mysvgd: -0.9753745794296265\n",
      "eig of mysvgd is : (-1.9187865257263184+0j)\n",
      "energy of mysvgd is : 0.2628116730788622\n",
      "Running for dim: 10\n",
      "#####################################################\n",
      "Running SVGD >>>>>>>>>>>>>>>>>>\n"
     ]
    },
    {
     "name": "stderr",
     "output_type": "stream",
     "text": [
      "100%|██████████| 50000/50000 [03:04<00:00, 270.70it/s]\n"
     ]
    },
    {
     "name": "stdout",
     "output_type": "stream",
     "text": [
      "norm_mse of svgd : 2.1009714603424072\n",
      "mmd of svgd : 0.0813242569565773\n",
      "trace of svgd: 0.2847434878349304\n",
      "eig of svgd is : (-1.6020543575286865+0j)\n",
      "energy of svgd is : 0.1311446247427375\n",
      "Running mysvgd >>>>>>>>>>>>>>>>>>>>>>>\n"
     ]
    },
    {
     "name": "stderr",
     "output_type": "stream",
     "text": [
      "100%|██████████| 20000/20000 [14:41<00:00, 22.70it/s]\n"
     ]
    },
    {
     "name": "stdout",
     "output_type": "stream",
     "text": [
      "norm_mse of mysvgd : 2.4550788402557373\n",
      "mmd of mysvgd : 0.06861469894647598\n",
      "trace of mysvgd: -0.3879725933074951\n",
      "eig of mysvgd is : (-1.6887787580490112+0j)\n",
      "energy of mysvgd is : 0.14263796350105093\n",
      "Running GSVGD with eff dim = 1\n",
      "number of projections: 10\n"
     ]
    },
    {
     "name": "stderr",
     "output_type": "stream",
     "text": [
      "100%|██████████| 50000/50000 [20:18<00:00, 41.03it/s]\n"
     ]
    },
    {
     "name": "stdout",
     "output_type": "stream",
     "text": [
      "Running GSVGD with eff dim = 2\n",
      "number of projections: 5\n"
     ]
    },
    {
     "name": "stderr",
     "output_type": "stream",
     "text": [
      "100%|██████████| 50000/50000 [21:03<00:00, 39.57it/s]\n"
     ]
    },
    {
     "name": "stdout",
     "output_type": "stream",
     "text": [
      "Running GSVGD with eff dim = 5\n",
      "number of projections: 2\n"
     ]
    },
    {
     "name": "stderr",
     "output_type": "stream",
     "text": [
      "100%|██████████| 50000/50000 [20:04<00:00, 41.51it/s]\n"
     ]
    },
    {
     "name": "stdout",
     "output_type": "stream",
     "text": [
      "norm_mse of mysvgd : 2.3509292602539062\n",
      "mmd of mysvgd : 0.13764429092407227\n",
      "trace of mysvgd: 1.9698641300201416\n",
      "eig of mysvgd is : (-1.5949381589889526+0j)\n",
      "energy of mysvgd is : 0.15574531857651536\n",
      "Running S-SVGD >>>>>>>>>>>>>>>>>>>>>>>\n"
     ]
    },
    {
     "name": "stderr",
     "output_type": "stream",
     "text": [
      "100%|██████████| 50000/50000 [09:57<00:00, 83.74it/s] \n"
     ]
    },
    {
     "name": "stdout",
     "output_type": "stream",
     "text": [
      "norm_mse of mysvgd : 2.495126485824585\n",
      "mmd of mysvgd : 0.21320366859436035\n",
      "trace of mysvgd: 1.9009621143341064\n",
      "eig of mysvgd is : (1.903307557106018+0j)\n",
      "energy of mysvgd is : 0.13921389425911757\n",
      "Running for dim: 15\n",
      "#####################################################\n",
      "Running SVGD >>>>>>>>>>>>>>>>>>\n"
     ]
    },
    {
     "name": "stderr",
     "output_type": "stream",
     "text": [
      "100%|██████████| 50000/50000 [02:43<00:00, 305.34it/s]\n"
     ]
    },
    {
     "name": "stdout",
     "output_type": "stream",
     "text": [
      "norm_mse of svgd : 3.2651901245117188\n",
      "mmd of svgd : 0.26048585772514343\n",
      "trace of svgd: 7.332609176635742\n",
      "eig of svgd is : (-1.0059247016906738+0j)\n",
      "energy of svgd is : 0.2336186809447471\n",
      "Running mysvgd >>>>>>>>>>>>>>>>>>>>>>>\n"
     ]
    },
    {
     "name": "stderr",
     "output_type": "stream",
     "text": [
      "100%|██████████| 20000/20000 [17:55<00:00, 18.60it/s]\n"
     ]
    },
    {
     "name": "stdout",
     "output_type": "stream",
     "text": [
      "norm_mse of mysvgd : 3.5922436714172363\n",
      "mmd of mysvgd : 0.01967620477080345\n",
      "trace of mysvgd: 0.12354147434234619\n",
      "eig of mysvgd is : (2.35280179977417+0j)\n",
      "energy of mysvgd is : 0.136101893393052\n",
      "Running GSVGD with eff dim = 1\n",
      "number of projections: 15\n"
     ]
    },
    {
     "name": "stderr",
     "output_type": "stream",
     "text": [
      "100%|██████████| 50000/50000 [19:40<00:00, 42.35it/s]\n"
     ]
    },
    {
     "name": "stdout",
     "output_type": "stream",
     "text": [
      "Running GSVGD with eff dim = 2\n",
      "number of projections: 7\n"
     ]
    },
    {
     "name": "stderr",
     "output_type": "stream",
     "text": [
      "100%|██████████| 50000/50000 [20:51<00:00, 39.97it/s]\n"
     ]
    },
    {
     "name": "stdout",
     "output_type": "stream",
     "text": [
      "Running GSVGD with eff dim = 5\n",
      "number of projections: 3\n"
     ]
    },
    {
     "name": "stderr",
     "output_type": "stream",
     "text": [
      "100%|██████████| 50000/50000 [20:36<00:00, 40.43it/s]\n"
     ]
    },
    {
     "name": "stdout",
     "output_type": "stream",
     "text": [
      "norm_mse of mysvgd : 3.1827056407928467\n",
      "mmd of mysvgd : 0.21694344282150269\n",
      "trace of mysvgd: 6.611688613891602\n",
      "eig of mysvgd is : (2.123818874359131+0j)\n",
      "energy of mysvgd is : 0.21184762329377574\n",
      "Running S-SVGD >>>>>>>>>>>>>>>>>>>>>>>\n"
     ]
    },
    {
     "name": "stderr",
     "output_type": "stream",
     "text": [
      "100%|██████████| 50000/50000 [10:08<00:00, 82.21it/s] \n"
     ]
    },
    {
     "name": "stdout",
     "output_type": "stream",
     "text": [
      "norm_mse of mysvgd : 4.261358261108398\n",
      "mmd of mysvgd : 0.11094582825899124\n",
      "trace of mysvgd: 4.413021087646484\n",
      "eig of mysvgd is : (-2.7631278038024902+0j)\n",
      "energy of mysvgd is : 0.1819295522027851\n",
      "Running for dim: 20\n",
      "#####################################################\n",
      "Running SVGD >>>>>>>>>>>>>>>>>>\n"
     ]
    },
    {
     "name": "stderr",
     "output_type": "stream",
     "text": [
      "100%|██████████| 50000/50000 [02:59<00:00, 278.34it/s]\n"
     ]
    },
    {
     "name": "stdout",
     "output_type": "stream",
     "text": [
      "norm_mse of svgd : 4.492527484893799\n",
      "mmd of svgd : 0.21782703697681427\n",
      "trace of svgd: 5.992672920227051\n",
      "eig of svgd is : (3.2775585651397705+0j)\n",
      "energy of svgd is : 0.13362173408843583\n",
      "Running mysvgd >>>>>>>>>>>>>>>>>>>>>>>\n"
     ]
    },
    {
     "name": "stderr",
     "output_type": "stream",
     "text": [
      "100%|██████████| 20000/20000 [25:19<00:00, 13.16it/s]\n"
     ]
    },
    {
     "name": "stdout",
     "output_type": "stream",
     "text": [
      "norm_mse of mysvgd : 4.689162254333496\n",
      "mmd of mysvgd : 0.1872454285621643\n",
      "trace of mysvgd: 1.2345104217529297\n",
      "eig of mysvgd is : (3.3768811225891113+0j)\n",
      "energy of mysvgd is : 0.09302457372653616\n",
      "Running GSVGD with eff dim = 1\n",
      "number of projections: 20\n"
     ]
    },
    {
     "name": "stderr",
     "output_type": "stream",
     "text": [
      "100%|██████████| 50000/50000 [20:25<00:00, 40.79it/s]\n"
     ]
    },
    {
     "name": "stdout",
     "output_type": "stream",
     "text": [
      "Running GSVGD with eff dim = 2\n",
      "number of projections: 10\n"
     ]
    },
    {
     "name": "stderr",
     "output_type": "stream",
     "text": [
      "100%|██████████| 50000/50000 [22:28<00:00, 37.09it/s]\n"
     ]
    },
    {
     "name": "stdout",
     "output_type": "stream",
     "text": [
      "Running GSVGD with eff dim = 5\n",
      "number of projections: 4\n"
     ]
    },
    {
     "name": "stderr",
     "output_type": "stream",
     "text": [
      "100%|██████████| 50000/50000 [22:16<00:00, 37.40it/s]\n"
     ]
    },
    {
     "name": "stdout",
     "output_type": "stream",
     "text": [
      "norm_mse of mysvgd : 4.708903789520264\n",
      "mmd of mysvgd : 0.3124522864818573\n",
      "trace of mysvgd: 8.584290504455566\n",
      "eig of mysvgd is : (3.3106255531311035+0j)\n",
      "energy of mysvgd is : 0.164042540213243\n",
      "Running S-SVGD >>>>>>>>>>>>>>>>>>>>>>>\n"
     ]
    },
    {
     "name": "stderr",
     "output_type": "stream",
     "text": [
      "100%|██████████| 50000/50000 [10:26<00:00, 79.84it/s] \n"
     ]
    },
    {
     "name": "stdout",
     "output_type": "stream",
     "text": [
      "norm_mse of mysvgd : 5.3883514404296875\n",
      "mmd of mysvgd : 0.23265047371387482\n",
      "trace of mysvgd: 5.934279441833496\n",
      "eig of mysvgd is : (3.611668586730957+0j)\n",
      "energy of mysvgd is : 0.1382329593718162\n",
      "Running for dim: 25\n",
      "#####################################################\n",
      "Running SVGD >>>>>>>>>>>>>>>>>>\n"
     ]
    },
    {
     "name": "stderr",
     "output_type": "stream",
     "text": [
      "100%|██████████| 50000/50000 [02:53<00:00, 288.26it/s]\n"
     ]
    },
    {
     "name": "stdout",
     "output_type": "stream",
     "text": [
      "norm_mse of svgd : 4.1528120040893555\n",
      "mmd of svgd : 0.18036270141601562\n",
      "trace of svgd: 9.750812530517578\n",
      "eig of svgd is : (2.2867202758789062+0j)\n",
      "energy of svgd is : 0.17634321857664997\n",
      "Running mysvgd >>>>>>>>>>>>>>>>>>>>>>>\n"
     ]
    },
    {
     "name": "stderr",
     "output_type": "stream",
     "text": [
      " 84%|████████▍ | 16751/20000 [30:39<05:56,  9.11it/s] \n"
     ]
    },
    {
     "ename": "OutOfMemoryError",
     "evalue": "CUDA out of memory. Tried to allocate 2.00 MiB (GPU 3; 23.69 GiB total capacity; 7.65 GiB already allocated; 2.94 MiB free; 7.65 GiB reserved in total by PyTorch) If reserved memory is >> allocated memory try setting max_split_size_mb to avoid fragmentation.  See documentation for Memory Management and PYTORCH_CUDA_ALLOC_CONF",
     "output_type": "error",
     "traceback": [
      "\u001b[0;31m---------------------------------------------------------------------------\u001b[0m",
      "\u001b[0;31mOutOfMemoryError\u001b[0m                          Traceback (most recent call last)",
      "Cell \u001b[0;32mIn [10], line 70\u001b[0m\n\u001b[1;32m     65\u001b[0m vector1  \u001b[39m=\u001b[39m torch\u001b[39m.\u001b[39mrandn(nparticles, dim)\u001b[39m.\u001b[39mto(device)\n\u001b[1;32m     69\u001b[0m lr \u001b[39m=\u001b[39m \u001b[39m0.01\u001b[39m\n\u001b[0;32m---> 70\u001b[0m theta, vector \u001b[39m=\u001b[39m etmySVGD(kernel,device)\u001b[39m.\u001b[39;49mupdate(x0, score, k \u001b[39m=\u001b[39;49m \u001b[39m2\u001b[39;49m, n_iter \u001b[39m=\u001b[39;49m \u001b[39m20000\u001b[39;49m,   lr\u001b[39m=\u001b[39;49m lr, vector\u001b[39m=\u001b[39;49mvector1)\n\u001b[1;32m     71\u001b[0m     \u001b[39m#mean = np.mean(theta, axis=0)  + np.random.random(1)\u001b[39;00m\n\u001b[1;32m     72\u001b[0m     \u001b[39m#var_theta = np.cov(theta.T) + np.random.random(1)\u001b[39;00m\n\u001b[1;32m     73\u001b[0m     \u001b[39m#x0 = np.random.multivariate_normal(mean, var_theta,num)\u001b[39;00m\n\u001b[1;32m     77\u001b[0m cov_mysvgd \u001b[39m=\u001b[39m torch\u001b[39m.\u001b[39mcov(theta\u001b[39m.\u001b[39mT)\n",
      "File \u001b[0;32m~/SVGD/SVGD_code/GSVGD-main/src/mysvgd.py:169\u001b[0m, in \u001b[0;36metmySVGD.update\u001b[0;34m(self, x0, score, n_iter, k, lr, vector)\u001b[0m\n\u001b[1;32m    166\u001b[0m vector1 \u001b[39m=\u001b[39m torch\u001b[39m.\u001b[39mzeros_like(theta)\n\u001b[1;32m    168\u001b[0m \u001b[39mfor\u001b[39;00m  i \u001b[39min\u001b[39;00m iterator:\n\u001b[0;32m--> 169\u001b[0m     theta, vector1 \u001b[39m=\u001b[39m \u001b[39mself\u001b[39;49m\u001b[39m.\u001b[39;49mupdate_dim(score, theta, k, lr, vector1)\n\u001b[1;32m    171\u001b[0m \u001b[39mreturn\u001b[39;00m theta, vector1\n",
      "File \u001b[0;32m~/SVGD/SVGD_code/GSVGD-main/src/mysvgd.py:122\u001b[0m, in \u001b[0;36metmySVGD.update_dim\u001b[0;34m(self, score, theta, k, lr, vector)\u001b[0m\n\u001b[1;32m    118\u001b[0m         support \u001b[39m=\u001b[39m \u001b[39mself\u001b[39m\u001b[39m.\u001b[39mdel_tensor_ele(support, a)\n\u001b[1;32m    120\u001b[0m \u001b[39m#### STEP2 blanket_to_d\u001b[39;00m\n\u001b[0;32m--> 122\u001b[0m     grad1 \u001b[39m=\u001b[39m \u001b[39mself\u001b[39;49m\u001b[39m.\u001b[39;49mpower(theta, blanket, s, lnpgrad)\n\u001b[1;32m    124\u001b[0m \u001b[39m### STEP3 SUPPORT_to_d\u001b[39;00m\n\u001b[1;32m    125\u001b[0m     grad2 \u001b[39m=\u001b[39m \u001b[39mself\u001b[39m\u001b[39m.\u001b[39mpower(theta, support, s, lnpgrad)\n",
      "File \u001b[0;32m~/SVGD/SVGD_code/GSVGD-main/src/mysvgd.py:69\u001b[0m, in \u001b[0;36metmySVGD.power\u001b[0;34m(self, theta, part, s, lnpgrad)\u001b[0m\n\u001b[1;32m     67\u001b[0m lnpgrad_j1 \u001b[39m=\u001b[39m lnpgrad[:,s]\n\u001b[1;32m     68\u001b[0m         \u001b[39m# calculating the kernel matrix\u001b[39;00m\n\u001b[0;32m---> 69\u001b[0m kxy1, repulsion1 \u001b[39m=\u001b[39m \u001b[39mself\u001b[39;49m\u001b[39m.\u001b[39;49msvgd_kernel(theta_ab1) \n\u001b[1;32m     72\u001b[0m attraction1 \u001b[39m=\u001b[39m torch\u001b[39m.\u001b[39mmatmul(kxy1, lnpgrad_j1) \n\u001b[1;32m     73\u001b[0m \u001b[39mreturn\u001b[39;00m  attraction1 \u001b[39m+\u001b[39m repulsion1[:,\u001b[39m-\u001b[39m\u001b[39m1\u001b[39m]\n",
      "File \u001b[0;32m~/SVGD/SVGD_code/GSVGD-main/src/mysvgd.py:50\u001b[0m, in \u001b[0;36metmySVGD.svgd_kernel\u001b[0;34m(self, theta_ab)\u001b[0m\n\u001b[1;32m     48\u001b[0m Y \u001b[39m=\u001b[39m theta_ab\u001b[39m.\u001b[39mclone()\u001b[39m.\u001b[39mdetach()\n\u001b[1;32m     49\u001b[0m \u001b[39mwith\u001b[39;00m torch\u001b[39m.\u001b[39mno_grad():\n\u001b[0;32m---> 50\u001b[0m     \u001b[39mself\u001b[39;49m\u001b[39m.\u001b[39;49mk\u001b[39m.\u001b[39;49mbandwidth(theta_ab, theta_ab)\n\u001b[1;32m     51\u001b[0m K_XX \u001b[39m=\u001b[39m \u001b[39mself\u001b[39m\u001b[39m.\u001b[39mk(X_cp, Y)\n\u001b[1;32m     52\u001b[0m grad_K \u001b[39m=\u001b[39m \u001b[39m-\u001b[39mautograd\u001b[39m.\u001b[39mgrad(K_XX\u001b[39m.\u001b[39msum(), X_cp)[\u001b[39m0\u001b[39m] \n",
      "File \u001b[0;32m~/SVGD/SVGD_code/GSVGD-main/src/kernel.py:80\u001b[0m, in \u001b[0;36mRBF.bandwidth\u001b[0;34m(self, X, Y)\u001b[0m\n\u001b[1;32m     77\u001b[0m \u001b[39m\"\"\"Compute magic bandwidth\u001b[39;00m\n\u001b[1;32m     78\u001b[0m \u001b[39m\"\"\"\u001b[39;00m\n\u001b[1;32m     79\u001b[0m dnorm2 \u001b[39m=\u001b[39m l2norm(X, Y)\n\u001b[0;32m---> 80\u001b[0m med_heuristic_sq \u001b[39m=\u001b[39m median_heuristic(dnorm2, device\u001b[39m=\u001b[39;49mX\u001b[39m.\u001b[39;49mdevice)\n\u001b[1;32m     81\u001b[0m sigma2 \u001b[39m=\u001b[39m med_heuristic_sq \u001b[39m/\u001b[39m np\u001b[39m.\u001b[39mlog(X\u001b[39m.\u001b[39mshape[\u001b[39m0\u001b[39m])\n\u001b[1;32m     82\u001b[0m \u001b[39m# sigma2 = med_heuristic_sq \u001b[39;00m\n",
      "File \u001b[0;32m~/SVGD/SVGD_code/GSVGD-main/src/kernel.py:43\u001b[0m, in \u001b[0;36mmedian_heuristic\u001b[0;34m(dnorm2, device)\u001b[0m\n\u001b[1;32m     36\u001b[0m \u001b[39m\"\"\"Compute median heuristic.\u001b[39;00m\n\u001b[1;32m     37\u001b[0m \u001b[39mInputs:\u001b[39;00m\n\u001b[1;32m     38\u001b[0m \u001b[39m    dnorm2: (n x n) tensor of \\|X - Y\\|_2^2\u001b[39;00m\n\u001b[1;32m     39\u001b[0m \u001b[39mReturn:\u001b[39;00m\n\u001b[1;32m     40\u001b[0m \u001b[39m    med(\\|X_i - Y_j\\|_2^2, 1 \\leq i < j \\leq n)\u001b[39;00m\n\u001b[1;32m     41\u001b[0m \u001b[39m\"\"\"\u001b[39;00m\n\u001b[1;32m     42\u001b[0m ind_array \u001b[39m=\u001b[39m torch\u001b[39m.\u001b[39mtriu(torch\u001b[39m.\u001b[39mones_like(dnorm2, device\u001b[39m=\u001b[39mdevice), diagonal\u001b[39m=\u001b[39m\u001b[39m1\u001b[39m) \u001b[39m==\u001b[39m \u001b[39m1\u001b[39m\n\u001b[0;32m---> 43\u001b[0m med_heuristic \u001b[39m=\u001b[39m torch\u001b[39m.\u001b[39;49mmedian(dnorm2[ind_array])\n\u001b[1;32m     44\u001b[0m \u001b[39m#med_heuristic = torch.Tensor(1).to('cuda')\u001b[39;00m\n\u001b[1;32m     45\u001b[0m \u001b[39mreturn\u001b[39;00m med_heuristic\n",
      "\u001b[0;31mOutOfMemoryError\u001b[0m: CUDA out of memory. Tried to allocate 2.00 MiB (GPU 3; 23.69 GiB total capacity; 7.65 GiB already allocated; 2.94 MiB free; 7.65 GiB reserved in total by PyTorch) If reserved memory is >> allocated memory try setting max_split_size_mb to avoid fragmentation.  See documentation for Memory Management and PYTORCH_CUDA_ALLOC_CONF"
     ]
    },
    {
     "ename": "",
     "evalue": "",
     "output_type": "error",
     "traceback": [
      "\u001b[1;31mThe Kernel crashed while executing code in the the current cell or a previous cell. Please review the code in the cell(s) to identify a possible cause of the failure. Click <a href='https://aka.ms/vscodeJupyterKernelCrash'>here</a> for more info. View Jupyter <a href='command:jupyter.viewOutput'>log</a> for further details."
     ]
    }
   ],
   "source": [
    "for dim in range(5,90, 5):\n",
    "    print(f\"Running for dim: {dim}\")\n",
    "    print(\"#####################################################\")\n",
    "    s = s+1\n",
    "    ## target density\n",
    "    \n",
    "    ## target density\n",
    "    mix_means = torch.cat(\n",
    "        [points_on_circle(i * 2*np.pi / nmix, rad=radius) for i in range(nmix)]).to(device)\n",
    "    mix_means = torch.cat((mix_means, torch.zeros((mix_means.shape[0], dim - 2), device=device)), dim=1)\n",
    "\n",
    "    distribution = mix_gauss_experiment(\n",
    "        mixture_dist=D.Categorical(torch.ones(mix_means.shape[0], device=device)),\n",
    "        means=mix_means\n",
    "    )\n",
    "\n",
    "\n",
    "    # sample from target (for computing metric)\n",
    "    x_target = distribution.sample((nparticles, )).to(device)\n",
    "    cov = torch.cov(x_target)\n",
    "\n",
    "    # sample from variational density\n",
    "    x_init =  torch.randn(nparticles, *distribution.event_shape).to(device)\n",
    "\n",
    "    ## SVGD\n",
    "    cov = torch.cov(x_target.T)\n",
    "\n",
    "    if args.method in [\"SVGD\", \"all\"]:\n",
    "        \n",
    "\n",
    "        print(\"Running SVGD >>>>>>>>>>>>>>>>>>\")\n",
    "        # sample from variational density\n",
    "        x = x_init.clone().to(device)\n",
    "        kernel = Kernel(method=\"med_heuristic\")\n",
    "        svgd = SVGD(distribution, kernel, optim.Adam([x], lr=lr), device=device)\n",
    "        \n",
    "        svgd.fit(x, epochs, verbose=True, save_every=save_every)\n",
    "        \n",
    "\n",
    "    theta = x\n",
    "        \n",
    "    \n",
    "\n",
    "\n",
    "    cov_svgd = torch.cov(theta.T)\n",
    "    print(f\"norm_mse of svgd : {torch.linalg.norm(cov - cov_svgd)}\")\n",
    "    list_norm[s,0] = torch.linalg.norm(cov - cov_svgd)\n",
    "    print(f\"mmd of svgd : {comm_func_eval(theta, x_target)['var_dis']}\")\n",
    "    list_gr_var[s,0] = comm_func_eval(theta, x_target)['var_dis']\n",
    "    print(f\"trace of svgd: {torch.trace(cov - cov_svgd)}\")\n",
    "    list_tr[s,0] = torch.trace(cov - cov_svgd)\n",
    "    (evals, evecs) = torch.linalg.eig(cov - cov_svgd)\n",
    "    print(f\"eig of svgd is : {evals[0]}\")\n",
    "    list_eig[s,0] = evals[0]\n",
    "    energy  = energy_dis(theta, x_target, dim)\n",
    "    print(f\"energy of svgd is : {energy}\")\n",
    "    list_energy[s, 0] = energy\n",
    "\n",
    "\n",
    "    print('Running mysvgd >>>>>>>>>>>>>>>>>>>>>>>')\n",
    "    \n",
    "\n",
    "    \n",
    "    x0 = x_init.clone().to(device)\n",
    "    vector1  = torch.randn(nparticles, dim).to(device)\n",
    "\n",
    "\n",
    "        \n",
    "    lr = 0.01\n",
    "    theta, vector = etmySVGD(kernel,device).update(x0, score, k = 2, n_iter = 20000,   lr= lr, vector=vector1)\n",
    "        #mean = np.mean(theta, axis=0)  + np.random.random(1)\n",
    "        #var_theta = np.cov(theta.T) + np.random.random(1)\n",
    "        #x0 = np.random.multivariate_normal(mean, var_theta,num)\n",
    "        \n",
    "        \n",
    "\n",
    "    cov_mysvgd = torch.cov(theta.T)\n",
    "    print(f\"norm_mse of mysvgd : {torch.linalg.norm(cov - cov_mysvgd)}\")\n",
    "    list_norm[s,1] = torch.linalg.norm(cov - cov_mysvgd)\n",
    "    print(f\"mmd of mysvgd : {comm_func_eval(theta, x_target)['var_dis']}\")\n",
    "    list_gr_var[s,1] = comm_func_eval(theta, x_target)['var_dis']\n",
    "    print(f\"trace of mysvgd: {torch.trace(cov - cov_mysvgd)}\")\n",
    "    list_tr[s,1] = torch.trace(cov - cov_mysvgd)\n",
    "    (evals, evecs) = torch.linalg.eig(cov - cov_mysvgd)\n",
    "    print(f\"eig of mysvgd is : {evals[0]}\")\n",
    "    list_eig[s,1] = evals[0]\n",
    "    energy  = energy_dis(theta, x_target, dim)\n",
    "    print(f\"energy of mysvgd is : {energy}\")\n",
    "    list_energy[s, 1] = energy\n",
    "\n",
    "    if args.method in [\"GSVGD\", \"all\"]:\n",
    "        res_gsvgd = [0] * len(eff_dims)\n",
    "        def run_gsvgd(eff_dims):\n",
    "            for i, eff_dim in enumerate(eff_dims):\n",
    "                print(f\"Running GSVGD with eff dim = {eff_dim}\")\n",
    "\n",
    "                m = min(20, dim // eff_dim) if args.m is None else args.m\n",
    "                print(\"number of projections:\", m)\n",
    "\n",
    "                # sample from variational density\n",
    "                x_init_gsvgd = x_init.clone()\n",
    "                x_gsvgd = x_init_gsvgd.clone()\n",
    "\n",
    "                kernel_gsvgd = BatchKernel(method=\"med_heuristic\")\n",
    "                optimizer = optim.Adam([x_gsvgd], lr=lr)\n",
    "                manifold = Grassmann(dim, eff_dim)\n",
    "                U = torch.eye(dim, device=device).requires_grad_(True)\n",
    "                U = U[:, :(m*eff_dim)]\n",
    "\n",
    "                gsvgd = FullGSVGDBatch(\n",
    "                    target=distribution,\n",
    "                    kernel=kernel_gsvgd,\n",
    "                    manifold=manifold,\n",
    "                    optimizer=optimizer,\n",
    "                    delta=delta,\n",
    "                    T=T,\n",
    "                    device=device,\n",
    "                    noise=add_noise\n",
    "                )\n",
    "                start = time.time()\n",
    "                U, metric_gsvgd = gsvgd.fit(x_gsvgd, U, m, epochs, \n",
    "                    verbose=True, save_every=save_every, threshold=0.0001*m)\n",
    "                elapsed_time = time.time() - start\n",
    "\n",
    "                \n",
    "\n",
    "                \n",
    "            return res_gsvgd,x_gsvgd\n",
    "\n",
    "    res_gsvgd ,x_gsvgd= run_gsvgd(eff_dims)\n",
    "    theta = x_gsvgd\n",
    "    cov_gsvgd = torch.cov(theta.T)\n",
    "    print(f\"norm_mse of mysvgd : {torch.linalg.norm(cov - cov_gsvgd)}\")\n",
    "    list_norm[s,2] = torch.linalg.norm(cov - cov_gsvgd)\n",
    "    print(f\"mmd of mysvgd : {comm_func_eval(theta, x_target)['var_dis']}\")\n",
    "    list_gr_var[s,2] = comm_func_eval(theta, x_target)['var_dis']\n",
    "    print(f\"trace of mysvgd: {torch.trace(cov - cov_gsvgd)}\")\n",
    "    list_tr[s,2] = torch.trace(cov - cov_gsvgd)\n",
    "    (evals, evecs) = torch.linalg.eig(cov - cov_gsvgd)\n",
    "    print(f\"eig of mysvgd is : {evals[0]}\")\n",
    "    list_eig[s,2] = evals[0]\n",
    "    energy  = energy_dis(theta, x_target, dim)\n",
    "    print(f\"energy of mysvgd is : {energy}\")\n",
    "    list_energy[s, 2] = energy\n",
    "\n",
    "    if args.method in [\"S-SVGD\", \"all\"]:\n",
    "        # sample from variational density\n",
    "        print(\"Running S-SVGD >>>>>>>>>>>>>>>>>>>>>>>\")\n",
    "        x_init_s_svgd = x_init.clone()\n",
    "        x_s_svgd = x_init_s_svgd.clone().requires_grad_()\n",
    "        s_svgd = SlicedSVGD(distribution, device=device)\n",
    "\n",
    "        start = time.time()\n",
    "        x_s_svgd, metric_s_svgd = s_svgd.fit(\n",
    "            samples=x_s_svgd, \n",
    "            n_epoch=epochs, \n",
    "            lr=args.lr_g,\n",
    "            eps=lr,\n",
    "            save_every=save_every\n",
    "        )\n",
    "    \n",
    "    theta = x_s_svgd\n",
    "    cov_ssvgd = torch.cov(theta.T)\n",
    "    print(f\"norm_mse of mysvgd : {torch.linalg.norm(cov - cov_ssvgd)}\")\n",
    "    list_norm[s,3] = torch.linalg.norm(cov - cov_ssvgd)\n",
    "    print(f\"mmd of mysvgd : {comm_func_eval(theta, x_target)['var_dis']}\")\n",
    "    list_gr_var[s,3] = comm_func_eval(theta, x_target)['var_dis']\n",
    "    print(f\"trace of mysvgd: {torch.trace(cov - cov_ssvgd)}\")\n",
    "    list_tr[s,3] = torch.trace(cov - cov_ssvgd)\n",
    "    (evals, evecs) = torch.linalg.eig(cov - cov_ssvgd)\n",
    "    print(f\"eig of mysvgd is : {evals[0]}\")\n",
    "    list_eig[s,3] = evals[0]\n",
    "    energy  = energy_dis(theta, x_target, dim)\n",
    "    print(f\"energy of mysvgd is : {energy}\")\n",
    "    list_energy[s, 3] = energy\n",
    "torch.save(list_norm, \"norm_xshape_mu_vs_55.pt\")\n",
    "torch.save(list_gr_var, \"gr_xshape_mu_vs_55.pt\")\n",
    "torch.save(list_tr, \"tr_xshape_mu_vs_55.pt\")\n",
    "torch.save(list_eig, \"eig_xshape_mu_vs_55.pt\")\n",
    "torch.save(list_energy, \"energy_xshape_mu_vs_55.pt\")"
   ]
  }
 ],
 "metadata": {
  "kernelspec": {
   "display_name": "Python 3.7.13 ('AG')",
   "language": "python",
   "name": "python3"
  },
  "language_info": {
   "codemirror_mode": {
    "name": "ipython",
    "version": 3
   },
   "file_extension": ".py",
   "mimetype": "text/x-python",
   "name": "python",
   "nbconvert_exporter": "python",
   "pygments_lexer": "ipython3",
   "version": "3.9.15"
  },
  "orig_nbformat": 4,
  "vscode": {
   "interpreter": {
    "hash": "28e57e6ed411ebe457d9d5e52f3313a26a0295904f732baf128c9b6661c268ce"
   }
  }
 },
 "nbformat": 4,
 "nbformat_minor": 2
}
