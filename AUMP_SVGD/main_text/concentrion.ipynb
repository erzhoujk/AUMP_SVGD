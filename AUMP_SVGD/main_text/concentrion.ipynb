{
 "cells": [
  {
   "cell_type": "code",
   "execution_count": 1,
   "metadata": {},
   "outputs": [
    {
     "name": "stderr",
     "output_type": "stream",
     "text": [
      "/home/zhoujk/anaconda3/envs/AG/lib/python3.9/site-packages/tqdm/auto.py:22: TqdmWarning: IProgress not found. Please update jupyter and ipywidgets. See https://ipywidgets.readthedocs.io/en/stable/user_install.html\n",
      "  from .autonotebook import tqdm as notebook_tqdm\n"
     ]
    }
   ],
   "source": [
    "import os\n",
    "import numpy as np\n",
    "import torch\n",
    "import torch.optim as optim\n",
    "import torch.distributions as D\n",
    "from src.Tmy_svgd import tmySVGD\n",
    "from src.svgd import SVGD\n",
    "from src.gsvgd import FullGSVGDBatch\n",
    "from src.kernel import RBF, BatchRBF\n",
    "from src.utils import plot_particles\n",
    "\n",
    "from src.manifold import Grassmann\n",
    "from src.s_svgd import SlicedSVGD\n",
    "from src.mysvgd import mySVGD\n",
    "\n",
    "from scipy.spatial.distance import pdist, squareform\n",
    "from scipy.stats import multivariate_normal, gaussian_kde, norm\n",
    "\n",
    "import pickle\n",
    "import argparse\n",
    "import time\n",
    "import torch\n",
    "import torch.optim as optim\n",
    "import torch.autograd as autograd\n",
    "import autograd.numpy as np\n",
    "from tqdm import tqdm, trange\n",
    "\n",
    "import torch.distributions as D\n",
    "import matplotlib.pyplot as plt"
   ]
  },
  {
   "cell_type": "code",
   "execution_count": 2,
   "metadata": {},
   "outputs": [
    {
     "data": {
      "text/plain": [
       "_StoreAction(option_strings=['--method'], dest='method', nargs=None, const=None, default='all', type=<class 'str'>, choices=None, required=False, help='which method to use', metavar=None)"
      ]
     },
     "execution_count": 2,
     "metadata": {},
     "output_type": "execute_result"
    }
   ],
   "source": [
    "parser = argparse.ArgumentParser(description='Running xshaped experiment.')\n",
    "d = 10\n",
    "parser.add_argument('--dim', type=int, default=d, help='dimension')\n",
    "s = 20000\n",
    "parser.add_argument('--effdim', type=int, default=-1, help='dimension')\n",
    "parser.add_argument('--lr', type=float, default=0.01, help='learning rate')\n",
    "parser.add_argument('--delta', type=float,default=0.01,help='stepsize for projections')\n",
    "parser.add_argument('--T', type=float, default=1e-4, help='noise multiplier for projections')\n",
    "parser.add_argument('--lr_g', type=float, default=0.1, help='learning rate for g')\n",
    "parser.add_argument('--nparticles', type=int,default=s, help='no. of particles')\n",
    "parser.add_argument('--epochs', type=int, default=10000, help='no. of epochs')\n",
    "parser.add_argument('--metric', type=str, default=\"energy\", help='distance metric')\n",
    "parser.add_argument('--noise', type=str, default=\"True\", help='whether to add noise')\n",
    "parser.add_argument('--kernel', type=str, default=\"rbf\", help='kernel')\n",
    "parser.add_argument('--gpu', type=int, default=0, help='gpu')\n",
    "parser.add_argument('--seed', type=int, default=235, help='random seed')\n",
    "parser.add_argument('--suffix', type=str, default=\"\", help='suffix for res folder')\n",
    "parser.add_argument('--m', type=int, help='no. of projections')\n",
    "parser.add_argument('--save_every', type=int, default=200, help='step intervals to save particles')\n",
    "parser.add_argument('--method', type=str, default=\"all\", help='which method to use')"
   ]
  },
  {
   "cell_type": "code",
   "execution_count": 3,
   "metadata": {},
   "outputs": [
    {
     "name": "stdout",
     "output_type": "stream",
     "text": [
      "Running for dim: 10, lr: 0.01, nparticles: 20000\n"
     ]
    }
   ],
   "source": [
    "args = parser.parse_args([])\n",
    "dim = args.dim\n",
    "lr = args.lr\n",
    "lr_gsvgd = args.lr\n",
    "delta = args.delta\n",
    "T = args.T\n",
    "nparticles = args.nparticles\n",
    "epochs = args.epochs\n",
    "seed = args.seed\n",
    "eff_dims = [args.effdim] if args.effdim > 0 else [1, 2, 5]\n",
    "save_every = args.save_every # save metric values\n",
    "print(f\"Running for dim: {dim}, lr: {lr}, nparticles: {nparticles}\")"
   ]
  },
  {
   "cell_type": "code",
   "execution_count": 4,
   "metadata": {},
   "outputs": [],
   "source": [
    "device = torch.device(f'cuda:{args.gpu}' if args.gpu != -1 else 'cpu')\n",
    "\n",
    "metric = args.metric\n",
    "\n",
    "results_folder = f\"./res/gaussian{args.suffix}/{args.kernel}_epoch{epochs}_lr{lr}_delta{delta}_n{nparticles}_dim{dim}\"\n",
    "results_folder = f\"{results_folder}/seed{seed}\""
   ]
  },
  {
   "cell_type": "code",
   "execution_count": 5,
   "metadata": {},
   "outputs": [],
   "source": [
    "if not os.path.exists(results_folder):\n",
    "    os.makedirs(results_folder)\n",
    "\n",
    "if args.kernel == \"rbf\":\n",
    "    Kernel = RBF\n",
    "    BatchKernel = BatchRBF"
   ]
  },
  {
   "cell_type": "code",
   "execution_count": 6,
   "metadata": {},
   "outputs": [
    {
     "name": "stdout",
     "output_type": "stream",
     "text": [
      "Device: cuda:0\n"
     ]
    }
   ],
   "source": [
    "print(f\"Device: {device}\")\n",
    "torch.manual_seed(seed)\n",
    "\n",
    "## target density\n",
    "means = torch.zeros(dim, device=device)\n",
    "'''\n",
    "torch.manual_seed(0)\n",
    "\n",
    "A = torch.randn(dim,dim).to('cuda') * 0.9\n",
    "A = torch.matmul(A, A.T)\n",
    "\n",
    "m = torch.max(A) \n",
    "B = torch.eye(dim).to('cuda') * m + 0.1\n",
    "diag = torch.diag(A)\n",
    "cov = A + B '''\n",
    "\n",
    "cov = torch.eye(dim, device=device)\n",
    "\n",
    "distribution = D.MultivariateNormal(means.to(device), cov)\n",
    "\n",
    "# sample from target (for computing metric)\n",
    "x_target = distribution.sample((nparticles, ))\n",
    "# sample from variational density\n",
    "torch.manual_seed(235)\n",
    "x_init = 2 + np.sqrt(2) * torch.randn(nparticles, *distribution.event_shape, device=device)"
   ]
  },
  {
   "cell_type": "code",
   "execution_count": 7,
   "metadata": {},
   "outputs": [
    {
     "name": "stdout",
     "output_type": "stream",
     "text": [
      "Running SVGD\n"
     ]
    },
    {
     "name": "stderr",
     "output_type": "stream",
     "text": [
      "100%|██████████| 10000/10000 [20:28<00:00,  8.14it/s]\n"
     ]
    }
   ],
   "source": [
    "## SVGD\n",
    "if args.method in [\"SVGD\", \"all\"]:\n",
    "    print(\"Running SVGD\")\n",
    "    # sample from variational density\n",
    "    x = x_init.clone().to(device)\n",
    "    kernel = Kernel(method=\"med_heuristic\")\n",
    "    svgd = SVGD(distribution, kernel, optim.Adam([x], lr=lr), device=device)\n",
    "    start = time.time()\n",
    "    svgd.fit(x, epochs, verbose=True, save_every=save_every)\n",
    "    elapsed_time_svgd = time.time() - start\n",
    "\n"
   ]
  },
  {
   "cell_type": "code",
   "execution_count": 8,
   "metadata": {},
   "outputs": [
    {
     "data": {
      "text/plain": [
       "0.9114885914975139"
      ]
     },
     "execution_count": 8,
     "metadata": {},
     "output_type": "execute_result"
    }
   ],
   "source": [
    "sq_dist = pdist(x.cpu().numpy())\n",
    "\n",
    "pairwise_dists = squareform(sq_dist)**2\n",
    "h  = -1\n",
    "if h < 0: # if h < 0, using median trick\n",
    "    h = np.median(pairwise_dists)  \n",
    "    h = np.sqrt(0.5 * h / np.log(x.shape[0]+1))  \n",
    "\n",
    "h"
   ]
  },
  {
   "cell_type": "code",
   "execution_count": 9,
   "metadata": {},
   "outputs": [
    {
     "data": {
      "text/plain": [
       "tensor([[3.2144],\n",
       "        [3.1782],\n",
       "        [3.2260],\n",
       "        ...,\n",
       "        [3.2240],\n",
       "        [0.6471],\n",
       "        [3.2345]])"
      ]
     },
     "execution_count": 9,
     "metadata": {},
     "output_type": "execute_result"
    }
   ],
   "source": [
    "mean_norm= torch.zeros(s, 1)\n",
    "for i in range(x.shape[0]):\n",
    "    mean_norm[i] = torch.norm(x[i,:])\n",
    "\n",
    "mean = torch.mean(x, 0)\n",
    "mean_norm"
   ]
  },
  {
   "cell_type": "code",
   "execution_count": 10,
   "metadata": {},
   "outputs": [
    {
     "name": "stdout",
     "output_type": "stream",
     "text": [
      "tensor(2.8721)\n",
      "tensor(3.3110)\n"
     ]
    }
   ],
   "source": [
    "print(torch.mean(mean_norm))\n",
    "print(torch.max(mean_norm))"
   ]
  },
  {
   "cell_type": "code",
   "execution_count": 11,
   "metadata": {},
   "outputs": [
    {
     "data": {
      "text/plain": [
       "tensor(15.7442)"
      ]
     },
     "execution_count": 11,
     "metadata": {},
     "output_type": "execute_result"
    }
   ],
   "source": [
    "torch.mean(mean_norm)  * (np.exp(1.5)+1)"
   ]
  },
  {
   "cell_type": "code",
   "execution_count": 12,
   "metadata": {},
   "outputs": [
    {
     "data": {
      "text/plain": [
       "tensor([[ 8.4792e-01,  2.9419e-06,  1.3890e-04,  2.0322e-04,  1.5244e-04,\n",
       "          1.3856e-06,  1.7259e-05,  6.7750e-05, -1.4528e-05, -4.2218e-05],\n",
       "        [ 2.9419e-06,  8.4838e-01,  1.4927e-04, -3.6418e-05,  2.2723e-05,\n",
       "          8.4771e-05,  1.4161e-04,  1.8221e-04, -1.5658e-05,  1.2523e-04],\n",
       "        [ 1.3890e-04,  1.4927e-04,  8.4812e-01,  1.2845e-04, -2.0085e-05,\n",
       "         -2.3613e-04,  1.0015e-04, -9.3802e-06,  2.9389e-05,  1.1236e-04],\n",
       "        [ 2.0322e-04, -3.6418e-05,  1.2845e-04,  8.4835e-01, -5.5547e-05,\n",
       "          1.7215e-04,  8.4654e-05,  2.2196e-05,  8.4594e-05,  4.0353e-05],\n",
       "        [ 1.5244e-04,  2.2723e-05, -2.0085e-05, -5.5547e-05,  8.4809e-01,\n",
       "          1.6993e-04,  9.9048e-05, -1.7560e-04,  4.5739e-05,  1.4798e-04],\n",
       "        [ 1.3856e-06,  8.4771e-05, -2.3613e-04,  1.7215e-04,  1.6993e-04,\n",
       "          8.4808e-01,  4.2124e-05,  8.8210e-05,  2.3363e-05, -4.4628e-05],\n",
       "        [ 1.7259e-05,  1.4161e-04,  1.0015e-04,  8.4654e-05,  9.9048e-05,\n",
       "          4.2124e-05,  8.4833e-01,  8.9704e-05,  9.1332e-05,  2.2109e-04],\n",
       "        [ 6.7750e-05,  1.8221e-04, -9.3802e-06,  2.2196e-05, -1.7560e-04,\n",
       "          8.8210e-05,  8.9704e-05,  8.4809e-01, -4.2462e-05,  6.2597e-05],\n",
       "        [-1.4528e-05, -1.5658e-05,  2.9389e-05,  8.4594e-05,  4.5739e-05,\n",
       "          2.3363e-05,  9.1332e-05, -4.2462e-05,  8.4791e-01,  7.0922e-05],\n",
       "        [-4.2218e-05,  1.2523e-04,  1.1236e-04,  4.0353e-05,  1.4798e-04,\n",
       "         -4.4628e-05,  2.2109e-04,  6.2597e-05,  7.0922e-05,  8.4829e-01]],\n",
       "       device='cuda:0')"
      ]
     },
     "execution_count": 12,
     "metadata": {},
     "output_type": "execute_result"
    }
   ],
   "source": [
    "cov_svgd = torch.cov(x.T)\n",
    "cov_svgd"
   ]
  },
  {
   "cell_type": "code",
   "execution_count": 13,
   "metadata": {},
   "outputs": [
    {
     "ename": "RuntimeError",
     "evalue": "The size of tensor a (10) must match the size of tensor b (1000000) at non-singleton dimension 0",
     "output_type": "error",
     "traceback": [
      "\u001b[0;31m---------------------------------------------------------------------------\u001b[0m",
      "\u001b[0;31mRuntimeError\u001b[0m                              Traceback (most recent call last)",
      "Cell \u001b[0;32mIn [13], line 13\u001b[0m\n\u001b[1;32m     11\u001b[0m \u001b[39mlist\u001b[39m \u001b[39m=\u001b[39m []\n\u001b[1;32m     12\u001b[0m \u001b[39mfor\u001b[39;00m i \u001b[39min\u001b[39;00m \u001b[39mrange\u001b[39m(x\u001b[39m.\u001b[39mshape[\u001b[39m0\u001b[39m]):\n\u001b[0;32m---> 13\u001b[0m     s \u001b[39m=\u001b[39m M_function(x[i,:])\n\u001b[1;32m     14\u001b[0m     \u001b[39mlist\u001b[39m\u001b[39m.\u001b[39mappend(s[\u001b[39m0\u001b[39m]\u001b[39m.\u001b[39mitem())\n",
      "Cell \u001b[0;32mIn [13], line 5\u001b[0m, in \u001b[0;36mM_function\u001b[0;34m(xi)\u001b[0m\n\u001b[1;32m      3\u001b[0m \u001b[39mdef\u001b[39;00m \u001b[39mM_function\u001b[39m(xi):\n\u001b[1;32m      4\u001b[0m     x \u001b[39m=\u001b[39m torch\u001b[39m.\u001b[39marange(\u001b[39m0.00001\u001b[39m, \u001b[39m1000\u001b[39m, \u001b[39m0.001\u001b[39m)\u001b[39m.\u001b[39mto(device)\n\u001b[0;32m----> 5\u001b[0m     f1 \u001b[39m=\u001b[39m torch\u001b[39m.\u001b[39mpow(xi \u001b[39m-\u001b[39;49m x, \u001b[39m2\u001b[39m)\n\u001b[1;32m      6\u001b[0m     f2 \u001b[39m=\u001b[39m torch\u001b[39m.\u001b[39mpow(xi, \u001b[39m2\u001b[39m)\n\u001b[1;32m      7\u001b[0m     f \u001b[39m=\u001b[39mtorch\u001b[39m.\u001b[39mdiv(torch\u001b[39m.\u001b[39mexp(\u001b[39m-\u001b[39mf1 \u001b[39m/\u001b[39m h) \u001b[39m-\u001b[39m torch\u001b[39m.\u001b[39mexp(\u001b[39m-\u001b[39mf2 \u001b[39m/\u001b[39m h), \u001b[39m2\u001b[39m\u001b[39m*\u001b[39mtorch\u001b[39m.\u001b[39mabs(x))\n",
      "\u001b[0;31mRuntimeError\u001b[0m: The size of tensor a (10) must match the size of tensor b (1000000) at non-singleton dimension 0"
     ]
    }
   ],
   "source": [
    "h = torch.tensor(h).to(device)\n",
    "\n",
    "def M_function(xi):\n",
    "    x = torch.arange(0.00001, 1000, 0.001).to(device)\n",
    "    f1 = torch.pow(xi - x, 2)\n",
    "    f2 = torch.pow(xi, 2)\n",
    "    f =torch.div(torch.exp(-f1 / h) - torch.exp(-f2 / h), 2*torch.abs(x))\n",
    "\n",
    "    \n",
    "    return f\n",
    "list = []\n",
    "for i in range(x.shape[0]):\n",
    "    s = M_function(x[i,:])\n",
    "    list.append(s[0].item())"
   ]
  },
  {
   "cell_type": "code",
   "execution_count": null,
   "metadata": {},
   "outputs": [],
   "source": [
    "np.max(list)"
   ]
  }
 ],
 "metadata": {
  "kernelspec": {
   "display_name": "Python 3.7.13 ('AG')",
   "language": "python",
   "name": "python3"
  },
  "language_info": {
   "codemirror_mode": {
    "name": "ipython",
    "version": 3
   },
   "file_extension": ".py",
   "mimetype": "text/x-python",
   "name": "python",
   "nbconvert_exporter": "python",
   "pygments_lexer": "ipython3",
   "version": "3.9.15"
  },
  "orig_nbformat": 4,
  "vscode": {
   "interpreter": {
    "hash": "28e57e6ed411ebe457d9d5e52f3313a26a0295904f732baf128c9b6661c268ce"
   }
  }
 },
 "nbformat": 4,
 "nbformat_minor": 2
}
