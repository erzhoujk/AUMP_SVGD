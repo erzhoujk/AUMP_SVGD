{
 "cells": [
  {
   "cell_type": "code",
   "execution_count": 1,
   "metadata": {},
   "outputs": [
    {
     "name": "stderr",
     "output_type": "stream",
     "text": [
      "/home/zhoujk/anaconda3/envs/AG/lib/python3.9/site-packages/tqdm/auto.py:22: TqdmWarning: IProgress not found. Please update jupyter and ipywidgets. See https://ipywidgets.readthedocs.io/en/stable/user_install.html\n",
      "  from .autonotebook import tqdm as notebook_tqdm\n"
     ]
    },
    {
     "data": {
      "text/plain": [
       "_StoreAction(option_strings=['--method'], dest='method', nargs=None, const=None, default='all', type=<class 'str'>, choices=None, required=False, help='which method to use', metavar=None)"
      ]
     },
     "execution_count": 1,
     "metadata": {},
     "output_type": "execute_result"
    }
   ],
   "source": [
    "import os\n",
    "import numpy as np\n",
    "import torch\n",
    "import torch.optim as optim\n",
    "import torch.distributions as D\n",
    "from tqdm import tqdm, trange\n",
    "from src.svgd import SVGD\n",
    "from src.gsvgd import FullGSVGDBatch\n",
    "from src.kernel import RBF, BatchRBF\n",
    "from src.utils import plot_particles\n",
    "from src.Tmy_svgd import etmySVGD\n",
    "from src.manifold import Grassmann\n",
    "from src.s_svgd import SlicedSVGD\n",
    "\n",
    "import matplotlib.pyplot as plt\n",
    "from src.rand_mysvgd import min_mySVGD\n",
    "from scipy.stats import energy_distance\n",
    "import pickle\n",
    "import argparse\n",
    "import time\n",
    "\n",
    "import torch.autograd as autograd\n",
    "\n",
    "def mix_gauss_experiment(mixture_dist, means):\n",
    "    '''Mixture of Multivariate gaussian with cov matrices being the identity.\n",
    "    Args:\n",
    "        probs: Tensor of shape (nmix,) for the mixture_distribution.\n",
    "        means: Tensor of shape (nmix, d), where nmix is the number of components \n",
    "            and d is the dimension of each component.\n",
    "    '''\n",
    "    nmix = means.shape[0]\n",
    "    comp = D.Independent(D.Normal(means.to(device), torch.ones((nmix, means.shape[1]), device=device)), 1)\n",
    "    distribution = D.mixture_same_family.MixtureSameFamily(mixture_dist, comp) \n",
    "    return distribution\n",
    "\n",
    "\n",
    "def points_on_circle(theta, rad):\n",
    "    '''Generate d-dim points whose first two dimensions lies on a circle of \n",
    "    radius rad, with position being specified by the angle from the positive \n",
    "    x-axis theta.\n",
    "    '''\n",
    "    return torch.Tensor([[rad * np.cos(theta + 0.25*np.pi), rad * np.sin(theta + 0.25*np.pi)]])\n",
    "\n",
    "parser = argparse.ArgumentParser(description='Running xshaped experiment.')\n",
    "parser.add_argument('--dim', type=int,default=20, help='dimension')\n",
    "parser.add_argument('--effdim', type=int, default=-1, help='dimension')\n",
    "parser.add_argument('--lr', type=float,default=0.01, help='learning rate')\n",
    "parser.add_argument('--lr_g', type=float, default=0.1, help='learning rate for g')\n",
    "parser.add_argument('--delta', type=float,default=0.01, help='stepsize for projections')\n",
    "parser.add_argument('--T', type=float, default=1e-4, help='noise multiplier for projections')\n",
    "parser.add_argument('--nparticles', type=int,default=100, help='no. of particles')\n",
    "parser.add_argument('--epochs', type=int, default=10000,help='no. of epochs')\n",
    "parser.add_argument('--nmix', type=int, default=2, help='no. of modes')\n",
    "parser.add_argument('--metric', type=str, default=\"energy\", help='distance metric')\n",
    "parser.add_argument('--noise', type=str, default=\"True\", help='whether to add noise')\n",
    "parser.add_argument('--kernel', type=str, default=\"rbf\", help='kernel')\n",
    "parser.add_argument('--gpu', type=int, default=2, help='gpu')\n",
    "parser.add_argument('--seed', type=int, default=0, help='random seed') \n",
    "parser.add_argument('--suffix', type=str, default=\"\", help='suffix for res folder')\n",
    "parser.add_argument('--m', type=int, help='no. of projections')\n",
    "parser.add_argument('--save_every', type=int, default=200, help='step intervals to save particles')\n",
    "parser.add_argument('--method', type=str, default=\"all\", help='which method to use')\n"
   ]
  },
  {
   "cell_type": "code",
   "execution_count": 2,
   "metadata": {},
   "outputs": [
    {
     "name": "stdout",
     "output_type": "stream",
     "text": [
      "Running for dim: 20, lr: 0.01, nparticles: 100\n"
     ]
    }
   ],
   "source": [
    "args = parser.parse_args([])\n",
    "device = torch.device(f'cuda:{args.gpu}' if args.gpu != -1 else 'cpu')\n",
    "dim = args.dim\n",
    "lr = args.lr\n",
    "delta = args.delta\n",
    "T = args.T\n",
    "nparticles = args.nparticles\n",
    "epochs = args.epochs\n",
    "seed = args.seed\n",
    "eff_dims = [args.effdim] if args.effdim > 0 else [1, 2, 5]\n",
    "nmix = args.nmix\n",
    "add_noise = True if args.noise == \"True\" else False\n",
    "radius = 5\n",
    "save_every = args.save_every\n",
    "print(f\"Running for dim: {dim}, lr: {lr}, nparticles: {nparticles}\")"
   ]
  },
  {
   "cell_type": "code",
   "execution_count": 3,
   "metadata": {},
   "outputs": [],
   "source": [
    "\n",
    "\n",
    "\n",
    "if args.kernel == \"rbf\":\n",
    "    Kernel = RBF\n",
    "    BatchKernel = BatchRBF"
   ]
  },
  {
   "cell_type": "code",
   "execution_count": 4,
   "metadata": {},
   "outputs": [],
   "source": [
    "def mix_gauss_experiment(mixture_dist, means):\n",
    "    '''Mixture of Multivariate gaussian with cov matrices being the identity.\n",
    "    Args:\n",
    "        probs: Tensor of shape (nmix,) for the mixture_distribution.\n",
    "        means: Tensor of shape (nmix, d), where nmix is the number of components \n",
    "            and d is the dimension of each component.\n",
    "    '''\n",
    "    nmix = means.shape[0]\n",
    "    comp = D.Independent(D.Normal(means.to(device), torch.ones((nmix, means.shape[1]), device=device)), 1)\n",
    "    distribution = D.mixture_same_family.MixtureSameFamily(mixture_dist, comp) \n",
    "    return distribution\n",
    "\n",
    "\n",
    "def points_on_circle(theta, rad):\n",
    "    '''Generate d-dim points whose first two dimensions lies on a circle of \n",
    "    radius rad, with position being specified by the angle from the positive \n",
    "    x-axis theta.\n",
    "    '''\n",
    "    return torch.Tensor([[rad * np.cos(theta + 0.25*np.pi), rad * np.sin(theta + 0.25*np.pi)]])"
   ]
  },
  {
   "cell_type": "code",
   "execution_count": 5,
   "metadata": {},
   "outputs": [],
   "source": [
    "## target density\n",
    "mix_means = torch.cat(\n",
    "[points_on_circle(i * 2*np.pi / nmix, rad=radius) for i in range(nmix)]).to(device)\n",
    "mix_means = torch.cat((mix_means, torch.zeros((mix_means.shape[0], dim - 2), device=device)), dim=1)\n",
    "\n",
    "distribution = mix_gauss_experiment(\n",
    "mixture_dist=D.Categorical(torch.ones(mix_means.shape[0], device=device)),\n",
    "means=mix_means\n",
    ")"
   ]
  },
  {
   "cell_type": "code",
   "execution_count": 6,
   "metadata": {},
   "outputs": [],
   "source": [
    "def score(X):\n",
    "        X_cp = X.clone().detach().requires_grad_()\n",
    "        log_prob = distribution.log_prob(X_cp)\n",
    "        score_func = autograd.grad(log_prob.sum(), X_cp)[0]\n",
    "        return score_func"
   ]
  },
  {
   "cell_type": "code",
   "execution_count": 7,
   "metadata": {},
   "outputs": [
    {
     "name": "stdout",
     "output_type": "stream",
     "text": [
      "Running for dim: 20\n",
      "#####################################################\n",
      "Device: cuda:2\n",
      "Running for dim: 20\n",
      "#####################################################\n",
      "Device: cuda:2\n",
      "Running SVGD >>>>>>>>>>>>>>>>>>\n"
     ]
    },
    {
     "name": "stderr",
     "output_type": "stream",
     "text": [
      "100%|██████████| 10000/10000 [00:21<00:00, 470.77it/s]\n"
     ]
    },
    {
     "name": "stdout",
     "output_type": "stream",
     "text": [
      "Running mysvgd >>>>>>>>>>>>>>>>>>>>>>>\n"
     ]
    },
    {
     "name": "stderr",
     "output_type": "stream",
     "text": [
      "100%|██████████| 10000/10000 [09:37<00:00, 17.32it/s]\n"
     ]
    }
   ],
   "source": [
    "print(f\"Running for dim: {dim}\")\n",
    "print(\"#####################################################\")\n",
    "\n",
    "## target density\n",
    "print(f\"Device: {device}\")\n",
    "\n",
    "\n",
    "\n",
    "\n",
    "print(f\"Running for dim: {dim}\")\n",
    "print(\"#####################################################\")\n",
    "\n",
    "## target density\n",
    "print(f\"Device: {device}\")\n",
    "\n",
    "means = torch.zeros(dim, device=device)\n",
    "\n",
    "torch.manual_seed(0)\n",
    "\n",
    "\n",
    "cov = torch.eye(dim, device=device)\n",
    "\n",
    "distribution = D.MultivariateNormal(means.to(device), cov)\n",
    "\n",
    "# sample from target (for computing metric)\n",
    "x_target = distribution.sample((nparticles, ))\n",
    "# sample from variational density\n",
    "torch.manual_seed(235)\n",
    "x_init = 2 + np.sqrt(2) * torch.randn(nparticles, *distribution.event_shape, device=device)\n",
    "\n",
    "\n",
    "\n",
    "\n",
    "\n",
    "\n",
    "    \n",
    "\n",
    "print(\"Running SVGD >>>>>>>>>>>>>>>>>>\")\n",
    "# sample from variational density\n",
    "x = x_init.clone().to(device)\n",
    "kernel = Kernel(method=\"med_heuristic\")\n",
    "svgd = SVGD(distribution, kernel, optim.Adam([x], lr=lr), device=device)\n",
    "\n",
    "svgd.fit(x, epochs, verbose=True, save_every=save_every)\n",
    "    \n",
    "\n",
    "theta_svgd = x\n",
    "    \n",
    "\n",
    "\n",
    "\n",
    "\n",
    "\n",
    "print('Running mysvgd >>>>>>>>>>>>>>>>>>>>>>>')\n",
    "\n",
    "\n",
    "\n",
    "x0 = x_init.clone().to(device)\n",
    "vector1  = torch.zeros_like(x0).to(device)\n",
    "\n",
    "\n",
    "lr = 0.03\n",
    "theta, vector = etmySVGD(kernel,device).update(x0, score, k = 2, n_iter = 10000,   lr= lr, vector=vector1)\n",
    "theta_mysvgd = theta"
   ]
  },
  {
   "cell_type": "code",
   "execution_count": null,
   "metadata": {},
   "outputs": [],
   "source": []
  },
  {
   "cell_type": "code",
   "execution_count": 8,
   "metadata": {},
   "outputs": [
    {
     "name": "stdout",
     "output_type": "stream",
     "text": [
      "Running for dim: 20, lr: 0.01, nparticles: 100\n"
     ]
    }
   ],
   "source": [
    "def xshaped_gauss_experiment(mixture_dist, means, correlation):\n",
    "    '''Mixture of Multivariate gaussian with cov matrices being the identity.\n",
    "    Args:\n",
    "        mixture_dist: torch.distributions.Categorical-like instance for the \n",
    "            probability of each component in the mixture.\n",
    "        means: Tensor of shape (nmix, d), where nmix is the number of components \n",
    "            and d is the dimension of each component.\n",
    "        correlation: Float between 0 and 1 for the magnitude of correlation between\n",
    "            the first two dims.\n",
    "    '''\n",
    "    nmix, dim = means.shape\n",
    "    nmix = nmix + 1\n",
    "    \n",
    "    # create multibatch multivariate Gaussian\n",
    "    cov1 = torch.eye(dim, device=device)\n",
    "    cov1[:2, :2] = torch.Tensor([[2, 1.9],[1.9, 2]])\n",
    "   \n",
    "    \n",
    "    #cov1[dim-2:, dim-2:] = torch.Tensor([[1, correlation], [correlation, 1]])\n",
    "    cov2 = torch.eye(dim, device=device)\n",
    "    cov2[:2, :2] = torch.Tensor([[2, 0], [0, 2]])\n",
    "    #cov2[dim-2:, dim-2:] = torch.Tensor([[1, 0], [0, 1]])\n",
    "   \n",
    "    mix_cov = torch.stack((cov1, cov2))\n",
    "   \n",
    "    comp = D.MultivariateNormal(means.to(device), mix_cov)\n",
    "\n",
    "    distribution = D.mixture_same_family.MixtureSameFamily(mixture_dist, comp)   \n",
    "    return(distribution)\n",
    "\n",
    "parser = argparse.ArgumentParser(description='Running xshaped experiment.')\n",
    "parser.add_argument('--dim', type=int,default=20, help='dimension')\n",
    "parser.add_argument('--effdim', type=int, default=-1, help='dimension')\n",
    "parser.add_argument('--lr', type=float,default=0.01, help='learning rate')\n",
    "parser.add_argument('--lr_g', type=float, default=0.1, help='learning rate for g')\n",
    "parser.add_argument('--delta', type=float,default=0.01, help='stepsize for projections')\n",
    "parser.add_argument('--T', type=float, default=1e-4, help='noise multiplier for projections')\n",
    "parser.add_argument('--nparticles', type=int,default=100, help='no. of particles')\n",
    "parser.add_argument('--epochs', type=int, default=20000,help='no. of epochs')\n",
    "parser.add_argument('--nmix', type=int, default=4, help='no. of modes')\n",
    "parser.add_argument('--metric', type=str, default=\"energy\", help='distance metric')\n",
    "parser.add_argument('--noise', type=str, default=\"True\", help='whether to add noise')\n",
    "parser.add_argument('--kernel', type=str, default=\"rbf\", help='kernel')\n",
    "parser.add_argument('--gpu', type=int, default=2, help='gpu')\n",
    "parser.add_argument('--seed', type=int, default=235, help='random seed') \n",
    "parser.add_argument('--suffix', type=str, default=\"\", help='suffix for res folder')\n",
    "parser.add_argument('--m', type=int, help='no. of projections')\n",
    "parser.add_argument('--save_every', type=int, default=200, help='step intervals to save particles')\n",
    "parser.add_argument('--method', type=str, default=\"all\", help='which method to use')\n",
    "\n",
    "\n",
    "args = parser.parse_args([])\n",
    "dim = args.dim\n",
    "lr = args.lr\n",
    "delta = args.delta\n",
    "T = args.T\n",
    "nparticles = args.nparticles\n",
    "epochs = args.epochs\n",
    "seed = args.seed\n",
    "eff_dims = [args.effdim] if args.effdim > 0 else [1, 2, 5]\n",
    "add_noise = True if args.noise == \"True\" else False\n",
    "correlation = 0.95\n",
    "save_every = args.save_every\n",
    "device = torch.device(f'cuda:{args.gpu}' if args.gpu != -1 else 'cpu')\n",
    "print(f\"Running for dim: {dim}, lr: {lr}, nparticles: {nparticles}\")"
   ]
  },
  {
   "cell_type": "code",
   "execution_count": null,
   "metadata": {},
   "outputs": [],
   "source": []
  },
  {
   "cell_type": "code",
   "execution_count": 9,
   "metadata": {},
   "outputs": [
    {
     "name": "stdout",
     "output_type": "stream",
     "text": [
      "Running for dim: 20\n",
      "#####################################################\n",
      "Running SVGD >>>>>>>>>>>>>>>>>>\n"
     ]
    },
    {
     "name": "stderr",
     "output_type": "stream",
     "text": [
      "100%|██████████| 20000/20000 [00:51<00:00, 385.00it/s]\n"
     ]
    },
    {
     "name": "stdout",
     "output_type": "stream",
     "text": [
      "Running mysvgd >>>>>>>>>>>>>>>>>>>>>>>\n"
     ]
    },
    {
     "name": "stderr",
     "output_type": "stream",
     "text": [
      "100%|██████████| 10000/10000 [09:32<00:00, 17.46it/s]\n"
     ]
    }
   ],
   "source": [
    "print(f\"Running for dim: {dim}\")\n",
    "print(\"#####################################################\")\n",
    "\n",
    "## target density\n",
    "mix_means_x = torch.zeros((2, dim), device=device)\n",
    "mix_means_x[:, :2] = 0\n",
    "\n",
    "distribution_x = xshaped_gauss_experiment(\n",
    "    mixture_dist=D.Categorical(torch.ones(mix_means_x.shape[0], device=device)),\n",
    "    means=mix_means_x,\n",
    "    correlation=correlation\n",
    ")\n",
    "\n",
    "\n",
    "# sample from target (for computing metric)\n",
    "\n",
    "\n",
    "\n",
    "# sample from variational density\n",
    "x_init_x =  torch.randn(nparticles, *distribution_x.event_shape).to(device)\n",
    "\n",
    "## SVGD\n",
    "\n",
    "def score(X):\n",
    "    X_cp = X.clone().detach().requires_grad_()\n",
    "    log_prob = distribution_x.log_prob(X_cp)\n",
    "    score_func = autograd.grad(log_prob.sum(), X_cp)[0]\n",
    "    return score_func\n",
    "\n",
    "    \n",
    "\n",
    "print(\"Running SVGD >>>>>>>>>>>>>>>>>>\")\n",
    "# sample from variational density\n",
    "x = x_init_x.clone().to(device)\n",
    "kernel = Kernel(method=\"med_heuristic\")\n",
    "svgd = SVGD(distribution_x, kernel, optim.Adam([x], lr=lr), device=device)\n",
    "\n",
    "svgd.fit(x, epochs, verbose=True, save_every=save_every)\n",
    "\n",
    "\n",
    "xtheta_svgd = x\n",
    "    \n",
    "\n",
    "\n",
    "\n",
    "\n",
    "\n",
    "\n",
    "print('Running mysvgd >>>>>>>>>>>>>>>>>>>>>>>')\n",
    "\n",
    "\n",
    "\n",
    "x0 = x_init_x.clone().to(device)\n",
    "vector1  = torch.randn(nparticles, dim).to(device)\n",
    "\n",
    "\n",
    "    \n",
    "theta, vector = etmySVGD(kernel,device).update(x0, score, k = 2, n_iter = 10000,  lr= lr, vector=vector1)\n",
    "xtheta_mysvgd = theta"
   ]
  },
  {
   "cell_type": "code",
   "execution_count": 10,
   "metadata": {},
   "outputs": [
    {
     "name": "stderr",
     "output_type": "stream",
     "text": [
      "/home/zhoujk/anaconda3/envs/AG/lib/python3.9/site-packages/torch/functional.py:504: UserWarning: torch.meshgrid: in an upcoming release, it will be required to pass the indexing argument. (Triggered internally at /opt/conda/conda-bld/pytorch_1666643016022/work/aten/src/ATen/native/TensorShape.cpp:3190.)\n",
      "  return _VF.meshgrid(tensors, **kwargs)  # type: ignore[attr-defined]\n"
     ]
    }
   ],
   "source": [
    "\n",
    "P = distribution\n",
    "P_x = distribution_x\n",
    "d = 7.0\n",
    "step = 0.1\n",
    "concat = mix_means[0, 2:]\n",
    "concat_x = mix_means_x[0, 2:]\n",
    "\n",
    "xv, yv = torch.meshgrid([torch.arange(-d, d, step), torch.arange(-d, d, step)])\n",
    "xv, yv = xv.to(x_init.device), yv.to(x_init.device)\n",
    "pos_xy = torch.cat((xv.unsqueeze(-1), yv.unsqueeze(-1)), dim=-1).to(x_init.device)\n",
    "if P.event_shape[0] > 2:\n",
    "# assert concat is not None, \"Need to specify concat in dim larger than 2.\"\n",
    "    if concat is None:\n",
    "        print((\"Concatenating higher dims with vector of zeros. Customize by \"\n",
    "            \"using the concat argument.\"))\n",
    "        concat = torch.zeros((1, P.event_shape[0] - 2)).to(x_init.device)\n",
    "\n",
    "    pos_xy = torch.cat(\n",
    "        (pos_xy, concat.repeat(pos_xy.shape[0], pos_xy.shape[1], 1)), \n",
    "        dim=2).to(x_init.device)\n",
    "p_xy = P.log_prob(pos_xy).exp().unsqueeze(-1)\n",
    "xv, yv, x_init, theta_svgd, p_xy = xv.to(\"cpu\"), yv.to(\"cpu\"), x_init.to(\"cpu\"), theta_svgd.to(\"cpu\"), p_xy.to(\"cpu\")\n",
    "xv, yv, x_init, theta_mysvgd, p_xy = xv.to(\"cpu\"), yv.to(\"cpu\"), x_init.to(\"cpu\"), theta_mysvgd.to(\"cpu\"), p_xy.to(\"cpu\")\n",
    "\n",
    "\n",
    "\n",
    "\n",
    "xxv, xyv = torch.meshgrid([torch.arange(-d, d, step), torch.arange(-d, d, step)])\n",
    "xxv, xyv = xxv.to(x_init_x.device), xyv.to(x_init_x.device)\n",
    "xpos_xy = torch.cat((xxv.unsqueeze(-1), xyv.unsqueeze(-1)), dim=-1).to(x_init_x.device)\n",
    "if P_x.event_shape[0] > 2:\n",
    "# assert concat is not None, \"Need to specify concat in dim larger than 2.\"\n",
    "    if concat_x is None:\n",
    "        print((\"Concatenating higher dims with vector of zeros. Customize by \"\n",
    "            \"using the concat argument.\"))\n",
    "        concat_x = torch.zeros((1, P_x.event_shape[0] - 2)).to(x_init_x.device)\n",
    "\n",
    "    xpos_xy = torch.cat(\n",
    "        (xpos_xy, concat_x.repeat(xpos_xy.shape[0], xpos_xy.shape[1], 1)), \n",
    "        dim=2).to(x_init_x.device)\n",
    "xp_xy = P_x.log_prob(xpos_xy).exp().unsqueeze(-1)\n",
    "xxv, xyv, x_init_x, xtheta_svgd, xp_xy = xxv.to(\"cpu\"), xyv.to(\"cpu\"), x_init_x.to(\"cpu\"), xtheta_svgd.to(\"cpu\"), xp_xy.to(\"cpu\")\n",
    "xxv, xyv, x_init_x, xtheta_mysvgd, xp_xy = xxv.to(\"cpu\"), xyv.to(\"cpu\"), x_init_x.to(\"cpu\"), xtheta_mysvgd.to(\"cpu\"), xp_xy.to(\"cpu\")\n",
    "\n"
   ]
  },
  {
   "cell_type": "code",
   "execution_count": null,
   "metadata": {},
   "outputs": [],
   "source": []
  },
  {
   "cell_type": "code",
   "execution_count": 11,
   "metadata": {},
   "outputs": [],
   "source": [
    "theta_svgd = theta_svgd.detach().numpy()\n",
    "theta_mysvgd = theta_mysvgd.detach().numpy()\n",
    "\n",
    "xtheta_svgd = xtheta_svgd.detach().numpy()\n",
    "xtheta_mysvgd = xtheta_mysvgd.detach().numpy()"
   ]
  },
  {
   "cell_type": "code",
   "execution_count": 12,
   "metadata": {},
   "outputs": [
    {
     "data": {
      "text/plain": [
       "Text(0.5, 1.0, 'SVGD')"
      ]
     },
     "execution_count": 12,
     "metadata": {},
     "output_type": "execute_result"
    },
    {
     "data": {
      "image/png": "[encoded data removed]",
      "text/plain": [
       "<Figure size 1200x600 with 6 Axes>"
      ]
     },
     "metadata": {},
     "output_type": "display_data"
    }
   ],
   "source": [
    "figsize = (12,6)\n",
    "fig = plt.figure(figsize=figsize)\n",
    "plt.subplot(2, 3, 1)\n",
    "plt.contourf(xv, yv, p_xy.squeeze(-1), levels=20)\n",
    "plt.title(\"toy\")\n",
    "plt.subplot(2, 3, 2)\n",
    "plt.contourf(xv, yv, p_xy.squeeze(-1), levels=20)\n",
    "plt.scatter(theta_svgd[:, 0], theta_svgd[:, 1], color=\"r\", alpha=0.5, s=6)\n",
    "plt.title(\"SVGD\")\n",
    "plt.subplot(2, 3, 3)\n",
    "plt.contourf(xv, yv, p_xy.squeeze(-1), levels=20)\n",
    "plt.scatter(theta_mysvgd[:, 0], theta_mysvgd[:, 1], color=\"r\", alpha=0.5, s=6)\n",
    "plt.title(\"SVGD\")\n",
    "\n",
    "\n",
    "\n",
    "plt.subplot(2, 3, 4)\n",
    "plt.contourf(xxv, xyv, xp_xy.squeeze(-1), levels=30)\n",
    "plt.title(\"toy\")\n",
    "plt.subplot(2, 3, 5)\n",
    "plt.contourf(xxv, xyv, xp_xy.squeeze(-1), levels=30)\n",
    "plt.scatter(xtheta_svgd[:, 0], xtheta_svgd[:, 1], color=\"r\", alpha=0.5, s=6)\n",
    "plt.title(\"SVGD\")\n",
    "plt.subplot(2, 3, 6)\n",
    "plt.contourf(xxv, xyv, xp_xy.squeeze(-1), levels=30)\n",
    "plt.scatter(xtheta_mysvgd[:, 0], xtheta_mysvgd[:, 1], color=\"r\", alpha=0.5, s=6)\n",
    "plt.title(\"SVGD\")\n"
   ]
  }
 ],
 "metadata": {
  "kernelspec": {
   "display_name": "Python 3.9.15 ('AG')",
   "language": "python",
   "name": "python3"
  },
  "language_info": {
   "codemirror_mode": {
    "name": "ipython",
    "version": 3
   },
   "file_extension": ".py",
   "mimetype": "text/x-python",
   "name": "python",
   "nbconvert_exporter": "python",
   "pygments_lexer": "ipython3",
   "version": "3.7.13"
  },
  "orig_nbformat": 4,
  "vscode": {
   "interpreter": {
    "hash": "28e57e6ed411ebe457d9d5e52f3313a26a0295904f732baf128c9b6661c268ce"
   }
  }
 },
 "nbformat": 4,
 "nbformat_minor": 2
}
