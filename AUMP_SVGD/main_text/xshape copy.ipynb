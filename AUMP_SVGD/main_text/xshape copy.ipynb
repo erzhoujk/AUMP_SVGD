{
 "cells": [
  {
   "cell_type": "code",
   "execution_count": 1,
   "metadata": {},
   "outputs": [
    {
     "name": "stderr",
     "output_type": "stream",
     "text": [
      "/home/zhoujk/anaconda3/envs/AG/lib/python3.9/site-packages/tqdm/auto.py:22: TqdmWarning: IProgress not found. Please update jupyter and ipywidgets. See https://ipywidgets.readthedocs.io/en/stable/user_install.html\n",
      "  from .autonotebook import tqdm as notebook_tqdm\n"
     ]
    }
   ],
   "source": [
    "import torch\n",
    "import torch.autograd as autograd\n",
    "import autograd.numpy as np\n",
    "from tqdm import tqdm, trange\n",
    "import os\n",
    "import numpy as np\n",
    "import torch\n",
    "from src.Tmy_svgd import tmySVGD\n",
    "import torch.optim as optim\n",
    "import torch.distributions as D\n",
    "import pickle\n",
    "import argparse\n",
    "import time\n",
    "from src.rand_mysvgd import min_mySVGD\n",
    "import matplotlib.pyplot as plt\n",
    "from src.svgd import SVGD\n",
    "from src.gsvgd import FullGSVGDBatch\n",
    "from src.kernel import RBF, BatchRBF\n",
    "from src.utils import plot_particles\n",
    "\n",
    "from src.manifold import Grassmann\n",
    "from src.s_svgd import SlicedSVGD"
   ]
  },
  {
   "cell_type": "code",
   "execution_count": 2,
   "metadata": {},
   "outputs": [],
   "source": [
    "from src.Sliced_KSD_Clean.Util import *\n",
    "from src.Sliced_KSD_Clean.Divergence.Def_Divergence import *\n",
    "from src.Sliced_KSD_Clean.Divergence.Kernel import *\n",
    "from src.Sliced_KSD_Clean.Divergence.Dataloader import *\n",
    "\n",
    "import os\n",
    "import numpy as np\n",
    "import torch\n",
    "import torch.optim as optim\n",
    "import torch.distributions as D\n",
    "from tqdm import tqdm, trange\n",
    "from src.svgd import SVGD\n",
    "from src.gsvgd import FullGSVGDBatch\n",
    "from src.kernel import RBF, BatchRBF\n",
    "from src.utils import plot_particles\n",
    "\n",
    "from src.manifold import Grassmann\n",
    "from src.s_svgd import SlicedSVGD\n",
    "from src.mysvgd import etmySVGD\n",
    "import matplotlib.pyplot as plt\n",
    "\n",
    "import pickle\n",
    "import argparse\n",
    "import time\n",
    "\n",
    "import torch.autograd as autograd"
   ]
  },
  {
   "cell_type": "code",
   "execution_count": null,
   "metadata": {},
   "outputs": [],
   "source": []
  },
  {
   "cell_type": "code",
   "execution_count": 3,
   "metadata": {},
   "outputs": [
    {
     "data": {
      "text/plain": [
       "_StoreAction(option_strings=['--method'], dest='method', nargs=None, const=None, default='all', type=<class 'str'>, choices=None, required=False, help='which method to use', metavar=None)"
      ]
     },
     "execution_count": 3,
     "metadata": {},
     "output_type": "execute_result"
    }
   ],
   "source": [
    "parser = argparse.ArgumentParser(description='Running xshaped experiment.')\n",
    "\n",
    "parser.add_argument('--dim', type=int,default=20,help='dimension')\n",
    "parser.add_argument('--effdim', type=int, default=3, help='dimension')\n",
    "parser.add_argument('--lr', type=float,default=0.01,help='learning rate')\n",
    "parser.add_argument('--lr_g', type=float, default=0.1, help='learning rate for g')\n",
    "parser.add_argument('--delta', type=float,default=0.01, help='stepsize for projections')\n",
    "parser.add_argument('--T', type=float, default=1e-4, help='noise multiplier for projections')\n",
    "parser.add_argument('--nparticles', type=int, default=50, help='no. of particles')\n",
    "parser.add_argument('--epochs', type=int,default=20000, help='no. of epochs')\n",
    "parser.add_argument('--metric', type=str, default=\"energy\", help='distance metric')\n",
    "parser.add_argument('--noise', type=str, default=\"True\", help='whether to add noise')\n",
    "parser.add_argument('--kernel', type=str, default=\"rbf\", help='kernel')\n",
    "parser.add_argument('--gpu', type=int, default=8, help='gpu')\n",
    "parser.add_argument('--seed', type=int, default=0, help='random seed') \n",
    "parser.add_argument('--suffix', type=str, default=\"\", help='suffix for res folder')\n",
    "parser.add_argument('--m', type=int, help='no. of projections')\n",
    "parser.add_argument('--save_every', type=int, default=200, help='step intervals to save particles')\n",
    "parser.add_argument('--method', type=str, default=\"all\", help='which method to use')"
   ]
  },
  {
   "cell_type": "code",
   "execution_count": 4,
   "metadata": {},
   "outputs": [
    {
     "name": "stdout",
     "output_type": "stream",
     "text": [
      "Running for dim: 20, lr: 0.01, nparticles: 50\n"
     ]
    }
   ],
   "source": [
    "args = parser.parse_args([])\n",
    "dim = args.dim\n",
    "lr = args.lr\n",
    "delta = args.delta\n",
    "T = args.T\n",
    "nparticles = args.nparticles\n",
    "epochs = args.epochs\n",
    "seed = args.seed\n",
    "eff_dims = [args.effdim] if args.effdim > 0 else [1, 2, 5]\n",
    "add_noise = True if args.noise == \"True\" else False\n",
    "correlation = 0.95\n",
    "save_every = args.save_every\n",
    "print(f\"Running for dim: {dim}, lr: {lr}, nparticles: {nparticles}\")\n"
   ]
  },
  {
   "cell_type": "code",
   "execution_count": 5,
   "metadata": {},
   "outputs": [
    {
     "data": {
      "text/plain": [
       "device(type='cuda', index=8)"
      ]
     },
     "execution_count": 5,
     "metadata": {},
     "output_type": "execute_result"
    }
   ],
   "source": [
    "device = torch.device(f'cuda:{args.gpu}' if args.gpu != -1 else 'cpu')\n",
    "device"
   ]
  },
  {
   "cell_type": "code",
   "execution_count": 6,
   "metadata": {},
   "outputs": [],
   "source": [
    "def comm_func_eval(samples, ground_truth):\n",
    "\n",
    "    samples = samples.clone()\n",
    "    ground_truth = ground_truth.clone()\n",
    "\n",
    "    def ex():\n",
    "        f0 = torch.mean(samples, axis=0)\n",
    "        f1 = torch.mean(ground_truth, axis=0)\n",
    "        return torch.mean((f0-f1)**2)\n",
    "\n",
    "    def exsqr():\n",
    "        f0 = torch.var(samples, axis=0)\n",
    "        f1 = torch.var(ground_truth, axis=0)\n",
    "        return torch.mean((f0-f1)**2)\n",
    "\n",
    "\n",
    "    out = {}\n",
    "    out['mean_dis'] = ex()\n",
    "    out['var_dis'] = exsqr()\n",
    "    return out"
   ]
  },
  {
   "cell_type": "code",
   "execution_count": 7,
   "metadata": {},
   "outputs": [],
   "source": [
    "def xshaped_gauss_experiment(mixture_dist, means, correlation):\n",
    "    '''Mixture of Multivariate gaussian with cov matrices being the identity.\n",
    "    Args:\n",
    "        mixture_dist: torch.distributions.Categorical-like instance for the \n",
    "            probability of each component in the mixture.\n",
    "        means: Tensor of shape (nmix, d), where nmix is the number of components \n",
    "            and d is the dimension of each component.\n",
    "        correlation: Float between 0 and 1 for the magnitude of correlation between\n",
    "            the first two dims.\n",
    "    '''\n",
    "    nmix, dim = means.shape\n",
    "    \n",
    "    # create multibatch multivariate Gaussian\n",
    "    cov1 = torch.eye(dim, device=device)\n",
    "    cov1[:2, :2] = torch.Tensor([[1, correlation], [correlation, 1]])\n",
    "    cov2 = torch.eye(dim, device=device)\n",
    "    cov2[:2, :2] = torch.Tensor([[1, -correlation], [-correlation, 1]])\n",
    "    mix_cov = torch.stack((cov1, cov2))\n",
    "    comp = D.MultivariateNormal(means.to(device), mix_cov)\n",
    "\n",
    "    distribution = D.mixture_same_family.MixtureSameFamily(mixture_dist, comp)   \n",
    "    return(distribution)"
   ]
  },
  {
   "cell_type": "code",
   "execution_count": 8,
   "metadata": {},
   "outputs": [],
   "source": [
    "metric = args.metric\n",
    "\n",
    "results_folder = f\"./res/xshaped{args.suffix}/{args.kernel}_epoch{epochs}_lr{lr}_delta{delta}_n{nparticles}_dim{dim}\"\n",
    "results_folder = f\"{results_folder}/seed{seed}\""
   ]
  },
  {
   "cell_type": "code",
   "execution_count": 9,
   "metadata": {},
   "outputs": [],
   "source": [
    "if not os.path.exists(results_folder):\n",
    "    os.makedirs(results_folder)"
   ]
  },
  {
   "cell_type": "code",
   "execution_count": 10,
   "metadata": {},
   "outputs": [],
   "source": [
    "if args.kernel == \"rbf\":\n",
    "    Kernel = RBF\n",
    "    BatchKernel = BatchRBF"
   ]
  },
  {
   "cell_type": "code",
   "execution_count": 11,
   "metadata": {},
   "outputs": [
    {
     "name": "stdout",
     "output_type": "stream",
     "text": [
      "Device: cuda:8\n",
      "Running SVGD\n"
     ]
    },
    {
     "name": "stderr",
     "output_type": "stream",
     "text": [
      "100%|██████████| 20000/20000 [01:13<00:00, 273.95it/s]"
     ]
    },
    {
     "name": "stdout",
     "output_type": "stream",
     "text": [
      "tensor(4.3241, device='cuda:8')\n",
      "tensor(0.5999, device='cuda:8')\n",
      "tensor(14.8877, device='cuda:8')\n",
      "tensor(1.9932+0.j, device='cuda:8')\n"
     ]
    },
    {
     "name": "stderr",
     "output_type": "stream",
     "text": [
      "\n"
     ]
    }
   ],
   "source": [
    "print(f\"Device: {device}\")\n",
    "torch.manual_seed(seed)\n",
    "\n",
    "list_norm = []\n",
    "list_gr_var = []\n",
    "list_tr = []\n",
    "list_eig = []\n",
    "\n",
    "\n",
    "mix_means = torch.zeros((2, dim), device=device)\n",
    "mix_means[:, :2] = 1\n",
    "\n",
    "distribution = xshaped_gauss_experiment(\n",
    "    mixture_dist=D.Categorical(torch.ones(mix_means.shape[0], device=device)),\n",
    "    means=mix_means,\n",
    "    correlation=correlation\n",
    ")\n",
    "\n",
    "# sample from target (for computing metric)\n",
    "x_target = distribution.sample((nparticles, ))\n",
    "# sample from variational density\n",
    "x_init = torch.randn(nparticles, *distribution.event_shape, device=device)\n",
    "\n",
    "\n",
    "\n",
    "\n",
    "\n",
    "# sample from variational density\n",
    "x_init =  torch.randn(nparticles, *distribution.event_shape).to(device)\n",
    "\n",
    "## SVGD\n",
    "cov = torch.cov(x_target.T)\n",
    "\n",
    "if args.method in [\"SVGD\", \"all\"]:\n",
    "    \n",
    "\n",
    "    print(\"Running SVGD\")\n",
    "    # sample from variational density\n",
    "    x = x_init.clone().to(device)\n",
    "    kernel = Kernel(method=\"med_heuristic\")\n",
    "    svgd = SVGD(distribution, kernel, optim.Adam([x], lr=lr), device=device)\n",
    "    \n",
    "    svgd.fit(x, epochs, verbose=True, save_every=save_every)\n",
    "    \n",
    "\n",
    "theta = x\n",
    "    \n",
    "del x\n",
    "\n",
    "\n",
    "cov_svgd = torch.cov(theta.T)\n",
    "print(torch.linalg.norm(cov - cov_svgd))\n",
    "list_norm.append(torch.linalg.norm(cov - cov_svgd))\n",
    "print(comm_func_eval(theta, x_target)['var_dis'])\n",
    "list_gr_var.append(comm_func_eval(theta, x_target)['var_dis'])\n",
    "print(torch.trace(cov - cov_svgd))\n",
    "list_tr.append(torch.trace(cov - cov_svgd))\n",
    "(evals, evecs) = torch.linalg.eig(cov - cov_svgd)\n",
    "print(evals[0])\n",
    "list_eig.append(evals[0])\n"
   ]
  },
  {
   "cell_type": "code",
   "execution_count": 12,
   "metadata": {},
   "outputs": [
    {
     "name": "stderr",
     "output_type": "stream",
     "text": [
      "/home/zhoujk/anaconda3/envs/AG/lib/python3.9/site-packages/torch/functional.py:504: UserWarning: torch.meshgrid: in an upcoming release, it will be required to pass the indexing argument. (Triggered internally at /opt/conda/conda-bld/pytorch_1666643016022/work/aten/src/ATen/native/TensorShape.cpp:3190.)\n",
      "  return _VF.meshgrid(tensors, **kwargs)  # type: ignore[attr-defined]\n"
     ]
    },
    {
     "data": {
      "image/png": "[encoded data removed]",
      "text/plain": [
       "<Figure size 1200x600 with 2 Axes>"
      ]
     },
     "metadata": {},
     "output_type": "display_data"
    }
   ],
   "source": [
    "fig_svgd = plot_particles(\n",
    "        x_init.detach(), \n",
    "        theta.detach(), \n",
    "        distribution, \n",
    "        d=6.0, \n",
    "        step=0.1, \n",
    "        concat=mix_means[0, 2:]\n",
    ")"
   ]
  },
  {
   "cell_type": "code",
   "execution_count": 13,
   "metadata": {},
   "outputs": [
    {
     "name": "stdout",
     "output_type": "stream",
     "text": [
      "Running min_mySVGD\n"
     ]
    },
    {
     "name": "stderr",
     "output_type": "stream",
     "text": [
      "100%|██████████| 20000/20000 [22:03<00:00, 15.11it/s]"
     ]
    },
    {
     "name": "stdout",
     "output_type": "stream",
     "text": [
      "tensor(3.7044, device='cuda:8', grad_fn=<LinalgVectorNormBackward0>)\n",
      "tensor(0.0354, device='cuda:8', grad_fn=<MeanBackward0>)\n",
      "tensor(0.7747, device='cuda:8', grad_fn=<TraceBackward0>)\n",
      "tensor(1.6627+0.j, device='cuda:8', grad_fn=<SelectBackward0>)\n"
     ]
    },
    {
     "name": "stderr",
     "output_type": "stream",
     "text": [
      "\n"
     ]
    }
   ],
   "source": [
    "print(\"Running min_mySVGD\")\n",
    "\n",
    "def score(X):\n",
    "        X_cp = X.clone().detach().requires_grad_()\n",
    "        log_prob = distribution.log_prob(X_cp)\n",
    "        score_func = autograd.grad(log_prob.sum(), X_cp)[0]\n",
    "        return score_func\n",
    "\n",
    "list_norm_mysvgd = []\n",
    "list_gr_var_mysvgd = []\n",
    "list_tr_mysvgd= []\n",
    "list_eig_mysvgd = []\n",
    "\n",
    "# sample from variational density\n",
    "\n",
    "mix_means = torch.zeros((2, dim), device=device)\n",
    "mix_means[:, :2] = 1\n",
    "\n",
    "distribution = xshaped_gauss_experiment(\n",
    "mixture_dist=D.Categorical(torch.ones(mix_means.shape[0], device=device)),\n",
    "means=mix_means,\n",
    "correlation=correlation\n",
    ")\n",
    "\n",
    "# sample from target (for computing metric)\n",
    "x_target = distribution.sample((nparticles, ))\n",
    "# sample from variational density\n",
    "x_init = torch.randn(nparticles, *distribution.event_shape, device=device)\n",
    "\n",
    "\n",
    "\n",
    "\n",
    "\n",
    "\n",
    "cov = torch.cov(x_target.T)\n",
    "\n",
    "\n",
    "x0 = x_init\n",
    "vector1  = torch.randn(nparticles, dim).to(device)\n",
    "\n",
    "\n",
    "\n",
    "theta, vector = tmySVGD(kernel, device).update(x0,score,  k = 2, n_iter = 20000,  debug = False, lr= lr, vector=vector1)\n",
    "#mean = np.mean(theta, axis=0)  + np.random.random(1)\n",
    "#var_theta = np.cov(theta.T) + np.random.random(1)\n",
    "#x0 = np.random.multivariate_normal(mean, var_theta,num)\n",
    "\n",
    "\n",
    "\n",
    "cov_mysvgd = torch.cov(theta.T)\n",
    "print(torch.linalg.norm(cov - cov_mysvgd))\n",
    "list_norm_mysvgd.append(torch.linalg.norm(cov - cov_mysvgd))\n",
    "print(comm_func_eval(theta, x_target)['var_dis'])\n",
    "list_gr_var_mysvgd.append(comm_func_eval(theta, x_target)['var_dis'])\n",
    "print(torch.trace(cov - cov_mysvgd))\n",
    "list_tr_mysvgd.append(torch.trace(cov - cov_mysvgd))\n",
    "(evals, evecs) = torch.linalg.eig(cov - cov_mysvgd)\n",
    "print(evals[0])\n",
    "list_eig_mysvgd.append(evals[0])\n"
   ]
  },
  {
   "cell_type": "code",
   "execution_count": 14,
   "metadata": {},
   "outputs": [
    {
     "name": "stdout",
     "output_type": "stream",
     "text": [
      "tensor(3.7044, device='cuda:8', grad_fn=<LinalgVectorNormBackward0>)\n",
      "{'mean_dis': tensor(0.0126, device='cuda:8', grad_fn=<MeanBackward0>), 'var_dis': tensor(0.0354, device='cuda:8', grad_fn=<MeanBackward0>)}\n",
      "tensor(0.7747, device='cuda:8', grad_fn=<TraceBackward0>)\n",
      "tensor(1.6627+0.j, device='cuda:8', grad_fn=<SelectBackward0>)\n"
     ]
    },
    {
     "data": {
      "image/png": "[encoded data removed]",
      "text/plain": [
       "<Figure size 640x480 with 1 Axes>"
      ]
     },
     "metadata": {},
     "output_type": "display_data"
    }
   ],
   "source": [
    "\n",
    "cov = torch.cov(x_target.T)\n",
    "index_svgd = []\n",
    "samn_svgd = []\n",
    "for i in range(theta.shape[0]):\n",
    "    samn_svgd.append(torch.linalg.norm(theta[i,:].cpu()).item())\n",
    "    index_svgd.append(i)\n",
    "\n",
    "import matplotlib.pyplot as plt\n",
    "plt.scatter(index_svgd, samn_svgd, c='blue')\n",
    "\n",
    "cov_mysvgd = torch.cov(theta.T)\n",
    "\n",
    "\n",
    "print(torch.linalg.norm(cov - cov_mysvgd))\n",
    "print(comm_func_eval(theta, x_target))\n",
    "print(torch.trace(cov - cov_mysvgd))\n",
    "(evals, evecs) = torch.linalg.eig(cov - cov_mysvgd)\n",
    "print(evals[0])"
   ]
  },
  {
   "cell_type": "code",
   "execution_count": 15,
   "metadata": {},
   "outputs": [
    {
     "data": {
      "image/png": "[encoded data removed]",
      "text/plain": [
       "<Figure size 1200x600 with 2 Axes>"
      ]
     },
     "metadata": {},
     "output_type": "display_data"
    },
    {
     "ename": "",
     "evalue": "",
     "output_type": "error",
     "traceback": [
      "\u001b[1;31mThe Kernel crashed while executing code in the the current cell or a previous cell. Please review the code in the cell(s) to identify a possible cause of the failure. Click <a href='https://aka.ms/vscodeJupyterKernelCrash'>here</a> for more info. View Jupyter <a href='command:jupyter.viewOutput'>log</a> for further details."
     ]
    }
   ],
   "source": [
    "fig_svgd = plot_particles(\n",
    "        x_init.detach(), \n",
    "        theta.detach(), \n",
    "        distribution, \n",
    "        d=6.0, \n",
    "        step=0.1, \n",
    "        concat=mix_means[0, 2:]\n",
    ")"
   ]
  },
  {
   "cell_type": "code",
   "execution_count": null,
   "metadata": {},
   "outputs": [],
   "source": []
  },
  {
   "cell_type": "code",
   "execution_count": null,
   "metadata": {},
   "outputs": [],
   "source": [
    "## GSVGD\n",
    "\n",
    "list_norm_gsvgd = []\n",
    "list_gr_var_gsvgd = []\n",
    "list_tr_gsvgd= []\n",
    "list_eig_gsvgd = []\n",
    "\n",
    "# sample from variational density\n",
    "\n",
    "## target density\n",
    "mix_means = torch.zeros((2, dim), device=device)\n",
    "mix_means[:, :2] = 1\n",
    "\n",
    "distribution = xshaped_gauss_experiment(\n",
    "    mixture_dist=D.Categorical(torch.ones(mix_means.shape[0], device=device)),\n",
    "    means=mix_means,\n",
    "    correlation=correlation\n",
    ")\n",
    "\n",
    "\n",
    "# sample from target (for computing metric)\n",
    "x_target = distribution.sample((nparticles, )).to(device)\n",
    "cov = torch.cov(x_target)\n",
    "\n",
    "# sample from variational density\n",
    "x_init =  torch.randn(nparticles, *distribution.event_shape).to(device)\n",
    "\n",
    "\n",
    "cov = torch.cov(x_target.T)\n",
    "if args.method in [\"GSVGD\", \"all\"]:\n",
    "    res_gsvgd = [0] * len(eff_dims)\n",
    "    def run_gsvgd(eff_dims):\n",
    "        for i, eff_dim in enumerate(eff_dims):\n",
    "            print(f\"Running GSVGD with eff dim = {eff_dim}\")\n",
    "\n",
    "            m = min(20, dim // eff_dim) if args.m is None else args.m\n",
    "            print(\"number of projections:\", m)\n",
    "\n",
    "            # sample from variational density\n",
    "            x_init_gsvgd = x_init.clone()\n",
    "            x_gsvgd = x_init_gsvgd.clone()\n",
    "\n",
    "            kernel_gsvgd = BatchKernel(method=\"med_heuristic\")\n",
    "            optimizer = optim.Adam([x_gsvgd], lr=lr)\n",
    "            manifold = Grassmann(dim, eff_dim)\n",
    "            U = torch.eye(dim, device=device).requires_grad_(True)\n",
    "            U = U[:, :(m*eff_dim)]\n",
    "\n",
    "            gsvgd = FullGSVGDBatch(\n",
    "                target=distribution,\n",
    "                kernel=kernel_gsvgd,\n",
    "                manifold=manifold,\n",
    "                optimizer=optimizer,\n",
    "                delta=delta,\n",
    "                T=T,\n",
    "                device=device,\n",
    "                noise=add_noise\n",
    "            )\n",
    "            start = time.time()\n",
    "            U, metric_gsvgd = gsvgd.fit(x_gsvgd, U, m, epochs, \n",
    "                verbose=True, save_every=save_every, threshold=0.0001*m)\n",
    "            elapsed_time = time.time() - start\n",
    "\n",
    "            # plot particles\n",
    "            fig_gsvgd = plot_particles(\n",
    "                x_init_gsvgd.detach(), \n",
    "                x_gsvgd.detach(), \n",
    "                distribution, \n",
    "                d=9.0, \n",
    "                step=0.1, \n",
    "                concat=mix_means[0, 2:].to(device),\n",
    "                savedir=results_folder + f\"/fullgsvgd_effdim{eff_dim}_lr{lr}_delta{delta}_m{m}_T{T}.png\"\n",
    "            )\n",
    "\n",
    "            # store results\n",
    "            res_gsvgd[i] = {\n",
    "                \"init\":x_init_gsvgd, \"final\":x_gsvgd, \"metric\":metric_gsvgd, \n",
    "                \"fig\":fig_gsvgd, \"particles\":gsvgd.particles, \"pam\":gsvgd.pam, \"res\": gsvgd,\n",
    "                \"elapsed_time\": elapsed_time}\n",
    "        return res_gsvgd,x_gsvgd\n",
    "\n",
    "res_gsvgd ,x_gsvgd= run_gsvgd(eff_dims)\n",
    "theta = x_gsvgd\n",
    "del x_gsvgd\n",
    "cov_gsvgd = torch.cov(theta.T)\n",
    "print(torch.linalg.norm(cov - cov_gsvgd))\n",
    "list_norm_gsvgd.append(torch.linalg.norm(cov - cov_gsvgd))\n",
    "print(comm_func_eval(theta, x_target)['var_dis'])\n",
    "list_gr_var_gsvgd.append(comm_func_eval(theta, x_target)['var_dis'])\n",
    "print(torch.trace(cov - cov_gsvgd))\n",
    "list_tr_gsvgd.append(torch.trace(cov - cov_gsvgd))\n",
    "(evals, evecs) = torch.linalg.eig(cov - cov_gsvgd)\n",
    "print(evals[0])\n",
    "list_eig_gsvgd.append(evals[0])\n",
    "\n",
    "    "
   ]
  },
  {
   "cell_type": "code",
   "execution_count": null,
   "metadata": {},
   "outputs": [],
   "source": [
    "theta = x_gsvgd\n",
    "cov = torch.cov(x_target.T)\n",
    "index_svgd = []\n",
    "samn_svgd = []\n",
    "for i in range(theta.shape[0]):\n",
    "    samn_svgd.append(torch.linalg.norm(theta[i,:].cpu()).item())\n",
    "    index_svgd.append(i)\n",
    "\n",
    "import matplotlib.pyplot as plt\n",
    "plt.scatter(index_svgd, samn_svgd, c='blue')\n",
    "\n",
    "cov_gsvgd = torch.cov(theta.T)\n",
    "\n",
    "\n",
    "print(torch.linalg.norm(cov - cov_gsvgd))\n",
    "print(comm_func_eval(theta, x_target))\n",
    "print(torch.trace(cov - cov_gsvgd))\n",
    "(evals, evecs) = torch.linalg.eig(cov - cov_gsvgd)\n",
    "print(evals[0])"
   ]
  },
  {
   "cell_type": "code",
   "execution_count": null,
   "metadata": {},
   "outputs": [],
   "source": [
    "fig_svgd = plot_particles(\n",
    "        x_init.detach(), \n",
    "        theta.detach(), \n",
    "        distribution, \n",
    "        d=6.0, \n",
    "        step=0.1, \n",
    "        concat=mix_means[0, 2:]\n",
    ")"
   ]
  },
  {
   "cell_type": "code",
   "execution_count": null,
   "metadata": {},
   "outputs": [],
   "source": [
    "## S-SVGD\n",
    "list_norm_ssvgd = []\n",
    "list_gr_var_ssvgd = []\n",
    "list_tr_ssvgd = []\n",
    "list_eig_ssvgd = []\n",
    "\n",
    "\n",
    "## target density\n",
    "mix_means = torch.zeros((2, dim), device=device)\n",
    "mix_means[:, :2] = 1\n",
    "\n",
    "distribution = xshaped_gauss_experiment(\n",
    "    mixture_dist=D.Categorical(torch.ones(mix_means.shape[0], device=device)),\n",
    "    means=mix_means,\n",
    "    correlation=correlation\n",
    ")\n",
    "\n",
    "\n",
    "# sample from target (for computing metric)\n",
    "x_target = distribution.sample((nparticles, )).to(device)\n",
    "cov = torch.cov(x_target)\n",
    "\n",
    "# sample from variational density\n",
    "x_init =  torch.randn(nparticles, *distribution.event_shape).to(device)\n",
    "\n",
    "\n",
    "cov = torch.cov(x_target.T)\n",
    "if args.method in [\"S-SVGD\", \"all\"]:\n",
    "    # sample from variational density\n",
    "    print(\"Running S-SVGD\")\n",
    "    x_init_s_svgd = x_init.clone()\n",
    "    x_s_svgd = x_init_s_svgd.clone().requires_grad_()\n",
    "    s_svgd = SlicedSVGD(distribution, device=device)\n",
    "\n",
    "    start = time.time()\n",
    "    x_s_svgd, metric_s_svgd = s_svgd.fit(\n",
    "        samples=x_s_svgd, \n",
    "        n_epoch=epochs, \n",
    "        lr=args.lr_g,\n",
    "        eps=lr,\n",
    "        save_every=save_every\n",
    "    )\n",
    "\n",
    "theta = x_s_svgd\n",
    "del x_s_svgd\n",
    "cov_ssvgd = torch.cov(theta.T)\n",
    "print(torch.linalg.norm(cov - cov_ssvgd))\n",
    "list_norm_ssvgd.append(torch.linalg.norm(cov - cov_ssvgd))\n",
    "print(comm_func_eval(theta, x_target)['var_dis'])\n",
    "list_gr_var_ssvgd.append(comm_func_eval(theta, x_target)['var_dis'])\n",
    "print(torch.trace(cov - cov_gsvgd))\n",
    "list_tr_ssvgd.append(torch.trace(cov - cov_ssvgd))\n",
    "(evals, evecs) = torch.linalg.eig(cov - cov_ssvgd)\n",
    "print(evals[0])\n",
    "list_eig_ssvgd.append(evals[0])\n"
   ]
  },
  {
   "cell_type": "code",
   "execution_count": null,
   "metadata": {},
   "outputs": [],
   "source": [
    "theta = x_s_svgd \n",
    "cov = torch.cov(x_target.T)\n",
    "index_svgd = []\n",
    "samn_svgd = []\n",
    "for i in range(theta.shape[0]):\n",
    "    samn_svgd.append(torch.linalg.norm(theta[i,:].cpu()).item())\n",
    "    index_svgd.append(i)\n",
    "\n",
    "import matplotlib.pyplot as plt\n",
    "plt.scatter(index_svgd, samn_svgd, c='blue')\n",
    "\n",
    "cov_ssvgd = torch.cov(theta.T)\n",
    "\n",
    "\n",
    "print(torch.linalg.norm(cov - cov_ssvgd))\n",
    "print(comm_func_eval(theta, x_target))\n",
    "print(torch.trace(cov - cov_ssvgd))\n",
    "(evals, evecs) = torch.linalg.eig(cov - cov_ssvgd)\n",
    "print(evals[0])"
   ]
  },
  {
   "cell_type": "code",
   "execution_count": null,
   "metadata": {},
   "outputs": [],
   "source": [
    "fig_svgd = plot_particles(\n",
    "        x_init.detach(), \n",
    "        theta.detach(), \n",
    "        distribution, \n",
    "        d=6.0, \n",
    "        step=0.1, \n",
    "        concat=mix_means[0, 2:]\n",
    ")"
   ]
  }
 ],
 "metadata": {
  "kernelspec": {
   "display_name": "Python 3.7.13 ('AG')",
   "language": "python",
   "name": "python3"
  },
  "language_info": {
   "codemirror_mode": {
    "name": "ipython",
    "version": 3
   },
   "file_extension": ".py",
   "mimetype": "text/x-python",
   "name": "python",
   "nbconvert_exporter": "python",
   "pygments_lexer": "ipython3",
   "version": "3.9.15"
  },
  "orig_nbformat": 4,
  "vscode": {
   "interpreter": {
    "hash": "28e57e6ed411ebe457d9d5e52f3313a26a0295904f732baf128c9b6661c268ce"
   }
  }
 },
 "nbformat": 4,
 "nbformat_minor": 2
}
