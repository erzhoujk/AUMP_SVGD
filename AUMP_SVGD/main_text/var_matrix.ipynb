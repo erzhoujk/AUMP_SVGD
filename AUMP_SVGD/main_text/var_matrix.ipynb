{
 "cells": [
  {
   "cell_type": "code",
   "execution_count": 1,
   "metadata": {},
   "outputs": [],
   "source": [
    "import theano.tensor as T\n",
    "import theano\n",
    "from tqdm import trange\n",
    "import numpy as np\n",
    "from scipy.spatial.distance import pdist, squareform\n",
    "from scipy.stats import multivariate_normal, gaussian_kde\n",
    "import matplotlib.pyplot as plt\n",
    "import matplotlib.cm as cm\n",
    "from  matplotlib import colors\n",
    "from numpy import linalg\n",
    "import numpy as np\n",
    "import scipy.io\n",
    "from sklearn.model_selection import train_test_split\n",
    "import numpy.matlib as nm\n",
    "import numpy as np\n",
    "from scipy.spatial.distance import pdist, squareform"
   ]
  },
  {
   "cell_type": "code",
   "execution_count": 2,
   "metadata": {},
   "outputs": [],
   "source": [
    "class SVGD():\n",
    "    \"\"\"class that will perform svgd via self.update\"\"\"\n",
    "    def __init__(self):\n",
    "        pass\n",
    "    \n",
    "    def svgd_kernel(self, theta, h = -1):\n",
    "        \"\"\"gaussian rbf kernel function\"\"\"\n",
    "        sq_dist = pdist(theta)\n",
    "        pairwise_dists = squareform(sq_dist)**2\n",
    "        if h < 0: # if h < 0, using median trick\n",
    "            h = np.median(pairwise_dists)  \n",
    "            h = np.sqrt( h**2 / np.log(theta.shape[0]+1)) \n",
    "           # h = np.sqrt( h**2 ) \n",
    "        # compute the rbf kernel\n",
    "        Kxy = np.exp( -pairwise_dists / h**2 / 2)\n",
    "        dxkxy = -np.matmul(Kxy, theta)\n",
    "        sumkxy = np.sum(Kxy, axis=1)\n",
    "        for i in range(theta.shape[1]):\n",
    "            dxkxy[:, i] = dxkxy[:,i] + np.multiply(theta[:,i],sumkxy)\n",
    "        dxkxy = dxkxy / (h**2)\n",
    "        return (Kxy, dxkxy)\n",
    "    \n",
    "    def update(self, x0, lnprob, n_iter = 1000, stepsize = 1e-3, alpha = 0.9, debug = False):\n",
    "        \"\"\"performs svgd\n",
    "        Args:\n",
    "            x0: np array - the initial set of particles\n",
    "            lnprob: function - logarithmic gradient of the target density\n",
    "            n_iter: int - number of iterations to run\n",
    "            stepsize: float\n",
    "            alpha: float - correction factor\n",
    "            debug: boolean - verbose console output\n",
    "        Returns:\n",
    "            theta: np array - particles after svgd\n",
    "        \"\"\"\n",
    "        # Check input\n",
    "        if x0 is None or lnprob is None:\n",
    "            raise ValueError('x0 or lnprob cannot be None!')\n",
    "        theta = np.copy(x0) \n",
    "        # adagrad with momentum\n",
    "        fudge_factor = 1e-6\n",
    "        historical_grad = 0\n",
    "        for iter in range(n_iter):\n",
    "            if debug and (iter+1) % 1000 == 0:\n",
    "                print ('iter ' + str(iter+1))  \n",
    "            lnpgrad = lnprob(theta)\n",
    "            # calculating the kernel matrix\n",
    "            kxy, dxkxy = self.svgd_kernel(theta, h = -1)  \n",
    "            grad_theta = (np.matmul(kxy, lnpgrad) + dxkxy) / x0.shape[0]  \n",
    "            # adagrad \n",
    "            if iter == 0:\n",
    "                historical_grad = historical_grad + grad_theta ** 2\n",
    "            else:\n",
    "                historical_grad = alpha * historical_grad + (1 - alpha) * (grad_theta ** 2)\n",
    "            adj_grad = np.divide(grad_theta, fudge_factor + np.sqrt(historical_grad))\n",
    "            theta = theta + stepsize * adj_grad \n",
    "        return theta\n",
    "    \n",
    "    def only_gradient(self, x0, lnprob, n_iter = 1000, stepsize = 1e-3, bandwidth = -1, alpha = 0.9, debug = False):\n",
    "        \"\"\"performs only the gradiational descend part of svgd\"\"\"\n",
    "        # Check input\n",
    "        if x0 is None or lnprob is None:\n",
    "            raise ValueError('x0 or lnprob cannot be None!')\n",
    "        theta = np.copy(x0) \n",
    "        # adagrad with momentum\n",
    "        fudge_factor = 1e-6\n",
    "        historical_grad = 0\n",
    "        for iter in range(n_iter):\n",
    "            if debug and (iter+1) % 1000 == 0:\n",
    "                print ('iter ' + str(iter+1))  \n",
    "            lnpgrad = lnprob(theta)\n",
    "            # calculating the kernel matrix\n",
    "            kxy, dxkxy = self.svgd_kernel(theta, h = -1)  \n",
    "            grad_theta = (np.matmul(kxy, lnpgrad)) / x0.shape[0]  \n",
    "            # adagrad \n",
    "            if iter == 0:\n",
    "                historical_grad = historical_grad + grad_theta ** 2\n",
    "            else:\n",
    "                historical_grad = alpha * historical_grad + (1 - alpha) * (grad_theta ** 2)\n",
    "            adj_grad = np.divide(grad_theta, fudge_factor+np.sqrt(historical_grad))\n",
    "            theta = theta + stepsize * adj_grad \n",
    "        return theta\n",
    "    \n",
    "    def only_kernel(self, x0, lnprob, n_iter = 1000, stepsize = 1e-3, bandwidth = -1, alpha = 0.9, debug = False):\n",
    "        \"\"\"performs only the kernel part of svgd, the repulsive force\"\"\"\n",
    "        # Check input\n",
    "        if x0 is None or lnprob is None:\n",
    "            raise ValueError('x0 or lnprob cannot be None!')\n",
    "        theta = np.copy(x0) \n",
    "        # adagrad with momentum\n",
    "        fudge_factor = 1e-6\n",
    "        historical_grad = 0\n",
    "        for iter in range(n_iter):\n",
    "            if debug and (iter+1) % 1000 == 0:\n",
    "                print ('iter ' + str(iter+1))  \n",
    "            lnpgrad = lnprob(theta)\n",
    "            # calculating the kernel matrix\n",
    "            kxy, dxkxy = self.svgd_kernel(theta, h = -1)  \n",
    "            grad_theta = (dxkxy) / x0.shape[0]  \n",
    "            # adagrad \n",
    "            if iter == 0:\n",
    "                historical_grad = historical_grad + grad_theta ** 2\n",
    "            else:\n",
    "                historical_grad = alpha * historical_grad + (1 - alpha) * (grad_theta ** 2)\n",
    "            adj_grad = np.divide(grad_theta, fudge_factor+np.sqrt(historical_grad))\n",
    "            theta = theta + stepsize * adj_grad \n",
    "        return theta"
   ]
  },
  {
   "cell_type": "code",
   "execution_count": 3,
   "metadata": {},
   "outputs": [],
   "source": [
    "class MVN:\n",
    "    \"\"\"a multivariate normal distribution\"\"\"\n",
    "    def __init__(self, mu, A):\n",
    "        self.mu = mu\n",
    "        self.A = A\n",
    "        self.inv = linalg.inv(A)\n",
    "    \n",
    "    def dlnprob(self, theta):\n",
    "        return -1*np.matmul(theta-nm.repmat(self.mu, theta.shape[0], 1), self.inv)"
   ]
  },
  {
   "cell_type": "code",
   "execution_count": 5,
   "metadata": {},
   "outputs": [
    {
     "name": "stderr",
     "output_type": "stream",
     "text": [
      "100%|██████████| 9/9 [28:14<00:00, 188.30s/it]\n"
     ]
    }
   ],
   "source": [
    "var_matrix = []\n",
    "\n",
    "for D in trange(1, 10):\n",
    "    A = np.random.random((D,D)) * 2\n",
    "    A = np.dot(A, A.T)\n",
    "\n",
    "    m = np.max(A) + 0.1\n",
    "    B = np.eye(D) *m\n",
    "    A = A + B\n",
    "    num = 40*D\n",
    "\n",
    "    mu = np.random.random((1, D))\n",
    "    model = MVN(mu, A)\n",
    "    x0 = np.random.normal(0,1, [num, D])\n",
    "    \n",
    "    theta = SVGD().update(x0, model.dlnprob, n_iter=20000*D, stepsize=1e-2)\n",
    "    #mean = np.mean(theta, axis=0)  + np.random.random(1)\n",
    "    #var_theta = np.cov(theta.T) + np.random.random(1)\n",
    "    #x0 = np.random.multivariate_normal(mean, var_theta,num)\n",
    "    var_matrix.append(theta)\n",
    "    \n"
   ]
  },
  {
   "cell_type": "code",
   "execution_count": 23,
   "metadata": {},
   "outputs": [
    {
     "data": {
      "text/plain": [
       "9"
      ]
     },
     "execution_count": 23,
     "metadata": {},
     "output_type": "execute_result"
    },
    {
     "data": {
      "image/png": "[encoded data removed]",
      "text/plain": [
       "<Figure size 432x288 with 1 Axes>"
      ]
     },
     "metadata": {
      "needs_background": "light"
     },
     "output_type": "display_data"
    }
   ],
   "source": [
    "a = var_matrix[8]\n",
    "plt.imshow(a)\n",
    "np.linalg.matrix_rank(var_matrix[8])"
   ]
  },
  {
   "cell_type": "code",
   "execution_count": 18,
   "metadata": {},
   "outputs": [
    {
     "data": {
      "text/plain": [
       "64.0"
      ]
     },
     "execution_count": 18,
     "metadata": {},
     "output_type": "execute_result"
    }
   ],
   "source": [
    "2560/40"
   ]
  }
 ],
 "metadata": {
  "interpreter": {
   "hash": "2b93f8c4d930873deca66cfa56322c06625f43c389649f3389b5ade23ab04c7b"
  },
  "kernelspec": {
   "display_name": "Python 3.9.7 ('base')",
   "language": "python",
   "name": "python3"
  },
  "language_info": {
   "codemirror_mode": {
    "name": "ipython",
    "version": 3
   },
   "file_extension": ".py",
   "mimetype": "text/x-python",
   "name": "python",
   "nbconvert_exporter": "python",
   "pygments_lexer": "ipython3",
   "version": "3.9.7"
  },
  "orig_nbformat": 4
 },
 "nbformat": 4,
 "nbformat_minor": 2
}
