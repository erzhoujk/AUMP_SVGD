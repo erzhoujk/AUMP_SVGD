{
 "cells": [
  {
   "cell_type": "code",
   "execution_count": 1,
   "metadata": {},
   "outputs": [
    {
     "name": "stderr",
     "output_type": "stream",
     "text": [
      "/home/zhoujk/anaconda3/envs/AG/lib/python3.9/site-packages/tqdm/auto.py:22: TqdmWarning: IProgress not found. Please update jupyter and ipywidgets. See https://ipywidgets.readthedocs.io/en/stable/user_install.html\n",
      "  from .autonotebook import tqdm as notebook_tqdm\n"
     ]
    }
   ],
   "source": [
    "import os\n",
    "import numpy as np\n",
    "import pandas as pd\n",
    "import torch\n",
    "import torch.optim as optim\n",
    "from tqdm import trange\n",
    "from src.svgd import SVGD\n",
    "from src.gsvgd import FullGSVGDBatch\n",
    "from src.kernel import RBF, BatchRBF\n",
    "from src.manifold import Grassmann\n",
    "import torch.autograd as autograd\n",
    "from src.s_svgd import SlicedSVGD\n",
    "from src.diffusion import Diffusion\n",
    "from src.rand_mysvgd import mySVGD\n",
    "import pickle\n",
    "import argparse\n",
    "import time\n",
    "import numpyro\n",
    "from numpyro.infer import MCMC, NUTS\n",
    "import numpyro.distributions as npr_dist\n",
    "import jax.random as random\n",
    "import jax.numpy as jnp\n",
    "import jax\n",
    "from src.Tmy_svgd import etmySVGD"
   ]
  },
  {
   "cell_type": "code",
   "execution_count": 2,
   "metadata": {},
   "outputs": [],
   "source": [
    "parser = argparse.ArgumentParser(description=\"Running xshaped experiment.\")\n",
    "parser.add_argument(\"--dim\", type=int, default=50, help=\"dimension\")\n",
    "parser.add_argument(\"--effdim\", type=int, default=5, help=\"dimension\")\n",
    "parser.add_argument(\"--lr\", type=float, default=0.0001, help=\"learning rate\")\n",
    "parser.add_argument(\"--lr_g\", type=float, default=0.0001, help=\"learning rate for S-SVGD\")\n",
    "parser.add_argument(\n",
    "    \"--delta\", type=float, default=0.1, help=\"stepsize for projections\"\n",
    ")\n",
    "parser.add_argument(\n",
    "    \"--T\", type=float, default=1e-4, help=\"noise multiplier for projections\"\n",
    ")\n",
    "parser.add_argument(\"--nparticles\", type=int, default=2500, help=\"no. of particles\")\n",
    "parser.add_argument(\"--epochs\", type=int, default=20000, help=\"no. of epochs\")\n",
    "parser.add_argument(\"--noise\", type=str, default=\"True\", help=\"whether to add noise\")\n",
    "parser.add_argument(\"--kernel\", type=str, default=\"rbf\", help=\"kernel\")\n",
    "parser.add_argument(\"--gpu\", type=int, default=6, help=\"gpu\")\n",
    "parser.add_argument(\"--seed\", type=int, default=1, help=\"random seed\")\n",
    "parser.add_argument(\"--suffix\", type=str, default=\"\", help=\"suffix for res folder\")\n",
    "parser.add_argument(\"--method\", type=str, default=\"svgd\", help=\"svgd, gsvgd or s-svgd\")\n",
    "parser.add_argument(\"--save_every\", type=int, default=100, help=\"batch size\")\n",
    "\n",
    "args = parser.parse_args([])"
   ]
  },
  {
   "cell_type": "code",
   "execution_count": 3,
   "metadata": {},
   "outputs": [
    {
     "name": "stdout",
     "output_type": "stream",
     "text": [
      "Running for lr: 0.0001, nparticles: 2500\n"
     ]
    }
   ],
   "source": [
    "dim = args.dim\n",
    "lr = args.lr\n",
    "lr_g = args.lr_g\n",
    "delta = args.delta\n",
    "T = args.T\n",
    "nparticles = args.nparticles\n",
    "epochs = args.epochs\n",
    "seed = args.seed\n",
    "eff_dims = 10\n",
    "add_noise = True if args.noise == \"True\" else False\n",
    "save_every = args.save_every  # save metric values every 100 epochs\n",
    "print(f\"Running for lr: {lr}, nparticles: {nparticles}\")\n",
    "\n",
    "device = torch.device(f\"cuda:{args.gpu}\" if args.gpu != -1 else \"cpu\")\n"
   ]
  },
  {
   "cell_type": "code",
   "execution_count": 4,
   "metadata": {},
   "outputs": [],
   "source": [
    "results_folder = f\"./res/diffusion{args.suffix}/{args.kernel}_epoch{epochs}_lr{lr}_delta{delta}_n{nparticles}_dim{dim}\"\n",
    "results_folder = f\"{results_folder}/seed{seed}\""
   ]
  },
  {
   "cell_type": "code",
   "execution_count": 5,
   "metadata": {},
   "outputs": [
    {
     "data": {
      "text/plain": [
       "'./res/diffusion/rbf_epoch20000_lr0.0001_delta0.1_n2500_dim50/seed1'"
      ]
     },
     "execution_count": 5,
     "metadata": {},
     "output_type": "execute_result"
    }
   ],
   "source": [
    "results_folder"
   ]
  },
  {
   "cell_type": "code",
   "execution_count": 6,
   "metadata": {},
   "outputs": [
    {
     "data": {
      "text/plain": [
       "'1.13.0'"
      ]
     },
     "execution_count": 6,
     "metadata": {},
     "output_type": "execute_result"
    }
   ],
   "source": [
    "torch.__version__"
   ]
  },
  {
   "cell_type": "code",
   "execution_count": 7,
   "metadata": {},
   "outputs": [],
   "source": [
    "if not os.path.exists(results_folder):\n",
    "    os.makedirs(results_folder)\n",
    "\n",
    "if args.kernel == \"rbf\":\n",
    "    Kernel = RBF\n",
    "    BatchKernel = BatchRBF"
   ]
  },
  {
   "cell_type": "code",
   "execution_count": 8,
   "metadata": {},
   "outputs": [
    {
     "name": "stdout",
     "output_type": "stream",
     "text": [
      "Device: cuda:6\n"
     ]
    }
   ],
   "source": [
    "print(f\"Device: {device}\")\n",
    "torch.manual_seed(seed)\n",
    "np.random.seed(seed)\n",
    "\n",
    "## initialize conditional diffusion\n",
    "beta = 5\n",
    "sigma = 0.1\n",
    "\n",
    "distribution = Diffusion(dim, beta, device=device)\n",
    "\n",
    "loc = torch.arange(0, dim+1, 1)[1:]\n",
    "distribution.loc = loc\n",
    "noise_covariance = torch.diag(sigma**2 * torch.ones(len(loc), device=device))\n",
    "distribution.set_noise_covariance(noise_covariance)\n",
    "distribution.set_C()\n",
    "\n",
    "x_true = distribution.brownian_motion((1, dim))\n",
    "u_true = distribution.solution(x_true)\n",
    "\n",
    "obs_noise = torch.normal(0, sigma, size=(1, len(loc))).to(device)\n",
    "obs = u_true[:, loc] + obs_noise\n",
    "distribution.obs = obs\n",
    "\n",
    "# initialize particles\n",
    "x0 = distribution.brownian_motion((nparticles, dim))\n",
    "\n",
    "C = distribution.C.cpu().numpy()\n",
    "dt = distribution.dt.cpu().numpy()\n",
    "loc = distribution.loc.cpu().numpy()\n",
    "beta = distribution.beta\n",
    "\n",
    "\n"
   ]
  },
  {
   "cell_type": "code",
   "execution_count": 9,
   "metadata": {},
   "outputs": [
    {
     "name": "stdout",
     "output_type": "stream",
     "text": [
      "Running SVGD\n"
     ]
    }
   ],
   "source": [
    "## SVGD\n",
    "print(\"Running SVGD\")\n",
    "x = x0.clone().requires_grad_()\n",
    "# sample from variational density\n",
    "kernel = Kernel(method=\"med_heuristic\")"
   ]
  },
  {
   "cell_type": "code",
   "execution_count": 10,
   "metadata": {},
   "outputs": [
    {
     "name": "stdout",
     "output_type": "stream",
     "text": [
      "Running SVGD\n"
     ]
    },
    {
     "name": "stderr",
     "output_type": "stream",
     "text": [
      "100%|██████████| 20000/20000 [09:51<00:00, 33.84it/s]"
     ]
    },
    {
     "name": "stdout",
     "output_type": "stream",
     "text": [
      "tensor([[-0.0070,  0.2459,  0.2329,  ...,  0.1423,  0.1246,  0.1516],\n",
      "        [-0.1544,  0.0652,  0.1707,  ...,  0.1015,  0.2012,  0.0487],\n",
      "        [ 0.0425,  0.1803,  0.1499,  ...,  0.2066,  0.3006,  0.1842],\n",
      "        ...,\n",
      "        [-0.0333,  0.1570,  0.1721,  ..., -0.0695, -0.0295, -0.2599],\n",
      "        [-0.0367,  0.1702,  0.1367,  ...,  0.2757,  0.3332,  0.3182],\n",
      "        [-0.0623,  0.1435,  0.2078,  ...,  0.1374,  0.2315,  0.1624]],\n",
      "       device='cuda:6', requires_grad=True)\n",
      "torch.Size([2500, 50])\n"
     ]
    },
    {
     "name": "stderr",
     "output_type": "stream",
     "text": [
      "\n"
     ]
    }
   ],
   "source": [
    "## SVGD\n",
    "print(\"Running SVGD\")\n",
    "x = x0.clone().requires_grad_()\n",
    "# sample from variational density\n",
    "kernel = Kernel(method=\"med_heuristic\")\n",
    "svgd = SVGD(distribution, kernel, optim.Adam([x], lr=lr), device=device)\n",
    "\n",
    "start = time.time()\n",
    "svgd.fit(x, epochs=20000, save_every=save_every)\n",
    "elapsed_time = time.time() - start\n",
    "\n",
    "fitted_method = svgd\n",
    "#particles = fitted_method.particles\n",
    "particles = x\n",
    "\n",
    "method_name = \"svgd\"\n",
    "\n",
    "\n",
    "print(x)\n",
    "## save results\n",
    "pickle.dump(\n",
    "     {\n",
    "            **{\"x_true\": x_true},\n",
    "            **{\"u_true\": u_true},\n",
    "            **{\"particles\": particles},\n",
    "            **{\"time\": elapsed_time}\n",
    "    },\n",
    "    open(results_folder + f\"/particles_svgd2.p\", \"wb\")\n",
    ")\n",
    "\n",
    "# target distribution\n",
    "torch.save(distribution, results_folder + '/target_dist.p')\n",
    "print(x.shape)"
   ]
  },
  {
   "cell_type": "code",
   "execution_count": 11,
   "metadata": {},
   "outputs": [
    {
     "name": "stdout",
     "output_type": "stream",
     "text": [
      "Running min_mySVGD\n"
     ]
    },
    {
     "name": "stderr",
     "output_type": "stream",
     "text": [
      "100%|██████████| 20000/20000 [1:32:31<00:00,  3.60it/s]"
     ]
    },
    {
     "name": "stdout",
     "output_type": "stream",
     "text": [
      "tensor([[-0.0144,  0.2822,  0.2328,  ...,  0.1859,  0.1097,  0.1778],\n",
      "        [-0.1199,  0.1213,  0.2185,  ...,  0.2523,  0.2674,  0.1023],\n",
      "        [-0.0454,  0.1363,  0.3164,  ...,  0.1953,  0.2323,  0.1989],\n",
      "        ...,\n",
      "        [-0.1028,  0.1975,  0.2663,  ...,  0.1086,  0.2369, -0.0333],\n",
      "        [-0.1007,  0.1955,  0.2054,  ...,  0.1031,  0.2451,  0.2946],\n",
      "        [ 0.0084,  0.2738,  0.3174,  ...,  0.1744,  0.1747,  0.1167]],\n",
      "       device='cuda:6')\n"
     ]
    },
    {
     "name": "stderr",
     "output_type": "stream",
     "text": [
      "\n"
     ]
    }
   ],
   "source": [
    "print(\"Running min_mySVGD\")\n",
    "\n",
    "\n",
    "x = x0.clone().requires_grad_()\n",
    "# sample from variational density\n",
    "\n",
    "lr = 0.001\n",
    "theta = etmySVGD(kernel,device,distribution,  k = 2).update(x0,  n_iter = 20000,   lr= lr)\n",
    "       \n",
    "\n",
    "particles = theta\n",
    "\n",
    "## save results\n",
    "pickle.dump(\n",
    "        {\n",
    "            **{\"x_true\": x_true},\n",
    "            **{\"u_true\": u_true},\n",
    "            **{\"particles\": particles},\n",
    "            **{\"time\": elapsed_time}\n",
    "        },\n",
    "open(results_folder + f\"/particles_AUmp_svgd_2_test2.p\", \"wb\")\n",
    ")\n",
    "\n",
    "print(particles)"
   ]
  },
  {
   "cell_type": "code",
   "execution_count": 12,
   "metadata": {},
   "outputs": [
    {
     "name": "stdout",
     "output_type": "stream",
     "text": [
      "Running min_mySVGD\n"
     ]
    },
    {
     "name": "stderr",
     "output_type": "stream",
     "text": [
      "100%|██████████| 20000/20000 [1:30:58<00:00,  3.66it/s]"
     ]
    },
    {
     "name": "stdout",
     "output_type": "stream",
     "text": [
      "tensor([[-0.0722,  0.1934,  0.2799,  ...,  0.1995,  0.1243,  0.1845],\n",
      "        [-0.1747,  0.0318,  0.0816,  ...,  0.2371,  0.3574,  0.1090],\n",
      "        [-0.0167,  0.2950,  0.3230,  ...,  0.2084,  0.2703,  0.2057],\n",
      "        ...,\n",
      "        [-0.2138, -0.0368,  0.0357,  ...,  0.0760,  0.2491, -0.0299],\n",
      "        [ 0.0410,  0.2147,  0.1463,  ...,  0.1175,  0.2231,  0.2946],\n",
      "        [-0.0825,  0.1947,  0.1941,  ...,  0.2033,  0.1883,  0.1167]],\n",
      "       device='cuda:6')\n"
     ]
    },
    {
     "name": "stderr",
     "output_type": "stream",
     "text": [
      "\n"
     ]
    }
   ],
   "source": [
    "print(\"Running min_mySVGD\")\n",
    "\n",
    "\n",
    "x = x0.clone().requires_grad_()\n",
    "# sample from variational density\n",
    "\n",
    "lr = 0.001\n",
    "theta = etmySVGD(kernel,device,distribution,  k = 5).update(x0,  n_iter = 20000,   lr= lr)\n",
    "       \n",
    "\n",
    "particles = theta\n",
    "\n",
    "## save results\n",
    "pickle.dump(\n",
    "        {\n",
    "            **{\"x_true\": x_true},\n",
    "            **{\"u_true\": u_true},\n",
    "            **{\"particles\": particles},\n",
    "            **{\"time\": elapsed_time}\n",
    "        },\n",
    "open(results_folder + f\"/particles_AUmp_svgd_5_test2.p\", \"wb\")\n",
    ")\n",
    "\n",
    "print(particles)"
   ]
  },
  {
   "cell_type": "code",
   "execution_count": 13,
   "metadata": {},
   "outputs": [
    {
     "name": "stdout",
     "output_type": "stream",
     "text": [
      "Running min_mySVGD\n"
     ]
    },
    {
     "name": "stderr",
     "output_type": "stream",
     "text": [
      "100%|██████████| 20000/20000 [1:32:52<00:00,  3.59it/s]"
     ]
    },
    {
     "name": "stdout",
     "output_type": "stream",
     "text": [
      "tensor([[ 0.1026,  0.3220,  0.3208,  ...,  0.1987,  0.1184,  0.1879],\n",
      "        [-0.0293,  0.2101,  0.2261,  ...,  0.2784,  0.3946,  0.1157],\n",
      "        [ 0.0502,  0.3053,  0.3626,  ...,  0.1686,  0.2779,  0.2090],\n",
      "        ...,\n",
      "        [-0.1142,  0.1117,  0.2137,  ...,  0.0786,  0.1657, -0.0266],\n",
      "        [-0.0567,  0.2132,  0.2555,  ...,  0.1569,  0.2174,  0.2946],\n",
      "        [ 0.0134,  0.2328,  0.2602,  ...,  0.1766,  0.1821,  0.1235]],\n",
      "       device='cuda:6')\n"
     ]
    },
    {
     "name": "stderr",
     "output_type": "stream",
     "text": [
      "\n"
     ]
    }
   ],
   "source": [
    "print(\"Running min_mySVGD\")\n",
    "\n",
    "\n",
    "x = x0.clone().requires_grad_()\n",
    "# sample from variational density\n",
    "\n",
    "lr = 0.001\n",
    "theta = etmySVGD(kernel,device,distribution,  k = 10).update(x0,  n_iter = 20000,   lr= lr)\n",
    "       \n",
    "\n",
    "particles = theta\n",
    "\n",
    "## save results\n",
    "pickle.dump(\n",
    "        {\n",
    "            **{\"x_true\": x_true},\n",
    "            **{\"u_true\": u_true},\n",
    "            **{\"particles\": particles},\n",
    "            **{\"time\": elapsed_time}\n",
    "        },\n",
    "open(results_folder + f\"/particles_AUmp_svgd_10_test2.p\", \"wb\")\n",
    ")\n",
    "\n",
    "print(particles)"
   ]
  },
  {
   "cell_type": "code",
   "execution_count": 14,
   "metadata": {},
   "outputs": [
    {
     "name": "stdout",
     "output_type": "stream",
     "text": [
      "Running S-SVGD\n"
     ]
    },
    {
     "name": "stderr",
     "output_type": "stream",
     "text": [
      "100%|██████████| 20000/20000 [2:15:07<00:00,  2.47it/s]  "
     ]
    },
    {
     "name": "stdout",
     "output_type": "stream",
     "text": [
      "tensor([[ 0.2159,  0.4214,  0.3229,  ...,  0.1981,  0.1173,  0.1986],\n",
      "        [-0.0080,  0.2814,  0.2784,  ...,  0.2696,  0.3969,  0.1141],\n",
      "        [ 0.1020,  0.4343,  0.5375,  ...,  0.1610,  0.2609,  0.1939],\n",
      "        ...,\n",
      "        [-0.1681,  0.0330,  0.2510,  ...,  0.0689,  0.1555, -0.0336],\n",
      "        [-0.0944,  0.2418,  0.3511,  ...,  0.1478,  0.2178,  0.2985],\n",
      "        [ 0.0530,  0.2160,  0.2954,  ...,  0.1756,  0.1702,  0.1219]],\n",
      "       device='cuda:6', grad_fn=<CloneBackward0>)\n"
     ]
    },
    {
     "name": "stderr",
     "output_type": "stream",
     "text": [
      "\n"
     ]
    }
   ],
   "source": [
    "## S-SVGD\n",
    "# sample from variational density\n",
    "print(\"Running S-SVGD\")\n",
    "x_s_svgd = x0.clone().requires_grad_()\n",
    "s_svgd = SlicedSVGD(distribution, device=device)\n",
    "\n",
    "start = time.time()\n",
    "x_s_svgd, metric_s_svgd = s_svgd.fit(\n",
    "    samples=x_s_svgd, \n",
    "    n_epoch=epochs, \n",
    "    lr=lr_g,\n",
    "    eps=lr,\n",
    "    save_every=save_every\n",
    ")\n",
    "elapsed_time = time.time() - start\n",
    "\n",
    "fitted_method = s_svgd\n",
    "particles = x_s_svgd\n",
    "\n",
    "pickle.dump(\n",
    "{\n",
    "            **{\"x_true\": x_true},\n",
    "            **{\"u_true\": u_true},\n",
    "            **{\"particles\": particles},\n",
    "            **{\"time\": elapsed_time}\n",
    "        },\n",
    "open(results_folder + f\"/particles_ssvgd_test2.p\", \"wb\")\n",
    ")\n",
    "\n",
    "print(particles)"
   ]
  },
  {
   "cell_type": "markdown",
   "metadata": {},
   "source": []
  }
 ],
 "metadata": {
  "kernelspec": {
   "display_name": "Python 3.7.13 ('AG')",
   "language": "python",
   "name": "python3"
  },
  "language_info": {
   "codemirror_mode": {
    "name": "ipython",
    "version": 3
   },
   "file_extension": ".py",
   "mimetype": "text/x-python",
   "name": "python",
   "nbconvert_exporter": "python",
   "pygments_lexer": "ipython3",
   "version": "3.9.15"
  },
  "orig_nbformat": 4,
  "vscode": {
   "interpreter": {
    "hash": "28e57e6ed411ebe457d9d5e52f3313a26a0295904f732baf128c9b6661c268ce"
   }
  }
 },
 "nbformat": 4,
 "nbformat_minor": 2
}
