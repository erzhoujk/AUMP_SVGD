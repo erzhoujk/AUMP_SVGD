{
 "cells": [
  {
   "cell_type": "code",
   "execution_count": 1,
   "metadata": {},
   "outputs": [
    {
     "name": "stderr",
     "output_type": "stream",
     "text": [
      "/home/zhoujk/anaconda3/envs/AG/lib/python3.9/site-packages/tqdm/auto.py:22: TqdmWarning: IProgress not found. Please update jupyter and ipywidgets. See https://ipywidgets.readthedocs.io/en/stable/user_install.html\n",
      "  from .autonotebook import tqdm as notebook_tqdm\n"
     ]
    }
   ],
   "source": [
    "import os\n",
    "import numpy as np\n",
    "import torch\n",
    "import torch.optim as optim\n",
    "import torch.distributions as D\n",
    "from tqdm import tqdm, trange\n",
    "from src.svgd import SVGD\n",
    "from src.gsvgd import FullGSVGDBatch\n",
    "from src.kernel import RBF, BatchRBF\n",
    "from src.utils import plot_particles\n",
    "from src.Tmy_svgd import tmySVGD\n",
    "from src.manifold import Grassmann\n",
    "from src.s_svgd import SlicedSVGD\n",
    "from src.mysvgd import mySVGD\n",
    "import matplotlib.pyplot as plt\n",
    "from src.rand_mysvgd import min_mySVGD\n",
    "\n",
    "import pickle\n",
    "import argparse\n",
    "import time\n",
    "\n",
    "import torch.autograd as autograd\n"
   ]
  },
  {
   "cell_type": "code",
   "execution_count": 2,
   "metadata": {},
   "outputs": [],
   "source": [
    "def mix_gauss_experiment(mixture_dist, means):\n",
    "    '''Mixture of Multivariate gaussian with cov matrices being the identity.\n",
    "    Args:\n",
    "        probs: Tensor of shape (nmix,) for the mixture_distribution.\n",
    "        means: Tensor of shape (nmix, d), where nmix is the number of components \n",
    "            and d is the dimension of each component.\n",
    "    '''\n",
    "    nmix = means.shape[0]\n",
    "    comp = D.Independent(D.Normal(means.to(device), torch.ones((nmix, means.shape[1]), device=device)), 1)\n",
    "    distribution = D.mixture_same_family.MixtureSameFamily(mixture_dist, comp) \n",
    "    return distribution\n",
    "\n",
    "\n",
    "def points_on_circle(theta, rad):\n",
    "    '''Generate d-dim points whose first two dimensions lies on a circle of \n",
    "    radius rad, with position being specified by the angle from the positive \n",
    "    x-axis theta.\n",
    "    '''\n",
    "    return torch.Tensor([[rad * np.cos(theta + 0.25*np.pi), rad * np.sin(theta + 0.25*np.pi)]])"
   ]
  },
  {
   "cell_type": "code",
   "execution_count": 3,
   "metadata": {},
   "outputs": [
    {
     "data": {
      "text/plain": [
       "_StoreAction(option_strings=['--method'], dest='method', nargs=None, const=None, default='all', type=<class 'str'>, choices=None, required=False, help='which method to use', metavar=None)"
      ]
     },
     "execution_count": 3,
     "metadata": {},
     "output_type": "execute_result"
    }
   ],
   "source": [
    "parser = argparse.ArgumentParser(description='Running xshaped experiment.')\n",
    "parser.add_argument('--dim', type=int,default=10, help='dimension')\n",
    "parser.add_argument('--effdim', type=int, default=-1, help='dimension')\n",
    "parser.add_argument('--lr', type=float,default=0.01, help='learning rate')\n",
    "parser.add_argument('--lr_g', type=float, default=0.1, help='learning rate for g')\n",
    "parser.add_argument('--delta', type=float,default=0.01, help='stepsize for projections')\n",
    "parser.add_argument('--T', type=float, default=1e-4, help='noise multiplier for projections')\n",
    "parser.add_argument('--nparticles', type=int,default=100, help='no. of particles')\n",
    "parser.add_argument('--epochs', type=int, default=20000,help='no. of epochs')\n",
    "parser.add_argument('--nmix', type=int, default=4, help='no. of modes')\n",
    "parser.add_argument('--metric', type=str, default=\"energy\", help='distance metric')\n",
    "parser.add_argument('--noise', type=str, default=\"True\", help='whether to add noise')\n",
    "parser.add_argument('--kernel', type=str, default=\"rbf\", help='kernel')\n",
    "parser.add_argument('--gpu', type=int, default=5, help='gpu')\n",
    "parser.add_argument('--seed', type=int, default=0, help='random seed') \n",
    "parser.add_argument('--suffix', type=str, default=\"\", help='suffix for res folder')\n",
    "parser.add_argument('--m', type=int, help='no. of projections')\n",
    "parser.add_argument('--save_every', type=int, default=200, help='step intervals to save particles')\n",
    "parser.add_argument('--method', type=str, default=\"all\", help='which method to use')\n",
    "\n"
   ]
  },
  {
   "cell_type": "code",
   "execution_count": 4,
   "metadata": {},
   "outputs": [
    {
     "name": "stdout",
     "output_type": "stream",
     "text": [
      "Running for dim: 10, lr: 0.01, nparticles: 100\n"
     ]
    }
   ],
   "source": [
    "args = parser.parse_args([])\n",
    "device = torch.device(f'cuda:{args.gpu}' if args.gpu != -1 else 'cpu')\n",
    "dim = args.dim\n",
    "lr = args.lr\n",
    "delta = args.delta\n",
    "T = args.T\n",
    "nparticles = args.nparticles\n",
    "epochs = args.epochs\n",
    "seed = args.seed\n",
    "eff_dims = [args.effdim] if args.effdim > 0 else [1, 2, 5]\n",
    "nmix = args.nmix\n",
    "add_noise = True if args.noise == \"True\" else False\n",
    "radius = 5\n",
    "save_every = args.save_every\n",
    "print(f\"Running for dim: {dim}, lr: {lr}, nparticles: {nparticles}\")"
   ]
  },
  {
   "cell_type": "code",
   "execution_count": 5,
   "metadata": {},
   "outputs": [],
   "source": [
    "def comm_func_eval(samples, ground_truth):\n",
    "\n",
    "    samples = samples.clone()\n",
    "    ground_truth = ground_truth.clone()\n",
    "\n",
    "    def ex():\n",
    "        f0 = torch.mean(samples, axis=0)\n",
    "        f1 = torch.mean(ground_truth, axis=0)\n",
    "        return torch.mean((f0-f1)**2)\n",
    "\n",
    "    def exsqr():\n",
    "        f0 = torch.var(samples, axis=0)\n",
    "        f1 = torch.var(ground_truth, axis=0)\n",
    "        return torch.mean((f0-f1)**2)\n",
    "\n",
    "\n",
    "    out = {}\n",
    "    out['mean_dis'] = ex()\n",
    "    out['var_dis'] = exsqr()\n",
    "    return out"
   ]
  },
  {
   "cell_type": "code",
   "execution_count": 6,
   "metadata": {},
   "outputs": [],
   "source": [
    "\n",
    "device = torch.device(f'cuda:{args.gpu}' if args.gpu != -1 else 'cpu')\n",
    "\n",
    "metric = args.metric\n",
    "\n",
    "results_folder = f\"./res/multimodal{args.suffix}/{args.kernel}_epoch{epochs}_lr{lr}_delta{delta}_n{nparticles}_dim{dim}\"\n",
    "results_folder = f\"{results_folder}/seed{seed}\""
   ]
  },
  {
   "cell_type": "code",
   "execution_count": 7,
   "metadata": {},
   "outputs": [],
   "source": [
    "\n",
    "if not os.path.exists(results_folder):\n",
    "    os.makedirs(results_folder)\n",
    "\n",
    "if args.kernel == \"rbf\":\n",
    "    Kernel = RBF\n",
    "    BatchKernel = BatchRBF"
   ]
  },
  {
   "cell_type": "code",
   "execution_count": 8,
   "metadata": {},
   "outputs": [
    {
     "name": "stdout",
     "output_type": "stream",
     "text": [
      "Device: cuda:5\n",
      "Running SVGD\n"
     ]
    },
    {
     "name": "stderr",
     "output_type": "stream",
     "text": [
      "100%|██████████| 20000/20000 [00:57<00:00, 349.88it/s]\n"
     ]
    },
    {
     "name": "stdout",
     "output_type": "stream",
     "text": [
      "tensor(8.5717, device='cuda:5')\n",
      "tensor(0.5712, device='cuda:5')\n",
      "tensor(36.8840, device='cuda:5')\n",
      "tensor(-2.1016+0.j, device='cuda:5')\n",
      "Running SVGD\n"
     ]
    },
    {
     "name": "stderr",
     "output_type": "stream",
     "text": [
      "100%|██████████| 20000/20000 [01:07<00:00, 295.19it/s]\n"
     ]
    },
    {
     "name": "stdout",
     "output_type": "stream",
     "text": [
      "tensor(10.3745, device='cuda:5')\n",
      "tensor(0.6456, device='cuda:5')\n",
      "tensor(46.4078, device='cuda:5')\n",
      "tensor(4.4751+0.j, device='cuda:5')\n",
      "Running SVGD\n"
     ]
    },
    {
     "name": "stderr",
     "output_type": "stream",
     "text": [
      "100%|██████████| 20000/20000 [01:22<00:00, 241.01it/s]\n"
     ]
    },
    {
     "name": "stdout",
     "output_type": "stream",
     "text": [
      "tensor(11.6091, device='cuda:5')\n",
      "tensor(0.7103, device='cuda:5')\n",
      "tensor(57.1222, device='cuda:5')\n",
      "tensor(4.6247+0.j, device='cuda:5')\n",
      "Running SVGD\n"
     ]
    },
    {
     "name": "stderr",
     "output_type": "stream",
     "text": [
      "100%|██████████| 20000/20000 [01:06<00:00, 300.16it/s]\n"
     ]
    },
    {
     "name": "stdout",
     "output_type": "stream",
     "text": [
      "tensor(13.2710, device='cuda:5')\n",
      "tensor(0.7074, device='cuda:5')\n",
      "tensor(65.7565, device='cuda:5')\n",
      "tensor(5.7363+0.j, device='cuda:5')\n",
      "Running SVGD\n"
     ]
    },
    {
     "name": "stderr",
     "output_type": "stream",
     "text": [
      "100%|██████████| 20000/20000 [01:00<00:00, 332.45it/s]"
     ]
    },
    {
     "name": "stdout",
     "output_type": "stream",
     "text": [
      "tensor(14.3805, device='cuda:5')\n",
      "tensor(0.7638, device='cuda:5')\n",
      "tensor(77.5002, device='cuda:5')\n",
      "tensor(6.5262+0.j, device='cuda:5')\n"
     ]
    },
    {
     "name": "stderr",
     "output_type": "stream",
     "text": [
      "\n"
     ]
    }
   ],
   "source": [
    "print(f\"Device: {device}\")\n",
    "torch.manual_seed(seed)\n",
    "list_norm = []\n",
    "list_gr_var = []\n",
    "list_tr = []\n",
    "list_eig = []\n",
    "\n",
    "for dim in range(50, 100, 10):\n",
    "    ## target density\n",
    "    mix_means = torch.cat(\n",
    "        [points_on_circle(i * 2*np.pi / nmix, rad=radius) for i in range(nmix)]).to(device)\n",
    "    mix_means = torch.cat((mix_means, torch.zeros((mix_means.shape[0], dim - 2), device=device)), dim=1)\n",
    "\n",
    "    distribution = mix_gauss_experiment(\n",
    "        mixture_dist=D.Categorical(torch.ones(mix_means.shape[0], device=device)),\n",
    "        means=mix_means\n",
    "    )\n",
    "\n",
    "\n",
    "    # sample from target (for computing metric)\n",
    "    x_target = distribution.sample((nparticles, )).to(device)\n",
    "    cov = torch.cov(x_target)\n",
    "\n",
    "    # sample from variational density\n",
    "    x_init =  torch.randn(nparticles, *distribution.event_shape).to(device)\n",
    "\n",
    "    ## SVGD\n",
    "    cov = torch.cov(x_target.T)\n",
    "\n",
    "    if args.method in [\"SVGD\", \"all\"]:\n",
    "        \n",
    "\n",
    "        print(\"Running SVGD\")\n",
    "        # sample from variational density\n",
    "        x = x_init.clone().to(device)\n",
    "        kernel = Kernel(method=\"med_heuristic\")\n",
    "        svgd = SVGD(distribution, kernel, optim.Adam([x], lr=lr), device=device)\n",
    "        \n",
    "        svgd.fit(x, epochs, verbose=True, save_every=save_every)\n",
    "        \n",
    "\n",
    "    theta = x\n",
    "        \n",
    "    \n",
    "\n",
    "\n",
    "    cov_svgd = torch.cov(theta.T)\n",
    "    print(torch.linalg.norm(cov - cov_svgd))\n",
    "    list_norm.append(torch.linalg.norm(cov - cov_svgd))\n",
    "    print(comm_func_eval(theta, x_target)['var_dis'])\n",
    "    list_gr_var.append(comm_func_eval(theta, x_target)['var_dis'])\n",
    "    print(torch.trace(cov - cov_svgd))\n",
    "    list_tr.append(torch.trace(cov - cov_svgd))\n",
    "    (evals, evecs) = torch.linalg.eig(cov - cov_svgd)\n",
    "    print(evals[0])\n",
    "    list_eig.append(evals[0])"
   ]
  },
  {
   "cell_type": "code",
   "execution_count": 9,
   "metadata": {},
   "outputs": [
    {
     "name": "stderr",
     "output_type": "stream",
     "text": [
      "/home/zhoujk/anaconda3/envs/AG/lib/python3.9/site-packages/torch/functional.py:504: UserWarning: torch.meshgrid: in an upcoming release, it will be required to pass the indexing argument. (Triggered internally at /opt/conda/conda-bld/pytorch_1666643016022/work/aten/src/ATen/native/TensorShape.cpp:3190.)\n",
      "  return _VF.meshgrid(tensors, **kwargs)  # type: ignore[attr-defined]\n"
     ]
    },
    {
     "data": {
      "image/png": "[encoded data removed]",
      "text/plain": [
       "<Figure size 1200x600 with 2 Axes>"
      ]
     },
     "metadata": {},
     "output_type": "display_data"
    }
   ],
   "source": [
    "fig_svgd = plot_particles(\n",
    "    x_init.detach(), \n",
    "    x_target.detach(), \n",
    "    distribution, \n",
    "    d=9.0, \n",
    "    step=0.1, \n",
    "    concat=mix_means[0, 2:],\n",
    "    savedir=results_folder + f\"/svgd.png\"\n",
    ")"
   ]
  },
  {
   "cell_type": "code",
   "execution_count": 10,
   "metadata": {},
   "outputs": [
    {
     "name": "stdout",
     "output_type": "stream",
     "text": [
      "torch.Size([90, 90])\n",
      "tensor(14.3805, device='cuda:5')\n",
      "{'mean_dis': tensor(0.0119, device='cuda:5'), 'var_dis': tensor(0.7638, device='cuda:5')}\n",
      "tensor(77.5002, device='cuda:5')\n",
      "tensor(6.5262+0.j, device='cuda:5')\n"
     ]
    },
    {
     "data": {
      "image/png": "[encoded data removed]",
      "text/plain": [
       "<Figure size 640x480 with 1 Axes>"
      ]
     },
     "metadata": {},
     "output_type": "display_data"
    }
   ],
   "source": [
    "theta = x\n",
    "cov = torch.cov(x_target.T)\n",
    "index_svgd = []\n",
    "samn_svgd = []\n",
    "for i in range(theta.shape[0]):\n",
    "    samn_svgd.append(torch.linalg.norm(theta[i,:].cpu()).item())\n",
    "    index_svgd.append(i)\n",
    "\n",
    "import matplotlib.pyplot as plt\n",
    "plt.scatter(index_svgd, samn_svgd, c='blue')\n",
    "\n",
    "cov_svgd = torch.cov(theta.T)\n",
    "print(cov_svgd.shape)\n",
    "\n",
    "print(torch.linalg.norm(cov - cov_svgd))\n",
    "print(comm_func_eval(theta, x_target))\n",
    "print(torch.trace(cov - cov_svgd))\n",
    "(evals, evecs) = torch.linalg.eig(cov - cov_svgd)\n",
    "print(evals[0])\n"
   ]
  },
  {
   "cell_type": "code",
   "execution_count": 11,
   "metadata": {},
   "outputs": [
    {
     "name": "stdout",
     "output_type": "stream",
     "text": [
      "Running min_mySVGD\n"
     ]
    },
    {
     "name": "stderr",
     "output_type": "stream",
     "text": [
      "100%|██████████| 20000/20000 [1:18:04<00:00,  4.27it/s]\n"
     ]
    },
    {
     "name": "stdout",
     "output_type": "stream",
     "text": [
      "Filename: /home/zhoujk/SVGD/SVGD_code/GSVGD-main/src/Tmy_svgd.py\n",
      "\n",
      "Line #    Mem usage    Increment  Occurences   Line Contents\n",
      "============================================================\n",
      "    65   1709.2 MiB   1709.2 MiB           1       @profile\n",
      "    66                                             def update(self, x0, lnprob, n_iter = 1000, k = 8, debug = False,lr=0.001, vector = 0):\n",
      "    67                                         \n",
      "    68   1709.3 MiB      0.0 MiB           1           theta = x0.clone()\n",
      "    69   1709.3 MiB      0.0 MiB           1           x = x0.clone()\n",
      "    70                                         \n",
      "    71                                                 \n",
      "    72                                         \n",
      "    73                                         \n",
      "    74  43962.3 MiB   -669.0 MiB       20001           for s in trange(n_iter):\n",
      "    75                                                     \n",
      "    76                                                     \n",
      "    77                                                     \n",
      "    78  43960.0 MiB   -511.6 MiB       20000               blanket , support = self.divide(theta, k)\n",
      "    79                                                     \n",
      "    80                                         \n",
      "    81                                                         \n",
      "    82                                         \n",
      "    83                                                     ### STEP1 support_to_blanket\n",
      "    84  43960.0 MiB   -334.8 MiB       20000               lnpgrad = lnprob(theta) \n",
      "    85  43960.0 MiB   -539.7 MiB       20000               theta_ab = torch.cat([theta[:,blanket],theta[:,support]], 1)\n",
      "    86                                                        \n",
      "    87  43960.0 MiB   -560.9 MiB       20000               lnpgrad_blanket = lnpgrad[:,blanket]\n",
      "    88                                                         # calculating the kernel matrix\n",
      "    89  43960.0 MiB   -320.8 MiB       20000               kxy, repulsion = self.svgd_kernel(theta_ab) \n",
      "    90                                                 \n",
      "    91                                                \n",
      "    92  43960.0 MiB   -545.7 MiB       20000               attraction = torch.matmul(kxy, lnpgrad_blanket) \n",
      "    93                                                         \n",
      "    94                                         \n",
      "    95  43960.0 MiB   -505.6 MiB       20000               theta[:,blanket] = theta[:,blanket] + 0.001*(attraction + repulsion[:, 0:blanket.size(0)]) / theta_ab.size(0)\n",
      "    96                                                     \n",
      "    97                                         \n",
      "    98  43962.3 MiB -35687.6 MiB     1020000               for j in range(theta.shape[1]):\n",
      "    99                                                     \n",
      "   100  43962.3 MiB -35051.1 MiB     1000000                   if j in blanket:\n",
      "   101  43962.3 MiB -33658.7 MiB      960000                       a = torch.where(blanket == j)[0]\n",
      "   102                                                 \n",
      "   103  43962.3 MiB -33405.8 MiB      960000                       blanket = self.del_tensor_ele(blanket, a)\n",
      "   104  43962.3 MiB -35113.1 MiB     1000000                   if j in support:\n",
      "   105  43960.3 MiB  -1411.2 MiB       40000                       a = torch.where(support == j)[0]\n",
      "   106                                                 \n",
      "   107  43960.3 MiB  -1134.2 MiB       40000                       support = self.del_tensor_ele(support, a)\n",
      "   108                                         \n",
      "   109                                                     #### STEP2 blanket_to_d\n",
      "   110                                                         \n",
      "   111  43962.3 MiB -30820.4 MiB     1000000                   theta_ab1 = torch.cat([theta[:,blanket],theta[:,j].view(theta.shape[0], 1)], 1)\n",
      "   112                                                         \n",
      "   113                                                         \n",
      "   114  43962.3 MiB -35120.9 MiB     1000000                   lnpgrad_j1 = lnpgrad[:,j]\n",
      "   115                                                         # calculating the kernel matrix\n",
      "   116  43962.3 MiB -24790.1 MiB     1000000                   kxy1, repulsion1 = self.svgd_kernel(theta_ab1) \n",
      "   117                                                 \n",
      "   118                                                \n",
      "   119  43962.3 MiB -34989.9 MiB     1000000                   attraction1 = torch.matmul(kxy1, lnpgrad_j1) \n",
      "   120                                         \n",
      "   121                                                    ### STEP3 SUPPORT_to_d\n",
      "   122                                                     \n",
      "   123  43962.3 MiB -33545.7 MiB     1000000                   theta_ab2 = torch.cat([theta[:,support],theta[:,j].view(theta.shape[0], 1)], 1)\n",
      "   124  43962.3 MiB -35003.1 MiB     1000000                   lnpgrad_j2 = lnpgrad[:,j]\n",
      "   125                                                         # calculating the kernel matrix\n",
      "   126  43962.3 MiB -27365.2 MiB     1000000                   kxy2, repulsion2 = self.svgd_kernel(theta_ab2) \n",
      "   127                                                 \n",
      "   128                                                \n",
      "   129  43962.3 MiB -34949.6 MiB     1000000                   attraction2 = torch.matmul(kxy2, lnpgrad_j2) \n",
      "   130                                         \n",
      "   131                                         \n",
      "   132                                                     \n",
      "   133                                                     \n",
      "   134  43962.3 MiB -32523.1 MiB     1000000                   vec1 = 0.02*lr*(attraction1 + repulsion1[:, -1]) / theta_ab1.size(0)\n",
      "   135                                                     \n",
      "   136                                                     \n",
      "   137  43962.3 MiB -31326.9 MiB     1000000                   theta[:,j] = theta[:,j] + vec1 + vector[:,j]\n",
      "   138  43962.3 MiB -34484.2 MiB     1000000                   vec_a = theta[:,j]\n",
      "   139  43962.3 MiB -33788.9 MiB     1000000                   vec2 = lr*(attraction2 + repulsion2[:, -1]) / theta_ab2.size(0)\n",
      "   140                                                     \n",
      "   141  43962.3 MiB -31575.2 MiB     1000000                   theta[:,j] = theta[:,j] + vec2 - vector[:,j]\n",
      "   142  43962.3 MiB -34397.1 MiB     1000000                   vec_b = theta[:,j]\n",
      "   143                                                     \n",
      "   144                                                     \n",
      "   145                                         \n",
      "   146  43962.3 MiB -31144.5 MiB     1000000                   vector[:,j] = vector[:,j] + lr*(vec_a - vec_b)\n",
      "   147                                         \n",
      "   148                                                     \n",
      "   149                                                         \n",
      "   150                                                         \n",
      "   151                                                     \n",
      "   152                                                         \n",
      "   153                                                     \n",
      "   154                                         \n",
      "   155                                         \n",
      "   156  43962.3 MiB      0.0 MiB           1           return theta, vector\n",
      "\n",
      "\n",
      "tensor(10.1724, device='cuda:5', grad_fn=<LinalgVectorNormBackward0>)\n",
      "tensor(0.0926, device='cuda:5', grad_fn=<MeanBackward0>)\n",
      "tensor(3.8055, device='cuda:5', grad_fn=<TraceBackward0>)\n",
      "tensor(5.9514+0.j, device='cuda:5', grad_fn=<SelectBackward0>)\n"
     ]
    },
    {
     "name": "stderr",
     "output_type": "stream",
     "text": [
      " 73%|███████▎  | 14698/20000 [1:09:41<25:08,  3.51it/s]\n"
     ]
    },
    {
     "ename": "OutOfMemoryError",
     "evalue": "CUDA out of memory. Tried to allocate 2.00 MiB (GPU 5; 23.69 GiB total capacity; 22.99 GiB already allocated; 2.94 MiB free; 22.99 GiB reserved in total by PyTorch) If reserved memory is >> allocated memory try setting max_split_size_mb to avoid fragmentation.  See documentation for Memory Management and PYTORCH_CUDA_ALLOC_CONF",
     "output_type": "error",
     "traceback": [
      "\u001b[0;31m---------------------------------------------------------------------------\u001b[0m",
      "\u001b[0;31mOutOfMemoryError\u001b[0m                          Traceback (most recent call last)",
      "Cell \u001b[0;32mIn [11], line 43\u001b[0m\n\u001b[1;32m     38\u001b[0m x0 \u001b[39m=\u001b[39m x_init\n\u001b[1;32m     39\u001b[0m vector1  \u001b[39m=\u001b[39m torch\u001b[39m.\u001b[39mrandn(nparticles, dim)\u001b[39m.\u001b[39mto(device)\n\u001b[0;32m---> 43\u001b[0m theta, vector \u001b[39m=\u001b[39m tmySVGD(kernel,device)\u001b[39m.\u001b[39;49mupdate(x0, score,  k \u001b[39m=\u001b[39;49m \u001b[39m2\u001b[39;49m, n_iter \u001b[39m=\u001b[39;49m \u001b[39m20000\u001b[39;49m,  debug \u001b[39m=\u001b[39;49m \u001b[39mFalse\u001b[39;49;00m, lr\u001b[39m=\u001b[39;49m lr, vector\u001b[39m=\u001b[39;49mvector1)\n\u001b[1;32m     44\u001b[0m     \u001b[39m#mean = np.mean(theta, axis=0)  + np.random.random(1)\u001b[39;00m\n\u001b[1;32m     45\u001b[0m     \u001b[39m#var_theta = np.cov(theta.T) + np.random.random(1)\u001b[39;00m\n\u001b[1;32m     46\u001b[0m     \u001b[39m#x0 = np.random.multivariate_normal(mean, var_theta,num)\u001b[39;00m\n\u001b[1;32m     50\u001b[0m cov_mysvgd \u001b[39m=\u001b[39m torch\u001b[39m.\u001b[39mcov(theta\u001b[39m.\u001b[39mT)\n",
      "File \u001b[0;32m~/anaconda3/envs/AG/lib/python3.9/site-packages/memory_profiler.py:1142\u001b[0m, in \u001b[0;36mprofile.<locals>.wrapper\u001b[0;34m(*args, **kwargs)\u001b[0m\n\u001b[1;32m   1140\u001b[0m \u001b[39mdef\u001b[39;00m \u001b[39mwrapper\u001b[39m(\u001b[39m*\u001b[39margs, \u001b[39m*\u001b[39m\u001b[39m*\u001b[39mkwargs):\n\u001b[1;32m   1141\u001b[0m     prof \u001b[39m=\u001b[39m get_prof()\n\u001b[0;32m-> 1142\u001b[0m     val \u001b[39m=\u001b[39m prof(func)(\u001b[39m*\u001b[39;49margs, \u001b[39m*\u001b[39;49m\u001b[39m*\u001b[39;49mkwargs)\n\u001b[1;32m   1143\u001b[0m     show_results_bound(prof)\n\u001b[1;32m   1144\u001b[0m     \u001b[39mreturn\u001b[39;00m val\n",
      "File \u001b[0;32m~/anaconda3/envs/AG/lib/python3.9/site-packages/memory_profiler.py:717\u001b[0m, in \u001b[0;36mLineProfiler.wrap_function.<locals>.f\u001b[0;34m(*args, **kwds)\u001b[0m\n\u001b[1;32m    715\u001b[0m \u001b[39mdef\u001b[39;00m \u001b[39mf\u001b[39m(\u001b[39m*\u001b[39margs, \u001b[39m*\u001b[39m\u001b[39m*\u001b[39mkwds):\n\u001b[1;32m    716\u001b[0m     \u001b[39mwith\u001b[39;00m \u001b[39mself\u001b[39m\u001b[39m.\u001b[39m_count_ctxmgr():\n\u001b[0;32m--> 717\u001b[0m         \u001b[39mreturn\u001b[39;00m func(\u001b[39m*\u001b[39;49margs, \u001b[39m*\u001b[39;49m\u001b[39m*\u001b[39;49mkwds)\n",
      "File \u001b[0;32m~/SVGD/SVGD_code/GSVGD-main/src/Tmy_svgd.py:116\u001b[0m, in \u001b[0;36mupdate\u001b[0;34m(self, x0, lnprob, n_iter, k, debug, lr, vector)\u001b[0m\n\u001b[1;32m    114\u001b[0m      lnpgrad_j1 \u001b[39m=\u001b[39m lnpgrad[:,j]\n\u001b[1;32m    115\u001b[0m      \u001b[39m# calculating the kernel matrix\u001b[39;00m\n\u001b[0;32m--> 116\u001b[0m      kxy1, repulsion1 \u001b[39m=\u001b[39m \u001b[39mself\u001b[39m\u001b[39m.\u001b[39msvgd_kernel(theta_ab1) \n\u001b[1;32m    119\u001b[0m      attraction1 \u001b[39m=\u001b[39m torch\u001b[39m.\u001b[39mmatmul(kxy1, lnpgrad_j1) \n\u001b[1;32m    121\u001b[0m \u001b[39m### STEP3 SUPPORT_to_d\u001b[39;00m\n",
      "File \u001b[0;32m~/SVGD/SVGD_code/GSVGD-main/src/Tmy_svgd.py:49\u001b[0m, in \u001b[0;36mtmySVGD.svgd_kernel\u001b[0;34m(self, theta_ab)\u001b[0m\n\u001b[1;32m     47\u001b[0m Y \u001b[39m=\u001b[39m theta_ab\u001b[39m.\u001b[39mclone()\u001b[39m.\u001b[39mdetach()\n\u001b[1;32m     48\u001b[0m \u001b[39mwith\u001b[39;00m torch\u001b[39m.\u001b[39mno_grad():\n\u001b[0;32m---> 49\u001b[0m     \u001b[39mself\u001b[39;49m\u001b[39m.\u001b[39;49mk\u001b[39m.\u001b[39;49mbandwidth(theta_ab, theta_ab)\n\u001b[1;32m     50\u001b[0m K_XX \u001b[39m=\u001b[39m \u001b[39mself\u001b[39m\u001b[39m.\u001b[39mk(X_cp, Y)\n\u001b[1;32m     51\u001b[0m grad_K \u001b[39m=\u001b[39m \u001b[39m-\u001b[39mautograd\u001b[39m.\u001b[39mgrad(K_XX\u001b[39m.\u001b[39msum(), X_cp)[\u001b[39m0\u001b[39m] \n",
      "File \u001b[0;32m~/SVGD/SVGD_code/GSVGD-main/src/kernel.py:80\u001b[0m, in \u001b[0;36mRBF.bandwidth\u001b[0;34m(self, X, Y)\u001b[0m\n\u001b[1;32m     77\u001b[0m \u001b[39m\"\"\"Compute magic bandwidth\u001b[39;00m\n\u001b[1;32m     78\u001b[0m \u001b[39m\"\"\"\u001b[39;00m\n\u001b[1;32m     79\u001b[0m dnorm2 \u001b[39m=\u001b[39m l2norm(X, Y)\n\u001b[0;32m---> 80\u001b[0m med_heuristic_sq \u001b[39m=\u001b[39m median_heuristic(dnorm2, device\u001b[39m=\u001b[39;49mX\u001b[39m.\u001b[39;49mdevice)\n\u001b[1;32m     81\u001b[0m sigma2 \u001b[39m=\u001b[39m med_heuristic_sq \u001b[39m/\u001b[39m np\u001b[39m.\u001b[39mlog(X\u001b[39m.\u001b[39mshape[\u001b[39m0\u001b[39m])\n\u001b[1;32m     82\u001b[0m \u001b[39m# sigma2 = med_heuristic_sq \u001b[39;00m\n",
      "File \u001b[0;32m~/SVGD/SVGD_code/GSVGD-main/src/kernel.py:43\u001b[0m, in \u001b[0;36mmedian_heuristic\u001b[0;34m(dnorm2, device)\u001b[0m\n\u001b[1;32m     36\u001b[0m \u001b[39m\"\"\"Compute median heuristic.\u001b[39;00m\n\u001b[1;32m     37\u001b[0m \u001b[39mInputs:\u001b[39;00m\n\u001b[1;32m     38\u001b[0m \u001b[39m    dnorm2: (n x n) tensor of \\|X - Y\\|_2^2\u001b[39;00m\n\u001b[1;32m     39\u001b[0m \u001b[39mReturn:\u001b[39;00m\n\u001b[1;32m     40\u001b[0m \u001b[39m    med(\\|X_i - Y_j\\|_2^2, 1 \\leq i < j \\leq n)\u001b[39;00m\n\u001b[1;32m     41\u001b[0m \u001b[39m\"\"\"\u001b[39;00m\n\u001b[1;32m     42\u001b[0m ind_array \u001b[39m=\u001b[39m torch\u001b[39m.\u001b[39mtriu(torch\u001b[39m.\u001b[39mones_like(dnorm2, device\u001b[39m=\u001b[39mdevice), diagonal\u001b[39m=\u001b[39m\u001b[39m1\u001b[39m) \u001b[39m==\u001b[39m \u001b[39m1\u001b[39m\n\u001b[0;32m---> 43\u001b[0m med_heuristic \u001b[39m=\u001b[39m torch\u001b[39m.\u001b[39;49mmedian(dnorm2[ind_array])\n\u001b[1;32m     44\u001b[0m \u001b[39m#med_heuristic = torch.Tensor(1).to('cuda')\u001b[39;00m\n\u001b[1;32m     45\u001b[0m \u001b[39mreturn\u001b[39;00m med_heuristic\n",
      "\u001b[0;31mOutOfMemoryError\u001b[0m: CUDA out of memory. Tried to allocate 2.00 MiB (GPU 5; 23.69 GiB total capacity; 22.99 GiB already allocated; 2.94 MiB free; 22.99 GiB reserved in total by PyTorch) If reserved memory is >> allocated memory try setting max_split_size_mb to avoid fragmentation.  See documentation for Memory Management and PYTORCH_CUDA_ALLOC_CONF"
     ]
    }
   ],
   "source": [
    "print(\"Running min_mySVGD\")\n",
    "\n",
    "def score(X):\n",
    "        X_cp = X.clone().detach().requires_grad_()\n",
    "        log_prob = distribution.log_prob(X_cp)\n",
    "        score_func = autograd.grad(log_prob.sum(), X_cp)[0]\n",
    "        return score_func\n",
    "\n",
    "list_norm_mysvgd = []\n",
    "list_gr_var_mysvgd = []\n",
    "list_tr_mysvgd= []\n",
    "list_eig_mysvgd = []\n",
    "\n",
    "# sample from variational density\n",
    "for dim in range(50, 100, 10):\n",
    "    ## target density\n",
    "    mix_means = torch.cat(\n",
    "        [points_on_circle(i * 2*np.pi / nmix, rad=radius) for i in range(nmix)]).to(device)\n",
    "    mix_means = torch.cat((mix_means, torch.zeros((mix_means.shape[0], dim - 2), device=device)), dim=1)\n",
    "\n",
    "    distribution = mix_gauss_experiment(\n",
    "        mixture_dist=D.Categorical(torch.ones(mix_means.shape[0], device=device)),\n",
    "        means=mix_means\n",
    "    )\n",
    "\n",
    "\n",
    "    # sample from target (for computing metric)\n",
    "    x_target = distribution.sample((nparticles, )).to(device)\n",
    "    cov = torch.cov(x_target)\n",
    "\n",
    "    # sample from variational density\n",
    "    x_init =  torch.randn(nparticles, *distribution.event_shape).to(device)\n",
    "\n",
    "    ## SVGD\n",
    "    cov = torch.cov(x_target.T)\n",
    "\n",
    "    \n",
    "    x0 = x_init\n",
    "    vector1  = torch.randn(nparticles, dim).to(device)\n",
    "\n",
    "   \n",
    "        \n",
    "    theta, vector = tmySVGD(kernel,device).update(x0, score,  k = 2, n_iter = 20000,  debug = False, lr= lr, vector=vector1)\n",
    "        #mean = np.mean(theta, axis=0)  + np.random.random(1)\n",
    "        #var_theta = np.cov(theta.T) + np.random.random(1)\n",
    "        #x0 = np.random.multivariate_normal(mean, var_theta,num)\n",
    "        \n",
    "        \n",
    "\n",
    "    cov_mysvgd = torch.cov(theta.T)\n",
    "    print(torch.linalg.norm(cov - cov_mysvgd))\n",
    "    list_norm_mysvgd.append(torch.linalg.norm(cov - cov_mysvgd))\n",
    "    print(comm_func_eval(theta, x_target)['var_dis'])\n",
    "    list_gr_var_mysvgd.append(comm_func_eval(theta, x_target)['var_dis'])\n",
    "    print(torch.trace(cov - cov_mysvgd))\n",
    "    list_tr_mysvgd.append(torch.trace(cov - cov_mysvgd))\n",
    "    (evals, evecs) = torch.linalg.eig(cov - cov_mysvgd)\n",
    "    print(evals[0])\n",
    "    list_eig_mysvgd.append(evals[0])\n",
    "    "
   ]
  },
  {
   "cell_type": "code",
   "execution_count": null,
   "metadata": {},
   "outputs": [],
   "source": [
    "## GSVGD\n",
    "\n",
    "list_norm_gsvgd = []\n",
    "list_gr_var_gsvgd = []\n",
    "list_tr_gsvgd= []\n",
    "list_eig_gsvgd = []\n",
    "\n",
    "# sample from variational density\n",
    "for dim in range(50, 100, 10):\n",
    "    ## target density\n",
    "    mix_means = torch.cat(\n",
    "        [points_on_circle(i * 2*np.pi / nmix, rad=radius) for i in range(nmix)]).to(device)\n",
    "    mix_means = torch.cat((mix_means, torch.zeros((mix_means.shape[0], dim - 2), device=device)), dim=1)\n",
    "\n",
    "    distribution = mix_gauss_experiment(\n",
    "        mixture_dist=D.Categorical(torch.ones(mix_means.shape[0], device=device)),\n",
    "        means=mix_means\n",
    "    )\n",
    "\n",
    "\n",
    "    # sample from target (for computing metric)\n",
    "    x_target = distribution.sample((nparticles, )).to(device)\n",
    "    cov = torch.cov(x_target)\n",
    "\n",
    "    # sample from variational density\n",
    "    x_init =  torch.randn(nparticles, *distribution.event_shape).to(device)\n",
    "\n",
    "    ## SVGD\n",
    "    cov = torch.cov(x_target.T)\n",
    "    if args.method in [\"GSVGD\", \"all\"]:\n",
    "        res_gsvgd = [0] * len(eff_dims)\n",
    "        def run_gsvgd(eff_dims):\n",
    "            for i, eff_dim in enumerate(eff_dims):\n",
    "                print(f\"Running GSVGD with eff dim = {eff_dim}\")\n",
    "\n",
    "                m = min(20, dim // eff_dim) if args.m is None else args.m\n",
    "                print(\"number of projections:\", m)\n",
    "\n",
    "                # sample from variational density\n",
    "                x_init_gsvgd = x_init.clone()\n",
    "                x_gsvgd = x_init_gsvgd.clone()\n",
    "\n",
    "                kernel_gsvgd = BatchKernel(method=\"med_heuristic\")\n",
    "                optimizer = optim.Adam([x_gsvgd], lr=lr)\n",
    "                manifold = Grassmann(dim, eff_dim)\n",
    "                U = torch.eye(dim, device=device).requires_grad_(True)\n",
    "                U = U[:, :(m*eff_dim)]\n",
    "\n",
    "                gsvgd = FullGSVGDBatch(\n",
    "                    target=distribution,\n",
    "                    kernel=kernel_gsvgd,\n",
    "                    manifold=manifold,\n",
    "                    optimizer=optimizer,\n",
    "                    delta=delta,\n",
    "                    T=T,\n",
    "                    device=device,\n",
    "                    noise=add_noise\n",
    "                )\n",
    "                start = time.time()\n",
    "                U, metric_gsvgd = gsvgd.fit(x_gsvgd, U, m, epochs, \n",
    "                    verbose=True, save_every=save_every, threshold=0.0001*m)\n",
    "                elapsed_time = time.time() - start\n",
    "\n",
    "                # plot particles\n",
    "                fig_gsvgd = plot_particles(\n",
    "                    x_init_gsvgd.detach(), \n",
    "                    x_gsvgd.detach(), \n",
    "                    distribution, \n",
    "                    d=9.0, \n",
    "                    step=0.1, \n",
    "                    concat=mix_means[0, 2:].to(device),\n",
    "                    savedir=results_folder + f\"/fullgsvgd_effdim{eff_dim}_lr{lr}_delta{delta}_m{m}_T{T}.png\"\n",
    "                )\n",
    "\n",
    "                # store results\n",
    "                res_gsvgd[i] = {\n",
    "                    \"init\":x_init_gsvgd, \"final\":x_gsvgd, \"metric\":metric_gsvgd, \n",
    "                    \"fig\":fig_gsvgd, \"particles\":gsvgd.particles, \"pam\":gsvgd.pam, \"res\": gsvgd,\n",
    "                    \"elapsed_time\": elapsed_time}\n",
    "            return res_gsvgd,x_gsvgd\n",
    "\n",
    "    res_gsvgd ,x_gsvgd= run_gsvgd(eff_dims)\n",
    "    theta = x_gsvgd\n",
    "    cov_gsvgd = torch.cov(theta.T)\n",
    "    print(torch.linalg.norm(cov - cov_gsvgd))\n",
    "    list_norm_gsvgd.append(torch.linalg.norm(cov - cov_gsvgd))\n",
    "    print(comm_func_eval(theta, x_target)['var_dis'])\n",
    "    list_gr_var_gsvgd.append(comm_func_eval(theta, x_target)['var_dis'])\n",
    "    print(torch.trace(cov - cov_gsvgd))\n",
    "    list_tr_gsvgd.append(torch.trace(cov - cov_gsvgd))\n",
    "    (evals, evecs) = torch.linalg.eig(cov - cov_gsvgd)\n",
    "    print(evals[0])\n",
    "    list_eig_gsvgd.append(evals[0])\n",
    "    \n"
   ]
  },
  {
   "cell_type": "code",
   "execution_count": null,
   "metadata": {},
   "outputs": [],
   "source": [
    "theta = x_gsvgd\n",
    "cov = torch.cov(x_target.T)\n",
    "index_svgd = []\n",
    "samn_svgd = []\n",
    "for i in range(theta.shape[0]):\n",
    "    samn_svgd.append(torch.linalg.norm(theta[i,:].cpu()).item())\n",
    "    index_svgd.append(i)\n",
    "\n",
    "import matplotlib.pyplot as plt\n",
    "plt.scatter(index_svgd, samn_svgd, c='blue')\n",
    "\n",
    "cov_gsvgd = torch.cov(theta.T)\n",
    "\n",
    "\n",
    "print(torch.linalg.norm(cov - cov_gsvgd))\n",
    "print(comm_func_eval(theta, x_target))\n",
    "print(torch.trace(cov - cov_gsvgd))\n",
    "(evals, evecs) = torch.linalg.eig(cov - cov_gsvgd)\n",
    "print(evals[0])"
   ]
  },
  {
   "cell_type": "code",
   "execution_count": null,
   "metadata": {},
   "outputs": [],
   "source": [
    "## S-SVGD\n",
    "list_norm_ssvgd = []\n",
    "list_gr_var_ssvgd = []\n",
    "list_tr_ssvgd = []\n",
    "list_eig_ssvgd = []\n",
    "\n",
    "for dim in range(50, 100, 10):\n",
    "    ## target density\n",
    "    mix_means = torch.cat(\n",
    "        [points_on_circle(i * 2*np.pi / nmix, rad=radius) for i in range(nmix)]).to(device)\n",
    "    mix_means = torch.cat((mix_means, torch.zeros((mix_means.shape[0], dim - 2), device=device)), dim=1)\n",
    "\n",
    "    distribution = mix_gauss_experiment(\n",
    "        mixture_dist=D.Categorical(torch.ones(mix_means.shape[0], device=device)),\n",
    "        means=mix_means\n",
    "    )\n",
    "\n",
    "\n",
    "    # sample from target (for computing metric)\n",
    "    x_target = distribution.sample((nparticles, )).to(device)\n",
    "    cov = torch.cov(x_target)\n",
    "\n",
    "    # sample from variational density\n",
    "    x_init =  torch.randn(nparticles, *distribution.event_shape).to(device)\n",
    "\n",
    "    \n",
    "    cov = torch.cov(x_target.T)\n",
    "    if args.method in [\"S-SVGD\", \"all\"]:\n",
    "        # sample from variational density\n",
    "        print(\"Running S-SVGD\")\n",
    "        x_init_s_svgd = x_init.clone()\n",
    "        x_s_svgd = x_init_s_svgd.clone().requires_grad_()\n",
    "        s_svgd = SlicedSVGD(distribution, device=device)\n",
    "\n",
    "        start = time.time()\n",
    "        x_s_svgd, metric_s_svgd = s_svgd.fit(\n",
    "            samples=x_s_svgd, \n",
    "            n_epoch=epochs, \n",
    "            lr=args.lr_g,\n",
    "            eps=lr,\n",
    "            save_every=save_every\n",
    "        )\n",
    "    \n",
    "    theta = x_s_svgd\n",
    "    cov_ssvgd = torch.cov(theta.T)\n",
    "    print(torch.linalg.norm(cov - cov_ssvgd))\n",
    "    list_norm_ssvgd.append(torch.linalg.norm(cov - cov_ssvgd))\n",
    "    print(comm_func_eval(theta, x_target)['var_dis'])\n",
    "    list_gr_var_ssvgd.append(comm_func_eval(theta, x_target)['var_dis'])\n",
    "    print(torch.trace(cov - cov_gsvgd))\n",
    "    list_tr_ssvgd.append(torch.trace(cov - cov_ssvgd))\n",
    "    (evals, evecs) = torch.linalg.eig(cov - cov_ssvgd)\n",
    "    print(evals[0])\n",
    "    list_eig_ssvgd.append(evals[0])\n",
    "    \n",
    "    \n",
    "    \n",
    "\n",
    " "
   ]
  },
  {
   "cell_type": "code",
   "execution_count": null,
   "metadata": {},
   "outputs": [],
   "source": [
    " comm_func_eval(x_s_svgd , x_target)['var_dis']\n"
   ]
  },
  {
   "cell_type": "code",
   "execution_count": null,
   "metadata": {},
   "outputs": [],
   "source": [
    "theta = x_s_svgd \n",
    "cov = torch.cov(x_target.T)\n",
    "index_svgd = []\n",
    "samn_svgd = []\n",
    "for i in range(theta.shape[0]):\n",
    "    samn_svgd.append(torch.linalg.norm(theta[i,:].cpu()).item())\n",
    "    index_svgd.append(i)\n",
    "\n",
    "import matplotlib.pyplot as plt\n",
    "plt.scatter(index_svgd, samn_svgd, c='blue')\n",
    "\n",
    "cov_ssvgd = torch.cov(theta.T)\n",
    "\n",
    "\n",
    "print(torch.linalg.norm(cov - cov_ssvgd))\n",
    "print(comm_func_eval(theta, x_target))\n",
    "print(torch.trace(cov - cov_ssvgd))\n",
    "(evals, evecs) = torch.linalg.eig(cov - cov_ssvgd)\n",
    "print(evals[0])"
   ]
  },
  {
   "cell_type": "code",
   "execution_count": null,
   "metadata": {},
   "outputs": [],
   "source": []
  }
 ],
 "metadata": {
  "kernelspec": {
   "display_name": "Python 3.7.13 ('AG')",
   "language": "python",
   "name": "python3"
  },
  "language_info": {
   "codemirror_mode": {
    "name": "ipython",
    "version": 3
   },
   "file_extension": ".py",
   "mimetype": "text/x-python",
   "name": "python",
   "nbconvert_exporter": "python",
   "pygments_lexer": "ipython3",
   "version": "3.9.15"
  },
  "orig_nbformat": 4,
  "vscode": {
   "interpreter": {
    "hash": "28e57e6ed411ebe457d9d5e52f3313a26a0295904f732baf128c9b6661c268ce"
   }
  }
 },
 "nbformat": 4,
 "nbformat_minor": 2
}
