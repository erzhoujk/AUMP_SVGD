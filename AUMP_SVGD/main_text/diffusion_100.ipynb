{
 "cells": [
  {
   "cell_type": "code",
   "execution_count": 1,
   "metadata": {},
   "outputs": [
    {
     "name": "stderr",
     "output_type": "stream",
     "text": [
      "/home/zhoujk/anaconda3/envs/AG/lib/python3.9/site-packages/tqdm/auto.py:22: TqdmWarning: IProgress not found. Please update jupyter and ipywidgets. See https://ipywidgets.readthedocs.io/en/stable/user_install.html\n",
      "  from .autonotebook import tqdm as notebook_tqdm\n"
     ]
    }
   ],
   "source": [
    "import os\n",
    "import numpy as np\n",
    "import pandas as pd\n",
    "import torch\n",
    "import torch.optim as optim\n",
    "from tqdm import trange\n",
    "from src.svgd import SVGD\n",
    "from src.gsvgd import FullGSVGDBatch\n",
    "from src.kernel import RBF, BatchRBF\n",
    "from src.manifold import Grassmann\n",
    "import torch.autograd as autograd\n",
    "from src.s_svgd import SlicedSVGD\n",
    "from src.diffusion import Diffusion\n",
    "from src.rand_mysvgd import mySVGD\n",
    "import pickle\n",
    "import argparse\n",
    "import time\n",
    "import numpyro\n",
    "from numpyro.infer import MCMC, NUTS\n",
    "import numpyro.distributions as npr_dist\n",
    "import jax.random as random\n",
    "import jax.numpy as jnp\n",
    "import jax\n",
    "from src.Tmy_svgd import etmySVGD"
   ]
  },
  {
   "cell_type": "code",
   "execution_count": 2,
   "metadata": {},
   "outputs": [],
   "source": [
    "parser = argparse.ArgumentParser(description=\"Running xshaped experiment.\")\n",
    "parser.add_argument(\"--dim\", type=int, default=50, help=\"dimension\")\n",
    "parser.add_argument(\"--effdim\", type=int, default=5, help=\"dimension\")\n",
    "parser.add_argument(\"--lr\", type=float, default=0.0001, help=\"learning rate\")\n",
    "parser.add_argument(\"--lr_g\", type=float, default=0.0001, help=\"learning rate for S-SVGD\")\n",
    "parser.add_argument(\n",
    "    \"--delta\", type=float, default=0.1, help=\"stepsize for projections\"\n",
    ")\n",
    "parser.add_argument(\n",
    "    \"--T\", type=float, default=1e-4, help=\"noise multiplier for projections\"\n",
    ")\n",
    "parser.add_argument(\"--nparticles\", type=int, default=2500, help=\"no. of particles\")\n",
    "parser.add_argument(\"--epochs\", type=int, default=20000, help=\"no. of epochs\")\n",
    "parser.add_argument(\"--noise\", type=str, default=\"True\", help=\"whether to add noise\")\n",
    "parser.add_argument(\"--kernel\", type=str, default=\"rbf\", help=\"kernel\")\n",
    "parser.add_argument(\"--gpu\", type=int, default=5, help=\"gpu\")\n",
    "parser.add_argument(\"--seed\", type=int, default=0, help=\"random seed\")\n",
    "parser.add_argument(\"--suffix\", type=str, default=\"\", help=\"suffix for res folder\")\n",
    "parser.add_argument(\"--method\", type=str, default=\"svgd\", help=\"svgd, gsvgd or s-svgd\")\n",
    "parser.add_argument(\"--save_every\", type=int, default=100, help=\"batch size\")\n",
    "\n",
    "args = parser.parse_args([])"
   ]
  },
  {
   "cell_type": "code",
   "execution_count": 3,
   "metadata": {},
   "outputs": [
    {
     "name": "stdout",
     "output_type": "stream",
     "text": [
      "Running for lr: 0.0001, nparticles: 2500\n"
     ]
    }
   ],
   "source": [
    "dim = args.dim\n",
    "lr = args.lr\n",
    "lr_g = args.lr_g\n",
    "delta = args.delta\n",
    "T = args.T\n",
    "nparticles = args.nparticles\n",
    "epochs = args.epochs\n",
    "seed = args.seed\n",
    "eff_dims = 10\n",
    "add_noise = True if args.noise == \"True\" else False\n",
    "save_every = args.save_every  # save metric values every 100 epochs\n",
    "print(f\"Running for lr: {lr}, nparticles: {nparticles}\")\n",
    "\n",
    "device = torch.device(f\"cuda:{args.gpu}\" if args.gpu != -1 else \"cpu\")\n"
   ]
  },
  {
   "cell_type": "code",
   "execution_count": 4,
   "metadata": {},
   "outputs": [],
   "source": [
    "results_folder = f\"./res/diffusion{args.suffix}/{args.kernel}_epoch{epochs}_lr{lr}_delta{delta}_n{nparticles}_dim{dim}\"\n",
    "results_folder = f\"{results_folder}/seed{seed}\""
   ]
  },
  {
   "cell_type": "code",
   "execution_count": 5,
   "metadata": {},
   "outputs": [
    {
     "data": {
      "text/plain": [
       "'./res/diffusion/rbf_epoch20000_lr0.0001_delta0.1_n2500_dim50/seed0'"
      ]
     },
     "execution_count": 5,
     "metadata": {},
     "output_type": "execute_result"
    }
   ],
   "source": [
    "results_folder"
   ]
  },
  {
   "cell_type": "code",
   "execution_count": 6,
   "metadata": {},
   "outputs": [
    {
     "data": {
      "text/plain": [
       "'1.13.0'"
      ]
     },
     "execution_count": 6,
     "metadata": {},
     "output_type": "execute_result"
    }
   ],
   "source": [
    "torch.__version__"
   ]
  },
  {
   "cell_type": "code",
   "execution_count": 7,
   "metadata": {},
   "outputs": [],
   "source": [
    "if not os.path.exists(results_folder):\n",
    "    os.makedirs(results_folder)\n",
    "\n",
    "if args.kernel == \"rbf\":\n",
    "    Kernel = RBF\n",
    "    BatchKernel = BatchRBF"
   ]
  },
  {
   "cell_type": "code",
   "execution_count": 8,
   "metadata": {},
   "outputs": [
    {
     "name": "stdout",
     "output_type": "stream",
     "text": [
      "Device: cuda:5\n"
     ]
    }
   ],
   "source": [
    "print(f\"Device: {device}\")\n",
    "torch.manual_seed(seed)\n",
    "np.random.seed(seed)\n",
    "\n",
    "## initialize conditional diffusion\n",
    "beta = 5\n",
    "sigma = 0.1\n",
    "\n",
    "distribution = Diffusion(dim, beta, device=device)\n",
    "\n",
    "loc = torch.arange(0, dim+1, 1)[1:]\n",
    "distribution.loc = loc\n",
    "noise_covariance = torch.diag(sigma**2 * torch.ones(len(loc), device=device))\n",
    "distribution.set_noise_covariance(noise_covariance)\n",
    "distribution.set_C()\n",
    "\n",
    "x_true = distribution.brownian_motion((1, dim))\n",
    "u_true = distribution.solution(x_true)\n",
    "\n",
    "obs_noise = torch.normal(0, sigma, size=(1, len(loc))).to(device)\n",
    "obs = u_true[:, loc] + obs_noise\n",
    "distribution.obs = obs\n",
    "\n",
    "# initialize particles\n",
    "x0 = distribution.brownian_motion((nparticles, dim))\n",
    "\n",
    "C = distribution.C.cpu().numpy()\n",
    "dt = distribution.dt.cpu().numpy()\n",
    "loc = distribution.loc.cpu().numpy()\n",
    "beta = distribution.beta\n",
    "\n",
    "\n"
   ]
  },
  {
   "cell_type": "code",
   "execution_count": 9,
   "metadata": {},
   "outputs": [
    {
     "name": "stdout",
     "output_type": "stream",
     "text": [
      "Running SVGD\n"
     ]
    }
   ],
   "source": [
    "## SVGD\n",
    "print(\"Running SVGD\")\n",
    "x = x0.clone().requires_grad_()\n",
    "# sample from variational density\n",
    "kernel = Kernel(method=\"med_heuristic\")"
   ]
  },
  {
   "cell_type": "code",
   "execution_count": 10,
   "metadata": {},
   "outputs": [
    {
     "name": "stdout",
     "output_type": "stream",
     "text": [
      "Running SVGD\n"
     ]
    },
    {
     "name": "stderr",
     "output_type": "stream",
     "text": [
      "100%|██████████| 20000/20000 [10:16<00:00, 32.46it/s]"
     ]
    },
    {
     "name": "stdout",
     "output_type": "stream",
     "text": [
      "tensor([[-0.2692, -0.3656, -0.4887,  ...,  0.4843,  0.3027,  0.2843],\n",
      "        [-0.1733, -0.2772, -0.5696,  ..., -0.0802, -0.1565, -0.1156],\n",
      "        [-0.1535, -0.3225, -0.4577,  ..., -0.0598, -0.1530,  0.0283],\n",
      "        ...,\n",
      "        [-0.2528, -0.2558, -0.6194,  ..., -0.0967, -0.2763, -0.0594],\n",
      "        [-0.1253, -0.3272, -0.5237,  ..., -0.0474, -0.2390, -0.1437],\n",
      "        [-0.2528, -0.3644, -0.5053,  ...,  0.0945, -0.0265,  0.0605]],\n",
      "       device='cuda:5', requires_grad=True)\n",
      "torch.Size([2500, 50])\n"
     ]
    },
    {
     "name": "stderr",
     "output_type": "stream",
     "text": [
      "\n"
     ]
    }
   ],
   "source": [
    "## SVGD\n",
    "print(\"Running SVGD\")\n",
    "x = x0.clone().requires_grad_()\n",
    "# sample from variational density\n",
    "kernel = Kernel(method=\"med_heuristic\")\n",
    "svgd = SVGD(distribution, kernel, optim.Adam([x], lr=lr), device=device)\n",
    "\n",
    "start = time.time()\n",
    "svgd.fit(x, epochs=20000, save_every=save_every)\n",
    "elapsed_time = time.time() - start\n",
    "\n",
    "fitted_method = svgd\n",
    "#particles = fitted_method.particles\n",
    "particles = x\n",
    "\n",
    "method_name = \"svgd\"\n",
    "\n",
    "\n",
    "print(x)\n",
    "## save results\n",
    "pickle.dump(\n",
    "     {\n",
    "            **{\"x_true\": x_true},\n",
    "            **{\"u_true\": u_true},\n",
    "            **{\"particles\": particles},\n",
    "           **{\"time\": elapsed_time}\n",
    "    },\n",
    "    open(results_folder + f\"/particles_svgd1.p\", \"wb\")\n",
    ")\n",
    "\n",
    "# target distribution\n",
    "torch.save(distribution, results_folder + '/target_dist.p')\n",
    "print(x.shape)"
   ]
  },
  {
   "cell_type": "code",
   "execution_count": 11,
   "metadata": {},
   "outputs": [
    {
     "name": "stdout",
     "output_type": "stream",
     "text": [
      "Running min_mySVGD\n"
     ]
    },
    {
     "name": "stderr",
     "output_type": "stream",
     "text": [
      "100%|██████████| 20000/20000 [1:30:51<00:00,  3.67it/s]"
     ]
    },
    {
     "name": "stdout",
     "output_type": "stream",
     "text": [
      "tensor([[-0.0715, -0.1665, -0.4459,  ...,  0.0613, -0.0440,  0.0245],\n",
      "        [-0.2074, -0.2750, -0.5714,  ..., -0.1338, -0.1893, -0.1060],\n",
      "        [-0.1984, -0.3573, -0.4334,  ..., -0.0656, -0.2037, -0.0663],\n",
      "        ...,\n",
      "        [-0.2001, -0.3777, -0.6189,  ..., -0.0667, -0.3347, -0.1990],\n",
      "        [-0.1986, -0.4318, -0.5799,  ..., -0.1362, -0.3726, -0.2132],\n",
      "        [-0.1589, -0.2619, -0.4966,  ...,  0.0714, -0.1458, -0.1304]],\n",
      "       device='cuda:5')\n"
     ]
    },
    {
     "name": "stderr",
     "output_type": "stream",
     "text": [
      "\n"
     ]
    }
   ],
   "source": [
    "print(\"Running min_mySVGD\")\n",
    "\n",
    "\n",
    "x = x0.clone().requires_grad_()\n",
    "# sample from variational density\n",
    "\n",
    "lr = 0.001\n",
    "theta = etmySVGD(kernel,device,distribution,  k = 2).update(x0,  n_iter = 20000,   lr= lr)\n",
    "       \n",
    "\n",
    "particles = theta\n",
    "\n",
    "## save results\n",
    "pickle.dump(\n",
    "        {\n",
    "            **{\"x_true\": x_true},\n",
    "            **{\"u_true\": u_true},\n",
    "            **{\"particles\": particles},\n",
    "            **{\"time\": elapsed_time}\n",
    "        },\n",
    "open(results_folder + f\"/particles_AUmp_svgd_2_test1.p\", \"wb\")\n",
    ")\n",
    "\n",
    "print(particles)"
   ]
  },
  {
   "cell_type": "code",
   "execution_count": 12,
   "metadata": {},
   "outputs": [
    {
     "name": "stdout",
     "output_type": "stream",
     "text": [
      "Running min_mySVGD\n"
     ]
    },
    {
     "name": "stderr",
     "output_type": "stream",
     "text": [
      "100%|██████████| 20000/20000 [1:32:15<00:00,  3.61it/s]"
     ]
    },
    {
     "name": "stdout",
     "output_type": "stream",
     "text": [
      "tensor([[-0.2239, -0.3058, -0.4494,  ...,  0.0658, -0.0865,  0.0212],\n",
      "        [-0.3468, -0.4639, -0.6301,  ..., -0.1213, -0.1832, -0.1060],\n",
      "        [-0.1477, -0.2598, -0.4251,  ..., -0.0830, -0.2405, -0.0663],\n",
      "        ...,\n",
      "        [-0.1417, -0.2833, -0.5261,  ..., -0.1271, -0.3310, -0.1990],\n",
      "        [-0.1880, -0.3806, -0.6039,  ..., -0.1581, -0.3664, -0.2132],\n",
      "        [-0.2433, -0.3320, -0.5114,  ...,  0.1051, -0.0921, -0.1304]],\n",
      "       device='cuda:5')\n"
     ]
    },
    {
     "name": "stderr",
     "output_type": "stream",
     "text": [
      "\n"
     ]
    }
   ],
   "source": [
    "print(\"Running min_mySVGD\")\n",
    "\n",
    "\n",
    "x = x0.clone().requires_grad_()\n",
    "# sample from variational density\n",
    "\n",
    "lr = 0.001\n",
    "theta = etmySVGD(kernel,device,distribution,  k = 5).update(x0,  n_iter = 20000,   lr= lr)\n",
    "       \n",
    "\n",
    "particles = theta\n",
    "\n",
    "## save results\n",
    "pickle.dump(\n",
    "        {\n",
    "            **{\"x_true\": x_true},\n",
    "            **{\"u_true\": u_true},\n",
    "            **{\"particles\": particles},\n",
    "            **{\"time\": elapsed_time}\n",
    "        },\n",
    "open(results_folder + f\"/particles_AUmp_svgd_5_test1.p\", \"wb\")\n",
    ")\n",
    "\n",
    "print(particles)"
   ]
  },
  {
   "cell_type": "code",
   "execution_count": 13,
   "metadata": {},
   "outputs": [
    {
     "name": "stdout",
     "output_type": "stream",
     "text": [
      "Running min_mySVGD\n"
     ]
    },
    {
     "name": "stderr",
     "output_type": "stream",
     "text": [
      "100%|██████████| 20000/20000 [1:33:49<00:00,  3.55it/s]"
     ]
    },
    {
     "name": "stdout",
     "output_type": "stream",
     "text": [
      "tensor([[-0.2405, -0.3927, -0.5661,  ...,  0.0681, -0.0817,  0.0279],\n",
      "        [-0.1167, -0.2426, -0.4575,  ..., -0.1846, -0.1791, -0.1027],\n",
      "        [-0.1866, -0.3012, -0.4838,  ..., -0.0488, -0.2297, -0.0562],\n",
      "        ...,\n",
      "        [-0.2994, -0.4231, -0.5866,  ..., -0.1554, -0.2457, -0.1956],\n",
      "        [-0.1047, -0.2818, -0.4968,  ..., -0.0868, -0.4074, -0.2065],\n",
      "        [-0.2745, -0.4250, -0.5849,  ..., -0.0035, -0.0756, -0.1237]],\n",
      "       device='cuda:5')\n"
     ]
    },
    {
     "name": "stderr",
     "output_type": "stream",
     "text": [
      "\n"
     ]
    }
   ],
   "source": [
    "print(\"Running min_mySVGD\")\n",
    "\n",
    "\n",
    "x = x0.clone().requires_grad_()\n",
    "# sample from variational density\n",
    "\n",
    "lr = 0.001\n",
    "theta = etmySVGD(kernel,device,distribution,  k = 10).update(x0,  n_iter = 20000,   lr= lr)\n",
    "       \n",
    "\n",
    "particles = theta\n",
    "\n",
    "## save results\n",
    "pickle.dump(\n",
    "        {\n",
    "            **{\"x_true\": x_true},\n",
    "            **{\"u_true\": u_true},\n",
    "            **{\"particles\": particles},\n",
    "            **{\"time\": elapsed_time}\n",
    "        },\n",
    "open(results_folder + f\"/particles_AUmp_svgd_10_test1.p\", \"wb\")\n",
    ")\n",
    "\n",
    "print(particles)"
   ]
  },
  {
   "cell_type": "code",
   "execution_count": 14,
   "metadata": {},
   "outputs": [
    {
     "name": "stdout",
     "output_type": "stream",
     "text": [
      "Running S-SVGD\n"
     ]
    },
    {
     "name": "stderr",
     "output_type": "stream",
     "text": [
      "100%|██████████| 20000/20000 [2:15:57<00:00,  2.45it/s]  "
     ]
    },
    {
     "name": "stdout",
     "output_type": "stream",
     "text": [
      "tensor([[-0.2034, -0.4376, -0.6029,  ...,  0.0293, -0.1166, -0.0124],\n",
      "        [-0.0013, -0.0760, -0.5483,  ..., -0.2364, -0.2322, -0.1408],\n",
      "        [-0.1099, -0.2020, -0.5740,  ..., -0.0930, -0.2628, -0.0967],\n",
      "        ...,\n",
      "        [-0.4006, -0.4963, -0.5805,  ..., -0.1962, -0.2836, -0.2343],\n",
      "        [-0.0633, -0.3916, -0.4267,  ..., -0.1254, -0.4446, -0.2458],\n",
      "        [-0.2864, -0.5481, -0.6218,  ..., -0.0427, -0.1120, -0.1542]],\n",
      "       device='cuda:5', grad_fn=<CloneBackward0>)\n"
     ]
    },
    {
     "name": "stderr",
     "output_type": "stream",
     "text": [
      "\n"
     ]
    }
   ],
   "source": [
    "## S-SVGD\n",
    "# sample from variational density\n",
    "print(\"Running S-SVGD\")\n",
    "x_s_svgd = x0.clone().requires_grad_()\n",
    "s_svgd = SlicedSVGD(distribution, device=device)\n",
    "\n",
    "start = time.time()\n",
    "x_s_svgd, metric_s_svgd = s_svgd.fit(\n",
    "    samples=x_s_svgd, \n",
    "    n_epoch=epochs, \n",
    "    lr=lr_g,\n",
    "    eps=lr,\n",
    "    save_every=save_every\n",
    ")\n",
    "elapsed_time = time.time() - start\n",
    "\n",
    "fitted_method = s_svgd\n",
    "particles = x_s_svgd\n",
    "\n",
    "pickle.dump(\n",
    "{\n",
    "            **{\"x_true\": x_true},\n",
    "            **{\"u_true\": u_true},\n",
    "            **{\"particles\": particles},\n",
    "            **{\"time\": elapsed_time}\n",
    "        },\n",
    "open(results_folder + f\"/particles_ssvgd_test1.p\", \"wb\")\n",
    ")\n",
    "\n",
    "print(particles)"
   ]
  }
 ],
 "metadata": {
  "kernelspec": {
   "display_name": "Python 3.7.13 ('AG')",
   "language": "python",
   "name": "python3"
  },
  "language_info": {
   "codemirror_mode": {
    "name": "ipython",
    "version": 3
   },
   "file_extension": ".py",
   "mimetype": "text/x-python",
   "name": "python",
   "nbconvert_exporter": "python",
   "pygments_lexer": "ipython3",
   "version": "3.9.15"
  },
  "orig_nbformat": 4,
  "vscode": {
   "interpreter": {
    "hash": "28e57e6ed411ebe457d9d5e52f3313a26a0295904f732baf128c9b6661c268ce"
   }
  }
 },
 "nbformat": 4,
 "nbformat_minor": 2
}
