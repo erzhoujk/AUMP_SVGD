{
 "cells": [
  {
   "cell_type": "code",
   "execution_count": 1,
   "metadata": {},
   "outputs": [
    {
     "name": "stderr",
     "output_type": "stream",
     "text": [
      "/home/zhoujk/anaconda3/envs/AG/lib/python3.9/site-packages/tqdm/auto.py:22: TqdmWarning: IProgress not found. Please update jupyter and ipywidgets. See https://ipywidgets.readthedocs.io/en/stable/user_install.html\n",
      "  from .autonotebook import tqdm as notebook_tqdm\n"
     ]
    }
   ],
   "source": [
    "import os\n",
    "import numpy as np\n",
    "import pandas as pd\n",
    "import torch\n",
    "import torch.optim as optim\n",
    "from tqdm import trange\n",
    "from src.svgd import SVGD\n",
    "from src.gsvgd import FullGSVGDBatch\n",
    "from src.kernel import RBF, BatchRBF\n",
    "from src.manifold import Grassmann\n",
    "import torch.autograd as autograd\n",
    "from src.s_svgd import SlicedSVGD\n",
    "from src.diffusion import Diffusion\n",
    "from src.rand_mysvgd import mySVGD\n",
    "import pickle\n",
    "import argparse\n",
    "import time\n",
    "import numpyro\n",
    "from numpyro.infer import MCMC, NUTS\n",
    "import numpyro.distributions as npr_dist\n",
    "import jax.random as random\n",
    "import jax.numpy as jnp\n",
    "import jax\n",
    "from src.Tmy_svgd import etmySVGD"
   ]
  },
  {
   "cell_type": "code",
   "execution_count": 2,
   "metadata": {},
   "outputs": [],
   "source": [
    "parser = argparse.ArgumentParser(description=\"Running xshaped experiment.\")\n",
    "parser.add_argument(\"--dim\", type=int, default=50, help=\"dimension\")\n",
    "parser.add_argument(\"--effdim\", type=int, default=5, help=\"dimension\")\n",
    "parser.add_argument(\"--lr\", type=float, default=0.0001, help=\"learning rate\")\n",
    "parser.add_argument(\"--lr_g\", type=float, default=0.0001, help=\"learning rate for S-SVGD\")\n",
    "parser.add_argument(\n",
    "    \"--delta\", type=float, default=0.1, help=\"stepsize for projections\"\n",
    ")\n",
    "parser.add_argument(\n",
    "    \"--T\", type=float, default=1e-4, help=\"noise multiplier for projections\"\n",
    ")\n",
    "parser.add_argument(\"--nparticles\", type=int, default=2500, help=\"no. of particles\")\n",
    "parser.add_argument(\"--epochs\", type=int, default=20000, help=\"no. of epochs\")\n",
    "parser.add_argument(\"--noise\", type=str, default=\"True\", help=\"whether to add noise\")\n",
    "parser.add_argument(\"--kernel\", type=str, default=\"rbf\", help=\"kernel\")\n",
    "parser.add_argument(\"--gpu\", type=int, default=3, help=\"gpu\")\n",
    "parser.add_argument(\"--seed\", type=int, default=2, help=\"random seed\")\n",
    "parser.add_argument(\"--suffix\", type=str, default=\"\", help=\"suffix for res folder\")\n",
    "parser.add_argument(\"--method\", type=str, default=\"svgd\", help=\"svgd, gsvgd or s-svgd\")\n",
    "parser.add_argument(\"--save_every\", type=int, default=100, help=\"batch size\")\n",
    "\n",
    "args = parser.parse_args([])"
   ]
  },
  {
   "cell_type": "code",
   "execution_count": 3,
   "metadata": {},
   "outputs": [
    {
     "name": "stdout",
     "output_type": "stream",
     "text": [
      "Running for lr: 0.0001, nparticles: 2500\n"
     ]
    }
   ],
   "source": [
    "dim = args.dim\n",
    "lr = args.lr\n",
    "lr_g = args.lr_g\n",
    "delta = args.delta\n",
    "T = args.T\n",
    "nparticles = args.nparticles\n",
    "epochs = args.epochs\n",
    "seed = args.seed\n",
    "eff_dims = 10\n",
    "add_noise = True if args.noise == \"True\" else False\n",
    "save_every = args.save_every  # save metric values every 100 epochs\n",
    "print(f\"Running for lr: {lr}, nparticles: {nparticles}\")\n",
    "\n",
    "device = torch.device(f\"cuda:{args.gpu}\" if args.gpu != -1 else \"cpu\")\n"
   ]
  },
  {
   "cell_type": "code",
   "execution_count": 4,
   "metadata": {},
   "outputs": [],
   "source": [
    "results_folder = f\"./res/diffusion{args.suffix}/{args.kernel}_epoch{epochs}_lr{lr}_delta{delta}_n{nparticles}_dim{dim}\"\n",
    "results_folder = f\"{results_folder}/seed{seed}\""
   ]
  },
  {
   "cell_type": "code",
   "execution_count": 5,
   "metadata": {},
   "outputs": [
    {
     "data": {
      "text/plain": [
       "'./res/diffusion/rbf_epoch20000_lr0.0001_delta0.1_n2500_dim50/seed2'"
      ]
     },
     "execution_count": 5,
     "metadata": {},
     "output_type": "execute_result"
    }
   ],
   "source": [
    "results_folder"
   ]
  },
  {
   "cell_type": "code",
   "execution_count": 6,
   "metadata": {},
   "outputs": [
    {
     "data": {
      "text/plain": [
       "'1.13.0'"
      ]
     },
     "execution_count": 6,
     "metadata": {},
     "output_type": "execute_result"
    }
   ],
   "source": [
    "torch.__version__"
   ]
  },
  {
   "cell_type": "code",
   "execution_count": 7,
   "metadata": {},
   "outputs": [],
   "source": [
    "if not os.path.exists(results_folder):\n",
    "    os.makedirs(results_folder)\n",
    "\n",
    "if args.kernel == \"rbf\":\n",
    "    Kernel = RBF\n",
    "    BatchKernel = BatchRBF"
   ]
  },
  {
   "cell_type": "code",
   "execution_count": 8,
   "metadata": {},
   "outputs": [
    {
     "name": "stdout",
     "output_type": "stream",
     "text": [
      "Device: cuda:3\n"
     ]
    }
   ],
   "source": [
    "print(f\"Device: {device}\")\n",
    "torch.manual_seed(seed)\n",
    "np.random.seed(seed)\n",
    "\n",
    "## initialize conditional diffusion\n",
    "beta = 5\n",
    "sigma = 0.1\n",
    "\n",
    "distribution = Diffusion(dim, beta, device=device)\n",
    "\n",
    "loc = torch.arange(0, dim+1, 1)[1:]\n",
    "distribution.loc = loc\n",
    "noise_covariance = torch.diag(sigma**2 * torch.ones(len(loc), device=device))\n",
    "distribution.set_noise_covariance(noise_covariance)\n",
    "distribution.set_C()\n",
    "\n",
    "x_true = distribution.brownian_motion((1, dim))\n",
    "u_true = distribution.solution(x_true)\n",
    "\n",
    "obs_noise = torch.normal(0, sigma, size=(1, len(loc))).to(device)\n",
    "obs = u_true[:, loc] + obs_noise\n",
    "distribution.obs = obs\n",
    "\n",
    "# initialize particles\n",
    "x0 = distribution.brownian_motion((nparticles, dim))\n",
    "\n",
    "C = distribution.C.cpu().numpy()\n",
    "dt = distribution.dt.cpu().numpy()\n",
    "loc = distribution.loc.cpu().numpy()\n",
    "beta = distribution.beta\n",
    "\n",
    "\n"
   ]
  },
  {
   "cell_type": "code",
   "execution_count": 9,
   "metadata": {},
   "outputs": [
    {
     "name": "stdout",
     "output_type": "stream",
     "text": [
      "Running SVGD\n"
     ]
    }
   ],
   "source": [
    "## SVGD\n",
    "print(\"Running SVGD\")\n",
    "x = x0.clone().requires_grad_()\n",
    "# sample from variational density\n",
    "kernel = Kernel(method=\"med_heuristic\")"
   ]
  },
  {
   "cell_type": "code",
   "execution_count": 10,
   "metadata": {},
   "outputs": [
    {
     "name": "stdout",
     "output_type": "stream",
     "text": [
      "Running SVGD\n"
     ]
    },
    {
     "name": "stderr",
     "output_type": "stream",
     "text": [
      "100%|██████████| 20000/20000 [12:09<00:00, 27.42it/s]"
     ]
    },
    {
     "name": "stdout",
     "output_type": "stream",
     "text": [
      "tensor([[-0.0484, -0.0274, -0.1041,  ..., -0.2649, -0.2524, -0.1976],\n",
      "        [-0.0739, -0.0474, -0.1151,  ...,  0.1220,  0.2054,  0.1763],\n",
      "        [-0.3630, -0.3516, -0.3474,  ...,  0.8955,  0.9117,  0.7918],\n",
      "        ...,\n",
      "        [-0.0681,  0.0053, -0.0250,  ..., -0.1095, -0.1279, -0.0886],\n",
      "        [-0.0660, -0.0190, -0.0514,  ..., -0.2198, -0.0550, -0.1299],\n",
      "        [-0.1246, -0.1137, -0.1550,  ...,  0.1209,  0.1719,  0.1737]],\n",
      "       device='cuda:3', requires_grad=True)\n",
      "torch.Size([2500, 50])\n"
     ]
    },
    {
     "name": "stderr",
     "output_type": "stream",
     "text": [
      "\n"
     ]
    }
   ],
   "source": [
    "## SVGD\n",
    "print(\"Running SVGD\")\n",
    "x = x0.clone().requires_grad_()\n",
    "# sample from variational density\n",
    "kernel = Kernel(method=\"med_heuristic\")\n",
    "svgd = SVGD(distribution, kernel, optim.Adam([x], lr=lr), device=device)\n",
    "\n",
    "start = time.time()\n",
    "svgd.fit(x, epochs=20000, save_every=save_every)\n",
    "elapsed_time = time.time() - start\n",
    "\n",
    "fitted_method = svgd\n",
    "#particles = fitted_method.particles\n",
    "particles = x\n",
    "\n",
    "method_name = \"svgd\"\n",
    "\n",
    "\n",
    "print(x)\n",
    "## save results\n",
    "pickle.dump(\n",
    "     {\n",
    "            **{\"x_true\": x_true},\n",
    "            **{\"u_true\": u_true},\n",
    "            **{\"particles\": particles},\n",
    "           **{\"time\": elapsed_time}\n",
    "    },\n",
    "    open(results_folder + f\"/particles_svgd1.p\", \"wb\")\n",
    ")\n",
    "\n",
    "# target distribution\n",
    "torch.save(distribution, results_folder + '/target_dist.p')\n",
    "print(x.shape)"
   ]
  },
  {
   "cell_type": "code",
   "execution_count": 11,
   "metadata": {},
   "outputs": [
    {
     "name": "stdout",
     "output_type": "stream",
     "text": [
      "Running min_mySVGD\n"
     ]
    },
    {
     "name": "stderr",
     "output_type": "stream",
     "text": [
      "100%|██████████| 20000/20000 [1:33:29<00:00,  3.57it/s]"
     ]
    },
    {
     "name": "stdout",
     "output_type": "stream",
     "text": [
      "tensor([[-0.0786, -0.0450, -0.2621,  ..., -0.3847, -0.1322, -0.0451],\n",
      "        [-0.0110,  0.1066,  0.0248,  ..., -0.2259,  0.0065,  0.0650],\n",
      "        [-0.1137, -0.0257, -0.1004,  ..., -0.0234,  0.0562,  0.1070],\n",
      "        ...,\n",
      "        [-0.0624, -0.0858, -0.0348,  ..., -0.1806, -0.1323, -0.1273],\n",
      "        [-0.0194,  0.1067,  0.0101,  ..., -0.3722, -0.2851, -0.2092],\n",
      "        [-0.0978, -0.1153, -0.1604,  ..., -0.0918, -0.0114,  0.0280]],\n",
      "       device='cuda:3')\n"
     ]
    },
    {
     "name": "stderr",
     "output_type": "stream",
     "text": [
      "\n"
     ]
    }
   ],
   "source": [
    "print(\"Running min_mySVGD\")\n",
    "\n",
    "\n",
    "x = x0.clone().requires_grad_()\n",
    "# sample from variational density\n",
    "\n",
    "lr = 0.001\n",
    "theta = etmySVGD(kernel,device,distribution,  k = 2).update(x0,   n_iter = 20000,   lr= lr)\n",
    "       \n",
    "\n",
    "particles = theta\n",
    "\n",
    "elapsed_time =0 \n",
    "## save results\n",
    "pickle.dump(\n",
    "        {\n",
    "            **{\"x_true\": x_true},\n",
    "            **{\"u_true\": u_true},\n",
    "            **{\"particles\": particles},\n",
    "            **{\"time\": elapsed_time}\n",
    "        },\n",
    "open(results_folder + f\"/particles_AUmp_svgd_2_test3.p\", \"wb\")\n",
    ")\n",
    "\n",
    "print(particles)"
   ]
  },
  {
   "cell_type": "code",
   "execution_count": 12,
   "metadata": {},
   "outputs": [
    {
     "name": "stdout",
     "output_type": "stream",
     "text": [
      "Running min_mySVGD\n"
     ]
    },
    {
     "name": "stderr",
     "output_type": "stream",
     "text": [
      "100%|██████████| 20000/20000 [1:32:41<00:00,  3.60it/s]"
     ]
    },
    {
     "name": "stdout",
     "output_type": "stream",
     "text": [
      "tensor([[-0.0833, -0.0465, -0.2434,  ..., -0.3307, -0.1971, -0.0585],\n",
      "        [-0.0022,  0.1132,  0.0611,  ..., -0.2780, -0.0420,  0.0516],\n",
      "        [-0.0314, -0.0040, -0.0454,  ...,  0.0079,  0.0464,  0.1003],\n",
      "        ...,\n",
      "        [-0.0627, -0.0841, -0.0366,  ..., -0.2511, -0.1439, -0.1408],\n",
      "        [ 0.0291,  0.0679,  0.0041,  ..., -0.3703, -0.3182, -0.2092],\n",
      "        [-0.0977, -0.1139, -0.1548,  ..., -0.1591, -0.0341,  0.0146]],\n",
      "       device='cuda:3')\n"
     ]
    },
    {
     "name": "stderr",
     "output_type": "stream",
     "text": [
      "\n"
     ]
    }
   ],
   "source": [
    "print(\"Running min_mySVGD\")\n",
    "\n",
    "\n",
    "x = x0.clone().requires_grad_()\n",
    "# sample from variational density\n",
    "\n",
    "lr = 0.001\n",
    "theta = etmySVGD(kernel,device,distribution,  k = 5).update(x0,   n_iter = 20000,   lr= lr)\n",
    "       \n",
    "\n",
    "particles = theta\n",
    "\n",
    "elapsed_time =0 \n",
    "## save results\n",
    "pickle.dump(\n",
    "        {\n",
    "            **{\"x_true\": x_true},\n",
    "            **{\"u_true\": u_true},\n",
    "            **{\"particles\": particles},\n",
    "            **{\"time\": elapsed_time}\n",
    "        },\n",
    "open(results_folder + f\"/particles_AUmp_svgd_5_test3.p\", \"wb\")\n",
    ")\n",
    "\n",
    "print(particles)\n"
   ]
  },
  {
   "cell_type": "code",
   "execution_count": 13,
   "metadata": {},
   "outputs": [
    {
     "name": "stdout",
     "output_type": "stream",
     "text": [
      "Running min_mySVGD\n"
     ]
    },
    {
     "name": "stderr",
     "output_type": "stream",
     "text": [
      "100%|██████████| 20000/20000 [1:32:03<00:00,  3.62it/s]"
     ]
    },
    {
     "name": "stdout",
     "output_type": "stream",
     "text": [
      "tensor([[-0.0861, -0.0490, -0.2318,  ..., -0.3796, -0.2823, -0.0552],\n",
      "        [ 0.0255,  0.0682,  0.0022,  ..., -0.2502, -0.0336,  0.0549],\n",
      "        [ 0.0115, -0.0527, -0.1295,  ..., -0.0350, -0.0472,  0.0969],\n",
      "        ...,\n",
      "        [-0.0660, -0.0828, -0.0399,  ..., -0.2397, -0.1170, -0.1341],\n",
      "        [ 0.0260,  0.0552, -0.0105,  ..., -0.3377, -0.2979, -0.2024],\n",
      "        [-0.1856, -0.1353, -0.1478,  ..., -0.0676,  0.0490,  0.0180]],\n",
      "       device='cuda:3')\n"
     ]
    },
    {
     "name": "stderr",
     "output_type": "stream",
     "text": [
      "\n"
     ]
    }
   ],
   "source": [
    "print(\"Running min_mySVGD\")\n",
    "\n",
    "\n",
    "x = x0.clone().requires_grad_()\n",
    "# sample from variational density\n",
    "\n",
    "lr = 0.001\n",
    "theta = etmySVGD(kernel,device,distribution,  k = 10).update(x0,  n_iter = 20000,   lr= lr)\n",
    "       \n",
    "\n",
    "particles = theta\n",
    "\n",
    "## save results\n",
    "pickle.dump(\n",
    "        {\n",
    "            **{\"x_true\": x_true},\n",
    "            **{\"u_true\": u_true},\n",
    "            **{\"particles\": particles},\n",
    "            **{\"time\": elapsed_time}\n",
    "        },\n",
    "open(results_folder + f\"/particles_AUmp_svgd_10_test3.p\", \"wb\")\n",
    ")\n",
    "\n",
    "print(particles)"
   ]
  },
  {
   "cell_type": "code",
   "execution_count": 14,
   "metadata": {},
   "outputs": [
    {
     "name": "stdout",
     "output_type": "stream",
     "text": [
      "Running S-SVGD\n"
     ]
    },
    {
     "name": "stderr",
     "output_type": "stream",
     "text": [
      "100%|██████████| 20000/20000 [2:15:40<00:00,  2.46it/s]  "
     ]
    },
    {
     "name": "stdout",
     "output_type": "stream",
     "text": [
      "tensor([[-0.0642, -0.0625, -0.3671,  ..., -0.3944, -0.2932, -0.0645],\n",
      "        [ 0.0601,  0.0927,  0.0366,  ..., -0.2696, -0.0451,  0.0337],\n",
      "        [ 0.0533, -0.0822, -0.1775,  ..., -0.0572, -0.0545,  0.0883],\n",
      "        ...,\n",
      "        [-0.0646, -0.1176, -0.0204,  ..., -0.2579, -0.1275, -0.1460],\n",
      "        [ 0.0549,  0.0809,  0.0119,  ..., -0.3554, -0.3223, -0.2090],\n",
      "        [-0.2589, -0.1724, -0.1759,  ..., -0.0706,  0.0318,  0.0094]],\n",
      "       device='cuda:3', grad_fn=<CloneBackward0>)\n"
     ]
    },
    {
     "name": "stderr",
     "output_type": "stream",
     "text": [
      "\n"
     ]
    }
   ],
   "source": [
    "## S-SVGD\n",
    "# sample from variational density\n",
    "print(\"Running S-SVGD\")\n",
    "x_s_svgd = x0.clone().requires_grad_()\n",
    "s_svgd = SlicedSVGD(distribution, device=device)\n",
    "\n",
    "start = time.time()\n",
    "x_s_svgd, metric_s_svgd = s_svgd.fit(\n",
    "    samples=x_s_svgd, \n",
    "    n_epoch=epochs, \n",
    "    lr=lr_g,\n",
    "    eps=lr,\n",
    "    save_every=save_every\n",
    ")\n",
    "elapsed_time = time.time() - start\n",
    "\n",
    "fitted_method = s_svgd\n",
    "particles = x_s_svgd\n",
    "\n",
    "pickle.dump(\n",
    "{\n",
    "            **{\"x_true\": x_true},\n",
    "            **{\"u_true\": u_true},\n",
    "            **{\"particles\": particles},\n",
    "            **{\"time\": elapsed_time}\n",
    "        },\n",
    "open(results_folder + f\"/particles_ssvgd_test3.p\", \"wb\")\n",
    ")\n",
    "\n",
    "print(particles)"
   ]
  }
 ],
 "metadata": {
  "kernelspec": {
   "display_name": "Python 3.7.13 ('AG')",
   "language": "python",
   "name": "python3"
  },
  "language_info": {
   "codemirror_mode": {
    "name": "ipython",
    "version": 3
   },
   "file_extension": ".py",
   "mimetype": "text/x-python",
   "name": "python",
   "nbconvert_exporter": "python",
   "pygments_lexer": "ipython3",
   "version": "3.9.15"
  },
  "orig_nbformat": 4,
  "vscode": {
   "interpreter": {
    "hash": "28e57e6ed411ebe457d9d5e52f3313a26a0295904f732baf128c9b6661c268ce"
   }
  }
 },
 "nbformat": 4,
 "nbformat_minor": 2
}
