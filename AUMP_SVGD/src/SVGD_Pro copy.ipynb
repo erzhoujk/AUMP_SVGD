{
 "cells": [
  {
   "cell_type": "code",
   "execution_count": 1,
   "metadata": {},
   "outputs": [],
   "source": [
    "import torch\n",
    "import torch.optim as optim\n",
    "import torch.autograd as autograd\n",
    "import autograd.numpy as np\n",
    "from tqdm import tqdm, trange\n",
    "from kernel import RBF\n",
    "\n",
    "\n",
    "from svgd import SVGD\n",
    "import argparse\n",
    "\n",
    "from utils import plot_particles\n",
    "import torch.distributions as D\n",
    "import torch.nn.functional as F\n",
    "import matplotlib.pyplot as plt\n",
    "from scipy.spatial.distance import pdist, squareform"
   ]
  },
  {
   "cell_type": "code",
   "execution_count": 2,
   "metadata": {},
   "outputs": [
    {
     "data": {
      "text/plain": [
       "_StoreAction(option_strings=['--method'], dest='method', nargs=None, const=None, default='all', type=<class 'str'>, choices=None, required=False, help='which method to use', metavar=None)"
      ]
     },
     "execution_count": 2,
     "metadata": {},
     "output_type": "execute_result"
    }
   ],
   "source": [
    "parser = argparse.ArgumentParser(description='Running xshaped experiment.')\n",
    "\n",
    "parser.add_argument('--dim', type=int, default=9, help='dimension')\n",
    "\n",
    "parser.add_argument('--effdim', type=int, default=-1, help='dimension')\n",
    "parser.add_argument('--lr', type=float, default=0.01, help='learning rate')\n",
    "parser.add_argument('--delta', type=float,default=0.01,help='stepsize for projections')\n",
    "parser.add_argument('--T', type=float, default=1e-4, help='noise multiplier for projections')\n",
    "parser.add_argument('--lr_g', type=float, default=0.1, help='learning rate for g')\n",
    "parser.add_argument('--nparticles', type=int,default=50, help='no. of particles')\n",
    "parser.add_argument('--epochs', type=int, default=20000, help='no. of epochs')\n",
    "parser.add_argument('--metric', type=str, default=\"energy\", help='distance metric')\n",
    "parser.add_argument('--noise', type=str, default=\"True\", help='whether to add noise')\n",
    "parser.add_argument('--kernel', type=str, default=\"rbf\", help='kernel')\n",
    "parser.add_argument('--gpu', type=int, default=0, help='gpu')\n",
    "parser.add_argument('--seed', type=int, default=235, help='random seed')\n",
    "parser.add_argument('--suffix', type=str, default=\"\", help='suffix for res folder')\n",
    "parser.add_argument('--m', type=int, help='no. of projections')\n",
    "parser.add_argument('--save_every', type=int, default=200, help='step intervals to save particles')\n",
    "parser.add_argument('--method', type=str, default=\"all\", help='which method to use')"
   ]
  },
  {
   "cell_type": "code",
   "execution_count": 3,
   "metadata": {},
   "outputs": [
    {
     "name": "stdout",
     "output_type": "stream",
     "text": [
      "Running for dim: 9, lr: 0.01, nparticles: 50\n"
     ]
    }
   ],
   "source": [
    "args = parser.parse_args([])\n",
    "dim = args.dim\n",
    "lr = args.lr\n",
    "lr_gsvgd = args.lr\n",
    "delta = args.delta\n",
    "T = args.T\n",
    "nparticles = args.nparticles\n",
    "epochs = args.epochs\n",
    "seed = args.seed\n",
    "eff_dims = [args.effdim] if args.effdim > 0 else [1, 2, 5]\n",
    "save_every = args.save_every # save metric values\n",
    "print(f\"Running for dim: {dim}, lr: {lr}, nparticles: {nparticles}\")\n",
    "\n",
    "device = torch.device(f'cuda:{args.gpu}' if args.gpu != -1 else 'cpu')\n",
    "\n",
    "metric = args.metric\n",
    "Kernel = RBF\n",
    "kernel = Kernel(method=\"med_heuristic\")"
   ]
  },
  {
   "cell_type": "code",
   "execution_count": 4,
   "metadata": {},
   "outputs": [
    {
     "name": "stdout",
     "output_type": "stream",
     "text": [
      "Device: cuda:0\n"
     ]
    }
   ],
   "source": [
    "print(f\"Device: {device}\")\n",
    "torch.manual_seed(seed)\n",
    "\n",
    "## target density\n",
    "means = torch.zeros(dim, device=device)\n",
    "\n",
    "torch.manual_seed(0)\n",
    "\n",
    "'''\n",
    "A = torch.randn(dim,dim).to('cuda') * 0.9\n",
    "A = torch.matmul(A, A.T)\n",
    "m = torch.max(A) \n",
    "B = torch.eye(dim).to('cuda') * m + 0.1\n",
    "diag = torch.diag(A)\n",
    "cov = A + B \n",
    "'''\n",
    "\n",
    "cov = torch.eye(dim, device=device)\n",
    "\n",
    "distribution = D.MultivariateNormal(means.to(device), cov)\n",
    "\n",
    "# sample from target (for computing metric)\n",
    "x_target = distribution.sample((nparticles, ))\n",
    "# sample from variational density\n",
    "torch.manual_seed(235)\n",
    "x_init = 2 + np.sqrt(2) * torch.randn(nparticles, *distribution.event_shape, device=device)"
   ]
  },
  {
   "cell_type": "code",
   "execution_count": 5,
   "metadata": {},
   "outputs": [
    {
     "name": "stdout",
     "output_type": "stream",
     "text": [
      "Running SVGD\n"
     ]
    },
    {
     "name": "stderr",
     "output_type": "stream",
     "text": [
      "100%|██████████| 20000/20000 [01:33<00:00, 214.36it/s]\n",
      "/home/zhoujk/anaconda3/envs/AG/lib/python3.9/site-packages/torch/functional.py:504: UserWarning: torch.meshgrid: in an upcoming release, it will be required to pass the indexing argument. (Triggered internally at /opt/conda/conda-bld/pytorch_1666643016022/work/aten/src/ATen/native/TensorShape.cpp:3190.)\n",
      "  return _VF.meshgrid(tensors, **kwargs)  # type: ignore[attr-defined]\n"
     ]
    },
    {
     "data": {
      "image/png": "[encoded data removed]",
      "text/plain": [
       "<Figure size 1200x600 with 2 Axes>"
      ]
     },
     "metadata": {},
     "output_type": "display_data"
    }
   ],
   "source": [
    "## SVGD\n",
    "Kernel = RBF\n",
    "if args.method in [\"SVGD\", \"all\"]:\n",
    "    print(\"Running SVGD\")\n",
    "    # sample from variational density\n",
    "    x = x_init.clone().to(device)\n",
    "    kernel = Kernel(method=\"med_heuristic\")\n",
    "    svgd = SVGD(distribution, kernel, optim.Adam([x], lr=lr), device=device)\n",
    "   \n",
    "    svgd.fit(x, epochs, verbose=True, save_every=save_every)\n",
    "    \n",
    "\n",
    "    # plot particles\n",
    "    fig_svgd = plot_particles(\n",
    "        x_init.detach(), \n",
    "        x.detach(), \n",
    "        distribution, \n",
    "        d=6.0, \n",
    "        step=0.1, \n",
    "        concat=means[2:]\n",
    "    )"
   ]
  },
  {
   "cell_type": "code",
   "execution_count": 6,
   "metadata": {},
   "outputs": [
    {
     "name": "stdout",
     "output_type": "stream",
     "text": [
      "tensor(2.0958, device='cuda:0')\n",
      "tensor([[ 3.0243e-01, -2.0052e-03, -4.6953e-04, -2.7119e-03,  2.6428e-03,\n",
      "         -6.7554e-04,  1.1521e-04, -5.8981e-04,  4.2101e-04],\n",
      "        [-2.0052e-03,  3.0461e-01, -1.7522e-03,  2.8213e-03, -4.5008e-04,\n",
      "          1.5597e-03,  1.8954e-04,  1.6362e-03,  1.5615e-03],\n",
      "        [-4.6953e-04, -1.7522e-03,  2.9577e-01,  2.8461e-03,  1.3269e-03,\n",
      "          5.8264e-04, -2.5602e-03, -3.0923e-04, -1.0410e-03],\n",
      "        [-2.7119e-03,  2.8213e-03,  2.8461e-03,  2.9960e-01,  4.9211e-04,\n",
      "          3.0570e-03,  2.1961e-04, -5.1522e-04,  1.1690e-03],\n",
      "        [ 2.6428e-03, -4.5008e-04,  1.3269e-03,  4.9211e-04,  3.0064e-01,\n",
      "         -4.4346e-03,  1.2516e-03,  8.3240e-04, -4.9867e-04],\n",
      "        [-6.7554e-04,  1.5597e-03,  5.8264e-04,  3.0570e-03, -4.4346e-03,\n",
      "          3.0106e-01, -4.5306e-04,  1.5895e-03,  3.4017e-04],\n",
      "        [ 1.1521e-04,  1.8954e-04, -2.5602e-03,  2.1961e-04,  1.2516e-03,\n",
      "         -4.5306e-04,  3.0194e-01,  8.3113e-04, -2.2165e-03],\n",
      "        [-5.8981e-04,  1.6362e-03, -3.0923e-04, -5.1522e-04,  8.3240e-04,\n",
      "          1.5895e-03,  8.3113e-04,  3.0128e-01,  5.2560e-04],\n",
      "        [ 4.2101e-04,  1.5615e-03, -1.0410e-03,  1.1690e-03, -4.9867e-04,\n",
      "          3.4017e-04, -2.2165e-03,  5.2560e-04,  3.0551e-01]], device='cuda:0')\n",
      "tensor([[ 6.9757e-01,  2.0052e-03,  4.6953e-04,  2.7119e-03, -2.6428e-03,\n",
      "          6.7554e-04, -1.1521e-04,  5.8981e-04, -4.2101e-04],\n",
      "        [ 2.0052e-03,  6.9539e-01,  1.7522e-03, -2.8213e-03,  4.5008e-04,\n",
      "         -1.5597e-03, -1.8954e-04, -1.6362e-03, -1.5615e-03],\n",
      "        [ 4.6953e-04,  1.7522e-03,  7.0423e-01, -2.8461e-03, -1.3269e-03,\n",
      "         -5.8264e-04,  2.5602e-03,  3.0923e-04,  1.0410e-03],\n",
      "        [ 2.7119e-03, -2.8213e-03, -2.8461e-03,  7.0040e-01, -4.9211e-04,\n",
      "         -3.0570e-03, -2.1961e-04,  5.1522e-04, -1.1690e-03],\n",
      "        [-2.6428e-03,  4.5008e-04, -1.3269e-03, -4.9211e-04,  6.9936e-01,\n",
      "          4.4346e-03, -1.2516e-03, -8.3240e-04,  4.9867e-04],\n",
      "        [ 6.7554e-04, -1.5597e-03, -5.8264e-04, -3.0570e-03,  4.4346e-03,\n",
      "          6.9894e-01,  4.5306e-04, -1.5895e-03, -3.4017e-04],\n",
      "        [-1.1521e-04, -1.8954e-04,  2.5602e-03, -2.1961e-04, -1.2516e-03,\n",
      "          4.5306e-04,  6.9806e-01, -8.3113e-04,  2.2165e-03],\n",
      "        [ 5.8981e-04, -1.6362e-03,  3.0923e-04,  5.1522e-04, -8.3240e-04,\n",
      "         -1.5895e-03, -8.3113e-04,  6.9872e-01, -5.2560e-04],\n",
      "        [-4.2101e-04, -1.5615e-03,  1.0410e-03, -1.1690e-03,  4.9867e-04,\n",
      "         -3.4017e-04,  2.2165e-03, -5.2560e-04,  6.9449e-01]], device='cuda:0')\n"
     ]
    },
    {
     "data": {
      "image/png": "[encoded data removed]",
      "text/plain": [
       "<Figure size 640x480 with 1 Axes>"
      ]
     },
     "metadata": {},
     "output_type": "display_data"
    }
   ],
   "source": [
    "theta  = x\n",
    "index_svgd = []\n",
    "samn_svgd = []\n",
    "for i in range(theta.shape[0]):\n",
    "    samn_svgd.append(torch.linalg.norm(theta[i,:].cpu()).item())\n",
    "    index_svgd.append(i)\n",
    "\n",
    "import matplotlib.pyplot as plt\n",
    "plt.scatter(index_svgd, samn_svgd, c='blue')\n",
    "cov_svgd = torch.cov(theta.T)\n",
    "print(torch.linalg.norm(cov - cov_svgd))\n",
    "print(cov_svgd)\n",
    "print(cov - cov_svgd)"
   ]
  }
 ],
 "metadata": {
  "kernelspec": {
   "display_name": "Python 3.9.15 ('AG')",
   "language": "python",
   "name": "python3"
  },
  "language_info": {
   "codemirror_mode": {
    "name": "ipython",
    "version": 3
   },
   "file_extension": ".py",
   "mimetype": "text/x-python",
   "name": "python",
   "nbconvert_exporter": "python",
   "pygments_lexer": "ipython3",
   "version": "3.9.15"
  },
  "orig_nbformat": 4,
  "vscode": {
   "interpreter": {
    "hash": "28e57e6ed411ebe457d9d5e52f3313a26a0295904f732baf128c9b6661c268ce"
   }
  }
 },
 "nbformat": 4,
 "nbformat_minor": 2
}
