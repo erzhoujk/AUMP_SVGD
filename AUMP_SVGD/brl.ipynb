{
 "cells": [
  {
   "cell_type": "code",
   "execution_count": 3,
   "metadata": {},
   "outputs": [],
   "source": [
    "import os\n",
    "import matplotlib.pyplot as plt \n",
    "import pickle\n",
    "import numpy as np\n",
    "import torch\n",
    "import argparse\n",
    "\n",
    "device = torch.device('cuda' if torch.cuda.is_available() else 'cpu')\n",
    "\n",
    "\n",
    "resdir_svgd = \"/home/zhoujk/res/blr/rbf_epoch40_lr0.001_delta0.1_n2500/seed0\"\n",
    "resdir_ssvgd = \"/home/zhoujk/res/blr/rbf_epoch40_lr0.001_delta0.1_n2000/seed0\"\n",
    "resdir_hmc = \"/home/zhoujk/res/blr/rbf_epoch40_lr0.001_delta0.1_n2000/seed0\"\n",
    "\n",
    "resdir_AUmp_svgd = \"/home/zhoujk/res/blr/rbf_epoch40_lr0.001_delta0.1_n2500/seed0\" \n",
    "\n",
    "\n",
    "\n",
    "\n",
    "\n",
    "\n"
   ]
  },
  {
   "cell_type": "code",
   "execution_count": 6,
   "metadata": {},
   "outputs": [
    {
     "ename": "ModuleNotFoundError",
     "evalue": "No module named 'plotly'",
     "output_type": "error",
     "traceback": [
      "\u001b[0;31m---------------------------------------------------------------------------\u001b[0m",
      "\u001b[0;31mModuleNotFoundError\u001b[0m                       Traceback (most recent call last)",
      "Cell \u001b[0;32mIn [6], line 2\u001b[0m\n\u001b[1;32m      1\u001b[0m df_list \u001b[39m=\u001b[39m []\n\u001b[0;32m----> 2\u001b[0m \u001b[39mimport\u001b[39;00m \u001b[39mplotly\u001b[39;00m\u001b[39m.\u001b[39;00m\u001b[39mio\u001b[39;00m \u001b[39mas\u001b[39;00m \u001b[39mpio\u001b[39;00m\n\u001b[1;32m      3\u001b[0m pio\u001b[39m.\u001b[39mrenderers\u001b[39m.\u001b[39mdefault \u001b[39m=\u001b[39m \u001b[39m'\u001b[39m\u001b[39miframe_connected\u001b[39m\u001b[39m'\u001b[39m\n\u001b[1;32m      6\u001b[0m \u001b[39m# load results\u001b[39;00m\n",
      "\u001b[0;31mModuleNotFoundError\u001b[0m: No module named 'plotly'"
     ]
    }
   ],
   "source": [
    "df_list = []\n",
    "import plotly.io as pio\n",
    "pio.renderers.default = 'iframe_connected'\n",
    "   \n",
    "\n",
    "# load results\n",
    "svgd_res = pickle.load(open(f\"{resdir_svgd}/particles_svgd.p\", \"rb\"))\n",
    "ssvgd_res = pickle.load(open(f\"{resdir_ssvgd}/particles_s-svgd_lrg{0.001}.p\", \"rb\"))\n",
    "hmc_res = pickle.load(open(f\"{resdir_hmc}/particles_hmc.p\", \"rb\"))\n",
    "AUmp_svgd_res = pickle.load(open(f\"{resdir_AUmp_svgd}/particles_mysvgd.p\", \"rb\"))\n",
    "\n",
    "#particles_hmc = hmc_res[\"particles\"].cpu()\n",
    "\n",
    "method_ls = [hmc_res, svgd_res, ssvgd_res, AUmp_svgd_res]\n",
    "method_names = [\"HMC\", \"SVGD\", \"S-SVGD\",\"AUmp_svgd_2\"]\n",
    "\n",
    "\n",
    "    \n",
    "# load target distribution\n",
    "target_dist = torch.load(f\"/home/zhoujk/res/blr/rbf_epoch40_lr0.001_delta0.1_n2000/seed0/target_dist.p\", map_location=device)\n",
    "data = torch.load(f'/home/zhoujk/res/blr/rbf_epoch40_lr0.001_delta0.1_n2000/seed0/data.p', map_location=device)\n",
    "\n",
    "\n",
    "\n",
    "    ## plot solutions\n",
    "    \n",
    "for i, (res, method_name) in enumerate(zip(method_ls, method_names)):\n",
    "    print(\"Loading\", method_name)\n",
    "\n",
    "    if method_name == \"HMC\":\n",
    "      particles = res[\"particles\"].detach().cpu()\n",
    "    else:\n",
    "      particles = res[\"particles\"].detach().cpu()\n",
    "    print(method_name)\n",
    "    print(particles.shape)\n",
    "\n",
    "    # cov matrix\n",
    "    cov_matrix = np.cov(particles.T)\n",
    "\n",
    "    plt.subplot(2, 2, i+1)\n",
    "    plt.imshow(cov_matrix, vmin=-4, vmax=8)\n",
    "    plt.xticks(fontsize=10)\n",
    "    plt.yticks(fontsize=10)\n",
    "    plt.title(method_name, fontsize=10)\n",
    "    if i == len(method_names) - 1:\n",
    "      cbar = plt.colorbar()\n",
    "      cbar.ax.tick_params(labelsize=10)\n",
    "  \n",
    "plt.subplots_adjust(wspace=-0.3,  hspace=0.25)#调整子图间距"
   ]
  }
 ],
 "metadata": {
  "kernelspec": {
   "display_name": "Python 3.9.15 ('AG': conda)",
   "language": "python",
   "name": "python3"
  },
  "language_info": {
   "codemirror_mode": {
    "name": "ipython",
    "version": 3
   },
   "file_extension": ".py",
   "mimetype": "text/x-python",
   "name": "python",
   "nbconvert_exporter": "python",
   "pygments_lexer": "ipython3",
   "version": "3.9.15"
  },
  "orig_nbformat": 4,
  "vscode": {
   "interpreter": {
    "hash": "28e57e6ed411ebe457d9d5e52f3313a26a0295904f732baf128c9b6661c268ce"
   }
  }
 },
 "nbformat": 4,
 "nbformat_minor": 2
}
